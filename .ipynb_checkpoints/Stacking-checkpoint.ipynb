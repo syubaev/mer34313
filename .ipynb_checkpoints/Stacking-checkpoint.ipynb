{
 "cells": [
  {
   "cell_type": "code",
   "execution_count": 1,
   "metadata": {
    "collapsed": false
   },
   "outputs": [
    {
     "name": "stderr",
     "output_type": "stream",
     "text": [
      "/home/subaevdi/anaconda3/lib/python3.6/site-packages/sklearn/cross_validation.py:44: DeprecationWarning: This module was deprecated in version 0.18 in favor of the model_selection module into which all the refactored classes and functions are moved. Also note that the interface of the new CV iterators are different from that of this module. This module will be removed in 0.20.\n",
      "  \"This module will be removed in 0.20.\", DeprecationWarning)\n"
     ]
    }
   ],
   "source": [
    "import os\n",
    "import pickle\n",
    "import multiprocessing\n",
    "import itertools\n",
    "\n",
    "import numpy as np\n",
    "import pandas as pd\n",
    "import matplotlib.pyplot as plt\n",
    "import seaborn as sns\n",
    "from sklearn import preprocessing\n",
    "import xgboost as xgb\n",
    "\n",
    "\n",
    "from sklearn.preprocessing import StandardScaler, LabelEncoder\n",
    "from sklearn.metrics import r2_score\n",
    "from sklearn.decomposition import PCA, FastICA\n",
    "\n",
    "from sklearn.linear_model import SGDRegressor\n",
    "from sklearn.pipeline import Pipeline\n",
    "from sklearn.model_selection import GridSearchCV, StratifiedKFold, KFold, cross_val_predict\n",
    "\n",
    "color = sns.color_palette()\n",
    "\n",
    "%matplotlib inline\n",
    "\n",
    "pd.options.mode.chained_assignment = None  # default='warn'\n",
    "pd.options.display.max_columns = 100\n",
    "\n",
    "from subprocess import check_output\n",
    "\n",
    "from pyfm import pylibfm\n",
    "from sklearn.model_selection import train_test_split\n",
    "from scipy.sparse import csr_matrix\n",
    "from sklearn.preprocessing import normalize\n",
    "\n",
    "%load_ext autotime"
   ]
  },
  {
   "cell_type": "code",
   "execution_count": 2,
   "metadata": {
    "collapsed": false
   },
   "outputs": [
    {
     "name": "stdout",
     "output_type": "stream",
     "text": [
      "Train shape :  (4209, 379)\n",
      "Test shape :  (4209, 378)\n",
      "time: 827 ms\n"
     ]
    }
   ],
   "source": [
    "train = pd.read_csv(\"../data/train.csv\")\n",
    "test = pd.read_csv(\"../data/test.csv\")\n",
    "\n",
    "train['test'] = 0\n",
    "test['test'] = 1\n",
    "\n",
    "df = pd.concat([train, test], axis=0)\n",
    "y = train.y\n",
    "df = df.drop([\"ID\", \"y\"], axis=1)\n",
    "print(\"Train shape : \", train.shape)\n",
    "print(\"Test shape : \", test.shape)\n",
    "\n",
    "ix_train = df.test == 0\n",
    "ix_test = df.test == 1"
   ]
  },
  {
   "cell_type": "code",
   "execution_count": 3,
   "metadata": {
    "collapsed": false
   },
   "outputs": [
    {
     "name": "stdout",
     "output_type": "stream",
     "text": [
      "time: 14.6 ms\n"
     ]
    }
   ],
   "source": [
    "def pickle_check_model(predictors, model_file, bremove = False):\n",
    "    model_file = './../tmp/' + model_file\n",
    "    if bremove and os.path.isfile(model_file):\n",
    "        print(\"Removing old file\")\n",
    "        os.remove(model_file)\n",
    "    if not os.path.isfile(model_file):\n",
    "        print(\"Make grid search...\")\n",
    "        model = check_model(predictors)\n",
    "\n",
    "        with open(model_file, 'wb') as f:\n",
    "            pickle.dump(model, f)\n",
    "    else:\n",
    "        with open(model_file, 'rb') as f:\n",
    "            print(\"Load from file...\")\n",
    "            model = pickle.load(f)\n",
    "    print(model.best_score_)\n",
    "    print(model.best_params_)\n",
    "    return model"
   ]
  },
  {
   "cell_type": "code",
   "execution_count": 5,
   "metadata": {
    "collapsed": false
   },
   "outputs": [
    {
     "name": "stdout",
     "output_type": "stream",
     "text": [
      "time: 23.2 ms\n"
     ]
    }
   ],
   "source": [
    "feat_all = train.columns[2:]\n",
    "feat_categ = train.dtypes.index[train.dtypes == 'object']\n",
    "feat_numb = list(set(feat_all) - set(feat_categ))"
   ]
  },
  {
   "cell_type": "code",
   "execution_count": 6,
   "metadata": {
    "collapsed": false
   },
   "outputs": [
    {
     "name": "stdout",
     "output_type": "stream",
     "text": [
      "Load from file...\n",
      "0.511579804396\n",
      "{'en__alpha': 1e-05, 'en__l1_ratio': 1}\n",
      "time: 31.8 ms\n"
     ]
    }
   ],
   "source": [
    "t = pickle_check_model(feat_numb, '4_model.pkl', bremove=False)"
   ]
  },
  {
   "cell_type": "code",
   "execution_count": 25,
   "metadata": {
    "collapsed": false
   },
   "outputs": [
    {
     "name": "stderr",
     "output_type": "stream",
     "text": [
      "/home/subaevdi/anaconda3/lib/python3.6/site-packages/matplotlib/font_manager.py:1297: UserWarning: findfont: Font family ['sans-serif'] not found. Falling back to DejaVu Sans\n",
      "  (prop.get_family(), self.defaultFamily[fontext]))\n"
     ]
    },
    {
     "data": {
      "image/png": "[encoded data removed]",
      "text/plain": [
       "<matplotlib.figure.Figure at 0x7f8a68d69470>"
      ]
     },
     "metadata": {},
     "output_type": "display_data"
    },
    {
     "name": "stdout",
     "output_type": "stream",
     "text": [
      "time: 212 ms\n"
     ]
    }
   ],
   "source": [
    "a = t.best_estimator_.steps[0][1]\n",
    "df_tmp = pd.DataFrame({'col':feat_numb, 'val':a.coef_})\n",
    "df_tmp['abs_val'] = np.abs(df_tmp.val)\n",
    "df_tmp = df_tmp.sort_values('abs_val', ascending=False).reset_index()\n",
    "plt.plot(df_tmp.abs_val)\n",
    "feat_numb_top150 =list(df_tmp.col[:150])\n",
    "feat_numb_top200 =list(df_tmp.col[:200])"
   ]
  },
  {
   "cell_type": "code",
   "execution_count": 82,
   "metadata": {
    "collapsed": false
   },
   "outputs": [
    {
     "name": "stdout",
     "output_type": "stream",
     "text": [
      "time: 15.3 ms\n"
     ]
    }
   ],
   "source": [
    "kf = KFold(n_splits=5, shuffle=True, random_state=42)\n",
    "\n",
    "def one_model_pred(f_predict, columns = None, out_file_name=None):\n",
    "    if columns is None:\n",
    "        raise Exception(\"Col is None\")\n",
    "    if out_file_name is None:\n",
    "        raise Exception(\"out_file_name is None\")\n",
    "    X_stacking = np.empty(df.shape[0])\n",
    "    X = df[ix_train]; print(X.shape)\n",
    "    i = 0\n",
    "    for train_index, test_index in kf.split(X):\n",
    "        i = i + 1\n",
    "        print(\"Fold=\",i)\n",
    "        X_train, X_test = X.loc[train_index], X.loc[test_index]\n",
    "        y_train, y_test = y[train_index], y[test_index]\n",
    "        y_pred = f_predict(X_train, y_train, X_test, columns)\n",
    "        X_stacking[test_index] = y_pred\n",
    "        print(r2_score(y_test, y_pred))\n",
    "    print(\"KFold done!\")\n",
    "    X_stacking[ix_test] = xgb_fit(df[ix_train], y, df[ix_test], feat_numb_top200)\n",
    "    pd.DataFrame({'y_pred':X_stacking}).\\\n",
    "        to_csv(\"../y_pred/\" + out_file_name + \".csv\", index=False)\n",
    "    print(\"Done!\")\n",
    "    return None"
   ]
  },
  {
   "cell_type": "code",
   "execution_count": 56,
   "metadata": {
    "collapsed": false
   },
   "outputs": [
    {
     "name": "stdout",
     "output_type": "stream",
     "text": [
      "time: 12.8 ms\n"
     ]
    }
   ],
   "source": [
    "def xgb_fit(X_train, y_train, X_test, columns = None):\n",
    "    if columns is None:\n",
    "        raise Exception(\"Col are None\")\n",
    "    num_boost_rounds = 1200\n",
    "    \n",
    "    xgb_params = { \n",
    "        'eta': 0.005,\n",
    "        'max_depth': 4,\n",
    "        'subsample': 0.8,\n",
    "        'min_child_weight': 25,\n",
    "        'colsample_bytree': 0.8,\n",
    "        'objective': 'reg:linear',\n",
    "        'eval_metric': 'rmse',\n",
    "        'base_score': np.mean(y_train), # base prediction = mean(target)\n",
    "        'silent': 1,\n",
    "        'tree_method':'hist',\n",
    "        'seed':42,\n",
    "    #    'gamma': 0.05,\n",
    "        'alpha':0.3\n",
    "    }\n",
    "\n",
    "    dtrain = xgb.DMatrix(X_train[columns], y_train)\n",
    "    dtest = xgb.DMatrix(X_test[columns])\n",
    "    \n",
    "    \n",
    "    # train model\n",
    "    model = xgb.train(dict(xgb_params, silent=0), dtrain, num_boost_round=num_boost_rounds)\n",
    "    y_pred = model.predict(dtest)\n",
    "    return y_pred\n",
    "    "
   ]
  },
  {
   "cell_type": "code",
   "execution_count": 79,
   "metadata": {
    "collapsed": false
   },
   "outputs": [
    {
     "name": "stdout",
     "output_type": "stream",
     "text": [
      "time: 7.46 ms\n"
     ]
    }
   ],
   "source": []
  },
  {
   "cell_type": "code",
   "execution_count": 62,
   "metadata": {
    "collapsed": false
   },
   "outputs": [
    {
     "name": "stdout",
     "output_type": "stream",
     "text": [
      "Load from file...\n",
      "Load from file...\n",
      "time: 10.9 ms\n"
     ]
    }
   ],
   "source": [
    "if not os.path.isfile('./../tmp/model_score_list.pkl'):\n",
    "    with open('./../tmp/model_score_list.pkl', 'wb') as f:\n",
    "        pickle.dump(model_score_list, f)\n",
    "    with open('./../tmp/model_pairs_list.pkl', 'wb') as f:\n",
    "        pickle.dump(model_pairs_list, f)\n",
    "else:\n",
    "    with open('./../tmp/model_pairs_list.pkl', 'rb') as f:\n",
    "        print(\"Load from file...\")\n",
    "        model_pairs_list = pickle.load(f)\n",
    "    with open('./../tmp/model_score_list.pkl', 'rb') as f:\n",
    "        print(\"Load from file...\")\n",
    "        model_score_list = pickle.load(f)\n",
    "       "
   ]
  },
  {
   "cell_type": "code",
   "execution_count": 63,
   "metadata": {
    "collapsed": false
   },
   "outputs": [
    {
     "name": "stdout",
     "output_type": "stream",
     "text": [
      "time: 1.88 s\n"
     ]
    }
   ],
   "source": [
    "def woker_split(p_in):\n",
    "    p = p_in.split(\"_\")\n",
    "    f1 = p[0]\n",
    "    f2 = p[1]\n",
    "    df[p_in] = df[f1] * df[f2]\n",
    "    return p_in\n",
    "df_tmp = pd.DataFrame({'scr':model_score_list}) \n",
    "top_index = df_tmp.sort_values('scr', ascending=False).\\\n",
    "      head(5).index\n",
    "#for pairs_index in \n",
    "#_ = [woker_split(p) for p in model_pairs_list[pairs_index]]\n",
    "\n",
    "feat_pairs_in_top = sum([model_pairs_list[ind] for ind in top_index], [])\n",
    "feat_pairs_in_top = list(set(feat_pairs_in_top))\n",
    "\n",
    "# Add pairs to train\n",
    "_ = [woker_split(p) for p in feat_pairs_in_top]"
   ]
  },
  {
   "cell_type": "code",
   "execution_count": 57,
   "metadata": {
    "collapsed": false
   },
   "outputs": [
    {
     "name": "stdout",
     "output_type": "stream",
     "text": [
      "(4209, 377)\n",
      "Fold= 1\n",
      "0.582834199884\n",
      "Fold= 2\n",
      "0.429843661236\n",
      "Fold= 3\n",
      "0.601297376514\n",
      "Fold= 4\n",
      "0.613641290205\n",
      "Fold= 5\n",
      "0.597170866205\n",
      "time: 13.1 s\n"
     ]
    }
   ],
   "source": [
    "one_model_pred(xgb_fit, feat_numb_top200, 'xgb_feat_numb_top200_XGB2')"
   ]
  },
  {
   "cell_type": "code",
   "execution_count": 58,
   "metadata": {
    "collapsed": false
   },
   "outputs": [
    {
     "name": "stdout",
     "output_type": "stream",
     "text": [
      "(4209, 377)\n",
      "Fold= 1\n",
      "0.588035735666\n",
      "Fold= 2\n",
      "0.439067713113\n",
      "Fold= 3\n",
      "0.599509297869\n",
      "Fold= 4\n",
      "0.614879228576\n",
      "Fold= 5\n",
      "0.594274932349\n",
      "time: 18.3 s\n"
     ]
    }
   ],
   "source": [
    "one_model_pred(xgb_fit, feat_numb, 'xgb_feat_numb_XGB')"
   ]
  },
  {
   "cell_type": "code",
   "execution_count": 81,
   "metadata": {
    "collapsed": false
   },
   "outputs": [
    {
     "name": "stdout",
     "output_type": "stream",
     "text": [
      "(4209, 1768)\n",
      "Fold= 1\n",
      "0.5396535616\n",
      "Fold= 2\n",
      "0.38690821244\n",
      "Fold= 3\n",
      "0.551612469892\n",
      "Fold= 4\n",
      "0.571315124741\n",
      "Fold= 5\n",
      "0.533747988487\n",
      "(4209, 1768)\n",
      "Fold= 1\n",
      "0.527393762312\n",
      "Fold= 2\n",
      "0.380350231047\n",
      "Fold= 3\n",
      "0.536722460224\n",
      "Fold= 4\n",
      "0.555330928589\n",
      "Fold= 5\n",
      "0.510047934234\n",
      "(4209, 1768)\n",
      "Fold= 1\n",
      "0.51362689895\n",
      "Fold= 2\n",
      "0.367232416859\n",
      "Fold= 3\n",
      "0.520540604849\n",
      "Fold= 4\n",
      "0.535956709892\n",
      "Fold= 5\n",
      "0.476461107259\n",
      "time: 12 s\n"
     ]
    }
   ],
   "source": [
    "def sgd_fit(X_train, y_train, X_test, columns = None):\n",
    "    if columns is None:\n",
    "        raise Exception(\"Col are None\")\n",
    "    \n",
    "    classifier = lambda: SGDRegressor(\n",
    "        loss='squared_loss',\n",
    "        penalty='elasticnet',\n",
    "        alpha=1e-05,\n",
    "        l1_ratio=1,\n",
    "        fit_intercept=True,\n",
    "        n_iter=5,\n",
    "        shuffle=True,\n",
    "        verbose=0, epsilon=0.1, random_state=42, learning_rate='invscaling',\n",
    "        eta0=0.01, power_t=0.25, warm_start=False, average=False)\n",
    "    \n",
    "    clf = Pipeline(steps=[\n",
    "        #('ss', StandardScaler()),\n",
    "        ('en', classifier())\n",
    "    ])\n",
    "    clf.fit(X_train[columns], y_train)\n",
    "    y_pred = clf.predict(X_test[columns])\n",
    "    return y_pred\n",
    "one_model_pred(sgd_fit, feat_numb + feat_pairs_in_top, 'sgd_feat_numb_pairs')\n",
    "one_model_pred(sgd_fit, feat_numb_top200 + feat_pairs_in_top, 'sgd_feat_numb200_pairs')\n",
    "one_model_pred(sgd_fit, feat_numb_top150 + feat_pairs_in_top, 'sgd_feat_numb150_150pairs')"
   ]
  },
  {
   "cell_type": "code",
   "execution_count": 84,
   "metadata": {
    "collapsed": false
   },
   "outputs": [
    {
     "name": "stdout",
     "output_type": "stream",
     "text": [
      "time: 5.54 s\n"
     ]
    }
   ],
   "source": [
    "feat_list = feat_numb_top150 + feat_pairs_in_top\n",
    "n_comp = 10\n",
    "\n",
    "\n",
    "# PCA\n",
    "pca = PCA(n_components=n_comp, random_state=42)\n",
    "pca.fit(df[ix_train][feat_list])\n",
    "pca2_df = pca.transform(df[feat_list])\n",
    "\n",
    "# ICA\n",
    "ica = FastICA(n_components=n_comp, random_state=42, max_iter = 600)\n",
    "ica.fit(df[ix_train][feat_list])\n",
    "ica2_df= ica.transform(df[feat_list])\n",
    "\n",
    "# Append decomposition components to datasets\n",
    "feat_pca = list()\n",
    "feat_ica = list()\n",
    "for i in range(1, n_comp+1):\n",
    "    df['pca_' + str(i)] = pca2_df[:,i-1]\n",
    "    df['ica_' + str(i)] = ica2_df[:,i-1]\n",
    "    feat_pca.append('pca_' + str(i))\n",
    "    feat_ica.append('ica_' + str(i))"
   ]
  },
  {
   "cell_type": "code",
   "execution_count": 85,
   "metadata": {
    "collapsed": false
   },
   "outputs": [
    {
     "name": "stdout",
     "output_type": "stream",
     "text": [
      "(4209, 1788)\n",
      "Fold= 1\n",
      "0.592088308183\n",
      "Fold= 2\n",
      "0.441478003324\n",
      "Fold= 3\n",
      "0.602194524246\n",
      "Fold= 4\n",
      "0.611307452647\n",
      "Fold= 5\n",
      "0.586884992204\n",
      "KFold done!\n",
      "Done!\n",
      "time: 28.1 s\n"
     ]
    }
   ],
   "source": [
    "one_model_pred(xgb_fit, feat_pca + feat_ica + feat_numb, 'xgb_feat_numb_ica_pca')"
   ]
  },
  {
   "cell_type": "code",
   "execution_count": null,
   "metadata": {
    "collapsed": true
   },
   "outputs": [],
   "source": []
  }
 ],
 "metadata": {
  "kernelspec": {
   "display_name": "Python 3",
   "language": "python",
   "name": "python3"
  },
  "language_info": {
   "codemirror_mode": {
    "name": "ipython",
    "version": 3
   },
   "file_extension": ".py",
   "mimetype": "text/x-python",
   "name": "python",
   "nbconvert_exporter": "python",
   "pygments_lexer": "ipython3",
   "version": "3.6.0"
  }
 },
 "nbformat": 4,
 "nbformat_minor": 2
}
