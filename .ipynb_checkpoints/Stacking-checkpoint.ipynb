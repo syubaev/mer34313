{
 "cells": [
  {
   "cell_type": "code",
   "execution_count": 1,
   "metadata": {
    "collapsed": false
   },
   "outputs": [
    {
     "name": "stderr",
     "output_type": "stream",
     "text": [
      "/home/subaevdi/anaconda3/lib/python3.6/site-packages/sklearn/cross_validation.py:44: DeprecationWarning: This module was deprecated in version 0.18 in favor of the model_selection module into which all the refactored classes and functions are moved. Also note that the interface of the new CV iterators are different from that of this module. This module will be removed in 0.20.\n",
      "  \"This module will be removed in 0.20.\", DeprecationWarning)\n"
     ]
    }
   ],
   "source": [
    "import os\n",
    "import pickle\n",
    "import multiprocessing\n",
    "import itertools\n",
    "\n",
    "from subprocess import check_output\n",
    "from pyfm import pylibfm\n",
    "from scipy.sparse import csr_matrix\n",
    "from scipy.sparse import vstack\n",
    "\n",
    "import numpy as np\n",
    "import pandas as pd\n",
    "import matplotlib.pyplot as plt\n",
    "import seaborn as sns\n",
    "\n",
    "import xgboost as xgb\n",
    "\n",
    "from sklearn import preprocessing\n",
    "from sklearn.preprocessing import StandardScaler, LabelEncoder, OneHotEncoder\n",
    "from sklearn.preprocessing import normalize\n",
    "from sklearn.metrics import r2_score\n",
    "from sklearn.decomposition import PCA, FastICA\n",
    "from sklearn.linear_model import SGDRegressor, LinearRegression\n",
    "from sklearn.pipeline import Pipeline\n",
    "from sklearn.model_selection import GridSearchCV, StratifiedKFold, KFold, cross_val_score, cross_val_predict, train_test_split\n",
    "from sklearn.cluster import KMeans\n",
    "\n",
    "%matplotlib inline\n",
    "\n",
    "pd.options.mode.chained_assignment = None  # default='warn'\n",
    "pd.options.display.max_columns = 50\n",
    "pd.options.display.max_rows = 25\n",
    "\n",
    "\n",
    "%load_ext autotime"
   ]
  },
  {
   "cell_type": "code",
   "execution_count": 9,
   "metadata": {
    "collapsed": false
   },
   "outputs": [
    {
     "name": "stdout",
     "output_type": "stream",
     "text": [
      "Добавляем OneHotEncoder для категориальных фич\n",
      "Добавляем PCA ICA\n",
      "Добавляем пары\n",
      "Добавляем Кластарезацию по X0\n",
      "3 to 5\n",
      "6 to 1\n",
      "train.shape= (4187, 379) df shape =  (8396, 2026)\n",
      "feat_ohe\n",
      "feat_pca\n",
      "feat_ica\n",
      "feat_pairs_in_top\n",
      "feat_clust\n",
      "time: 5.49 s\n"
     ]
    },
    {
     "name": "stderr",
     "output_type": "stream",
     "text": [
      "create_df.py:45: VisibleDeprecationWarning: boolean index did not match indexed array along dimension 0; dimension is 9 but corresponding boolean dimension is 8\n",
      "  centers_arr = kmeans.cluster_centers_.flatten()[mask]\n"
     ]
    }
   ],
   "source": [
    "%run -i create_df.py"
   ]
  },
  {
   "cell_type": "code",
   "execution_count": 11,
   "metadata": {
    "collapsed": false
   },
   "outputs": [
    {
     "name": "stdout",
     "output_type": "stream",
     "text": [
      "time: 8.61 ms\n"
     ]
    }
   ],
   "source": [
    "def pickle_check_model(predictors, model_file, bremove = False):\n",
    "    model_file = './../tmp/' + model_file\n",
    "    if bremove and os.path.isfile(model_file):\n",
    "        print(\"Removing old file\")\n",
    "        os.remove(model_file)\n",
    "    if not os.path.isfile(model_file):\n",
    "        print(\"Make grid search...\")\n",
    "        model = check_model(predictors)\n",
    "\n",
    "        with open(model_file, 'wb') as f:\n",
    "            pickle.dump(model, f)\n",
    "    else:\n",
    "        with open(model_file, 'rb') as f:\n",
    "            print(\"Load from file...\")\n",
    "            model = pickle.load(f)\n",
    "    print(model.best_score_)\n",
    "    print(model.best_params_)\n",
    "    return model"
   ]
  },
  {
   "cell_type": "code",
   "execution_count": 12,
   "metadata": {
    "collapsed": false
   },
   "outputs": [
    {
     "name": "stdout",
     "output_type": "stream",
     "text": [
      "time: 17.4 ms\n"
     ]
    }
   ],
   "source": [
    "def check_model(predictors):\n",
    "    classifier = lambda: SGDRegressor(\n",
    "        loss='squared_loss',\n",
    "        penalty='elasticnet',\n",
    "        alpha=0.0005,\n",
    "        l1_ratio=0.15,\n",
    "        fit_intercept=True,\n",
    "        n_iter=5,\n",
    "        shuffle=True,\n",
    "        verbose=0, epsilon=0.1, random_state=42, learning_rate='invscaling',\n",
    "        eta0=0.01, power_t=0.25, warm_start=False, average=False)\n",
    "    \n",
    "\n",
    "    model = Pipeline(steps=[\n",
    "        #('ss', StandardScaler()),\n",
    "        ('en', classifier())\n",
    "    ])\n",
    "\n",
    "    parameters = {\n",
    "        'en__alpha': [0.00001, 0.0001, 0.001, 0.01, 0.02, 0.1, 0.5, 0.6, 0.7, 0.9, 1],\n",
    "        'en__l1_ratio': [0, 0.001, 0.01, 0.1, 0.3, 0.5, 0.75, 0.9, 1]\n",
    "    }\n",
    "    #parameters = {\n",
    "    #    'en__alpha': [0.00001, 0.0001],\n",
    "    #    'en__l1_ratio': [0, 0.0001, 0.001]\n",
    "    #}\n",
    "\n",
    "    folder = KFold(n_splits=5, shuffle=True, random_state=42)\n",
    "    \n",
    "    grid_search = GridSearchCV(\n",
    "        model, \n",
    "        parameters,\n",
    "        scoring='r2',\n",
    "        cv=folder, \n",
    "        n_jobs=-1, \n",
    "        verbose=1)\n",
    "    grid_search = grid_search.fit(df[ix_train][predictors], \n",
    "                                  y)\n",
    "    \n",
    "    return grid_search\n",
    "#gs = check_model(feat_numb)"
   ]
  },
  {
   "cell_type": "code",
   "execution_count": 13,
   "metadata": {
    "collapsed": false
   },
   "outputs": [
    {
     "name": "stdout",
     "output_type": "stream",
     "text": [
      "Load from file...\n",
      "0.511579804396\n",
      "{'en__alpha': 1e-05, 'en__l1_ratio': 1}\n",
      "time: 2.13 ms\n"
     ]
    }
   ],
   "source": [
    "t = pickle_check_model(feat_numb, '4_model.pkl', bremove=False)"
   ]
  },
  {
   "cell_type": "code",
   "execution_count": 14,
   "metadata": {
    "collapsed": false
   },
   "outputs": [
    {
     "name": "stderr",
     "output_type": "stream",
     "text": [
      "/home/subaevdi/anaconda3/lib/python3.6/site-packages/matplotlib/font_manager.py:1297: UserWarning: findfont: Font family ['sans-serif'] not found. Falling back to DejaVu Sans\n",
      "  (prop.get_family(), self.defaultFamily[fontext]))\n"
     ]
    },
    {
     "data": {
      "image/png": "[encoded data removed]",
      "text/plain": [
       "<matplotlib.figure.Figure at 0x7f00459adcc0>"
      ]
     },
     "metadata": {},
     "output_type": "display_data"
    },
    {
     "name": "stdout",
     "output_type": "stream",
     "text": [
      "time: 391 ms\n"
     ]
    }
   ],
   "source": [
    "a = t.best_estimator_.steps[0][1]\n",
    "\n",
    "df_tmp = pd.DataFrame({'col':feat_numb, 'val':a.coef_})\n",
    "df_tmp['abs_val'] = np.abs(df_tmp.val)\n",
    "df_tmp = df_tmp.sort_values('abs_val', ascending=False).reset_index()\n",
    "\n",
    "plt.plot(df_tmp.abs_val)\n",
    "\n",
    "feat_numb_top150 =list(df_tmp.col[:150])\n",
    "feat_numb_top200 =list(df_tmp.col[:200])"
   ]
  },
  {
   "cell_type": "code",
   "execution_count": 51,
   "metadata": {
    "collapsed": false
   },
   "outputs": [
    {
     "name": "stdout",
     "output_type": "stream",
     "text": [
      "time: 34.9 ms\n"
     ]
    }
   ],
   "source": [
    "kf = StratifiedKFold(n_splits=5, shuffle=True, random_state=42)\n",
    "model_cv_score = pd.DataFrame(columns=['r2_mean', 'r2_std'])\n",
    "\n",
    "def one_model_pred(f_predict, columns, y_modif = None, out_file_name=None, return_y = False):\n",
    "    MODEL_NAME = f_predict.__name__ + '  _' + out_file_name\n",
    "    X_stacking = np.empty(df.shape[0])\n",
    "    X = df[ix_train]; print(X.shape)\n",
    "    arr_for_split = df[ix_train].clust_label\n",
    "    if y_modif is not None:\n",
    "        y_local = y_modif\n",
    "    else:\n",
    "        y_local = y\n",
    "        \n",
    "    i = 0\n",
    "    score = list()\n",
    "    for train_index, test_index in kf.split(arr_for_split.reshape(-1,1), y):\n",
    "        i = i + 1\n",
    "        X_train, X_test = X.loc[train_index], X.loc[test_index]\n",
    "        y_train, y_test = y_local[train_index], y_local[test_index]\n",
    "        y_pred = f_predict(X_train, y_train, X_test, columns)\n",
    "        X_stacking[test_index] = y_pred\n",
    "        #try:\n",
    "        r2 = r2_score(y_test, y_pred)\n",
    "        #except:\n",
    "        #    print(y_test.shape, y_pred.shape)\n",
    "        #    raise Exception\n",
    "        print(\"Fold=\",i, 'r2=', r2)\n",
    "        score.append(r2)\n",
    "        \n",
    "    print(MODEL_NAME, \"KFold done! {:.4f}, {:.4f}\".format(np.mean(score), np.std(score)) )\n",
    "    model_cv_score.loc[MODEL_NAME] = [np.mean(score), np.std(score)]\n",
    "    \n",
    "    X_stacking[ix_test] = f_predict(df[ix_train], y, df[ix_test], feat_numb_top200)\n",
    "    if out_file_name is not None:\n",
    "        pd.DataFrame({'y_pred':X_stacking}).\\\n",
    "            to_csv(\"../y_pred/\" + MODEL_NAME + \".csv\", index=False)\n",
    "    print(\"Done!\")\n",
    "    if return_y:\n",
    "        return X_stacking\n",
    "    return None"
   ]
  },
  {
   "cell_type": "code",
   "execution_count": 52,
   "metadata": {
    "collapsed": false
   },
   "outputs": [
    {
     "name": "stdout",
     "output_type": "stream",
     "text": [
      "(4187, 2026)\n"
     ]
    },
    {
     "name": "stderr",
     "output_type": "stream",
     "text": [
      "create_df.py:16: FutureWarning: reshape is deprecated and will raise in a subsequent release. Please use .values.reshape(...) instead\n",
      "  X0_ohe = ohe.fit_transform(X0_le.reshape(-1,1))\n",
      "/home/subaevdi/anaconda3/lib/python3.6/site-packages/sklearn/model_selection/_split.py:581: Warning: The least populated class in y has only 1 members, which is too few. The minimum number of groups for any class cannot be less than n_splits=5.\n",
      "  % (min_groups, self.n_splits)), Warning)\n"
     ]
    },
    {
     "name": "stdout",
     "output_type": "stream",
     "text": [
      "Fold= 1 r2= 0.19566857422\n",
      "Fold= 2 r2= 0.0962100997786\n",
      "Fold= 3 r2= 0.0484862875187\n",
      "Fold= 4 r2= 0.089320481033\n",
      "Fold= 5 r2= 0.151520524641\n",
      "xgb_fit  _feat_numb_top200 KFold done! 0.1162, 0.0515\n",
      "Done!\n",
      "time: 38.6 s\n"
     ]
    }
   ],
   "source": []
  },
  {
   "cell_type": "code",
   "execution_count": 32,
   "metadata": {
    "collapsed": false
   },
   "outputs": [
    {
     "name": "stdout",
     "output_type": "stream",
     "text": [
      "(4187, 2025)\n",
      "(3349,) (838,)\n",
      "(3349,) (838,)\n",
      "(3350,) (837,)\n",
      "(3350,) (837,)\n",
      "(3350,) (837,)\n",
      "time: 36.9 ms\n"
     ]
    }
   ],
   "source": [
    "X = df[ix_train]; print(X.shape)\n",
    "for train_index, test_index in kf.split(X):\n",
    "    print(train_index.shape, test_index.shape)"
   ]
  },
  {
   "cell_type": "code",
   "execution_count": 16,
   "metadata": {
    "collapsed": false
   },
   "outputs": [
    {
     "name": "stdout",
     "output_type": "stream",
     "text": [
      "time: 10.5 ms\n"
     ]
    }
   ],
   "source": [
    "def xgb_fit(X_train, y_train, X_test, columns):\n",
    "    num_boost_rounds = 1200\n",
    "    \n",
    "    xgb_params = { \n",
    "        'eta': 0.005,\n",
    "        'max_depth': 4,\n",
    "        'subsample': 0.8,\n",
    "        'min_child_weight': 25,\n",
    "        'colsample_bytree': 0.8,\n",
    "        'objective': 'reg:linear',\n",
    "        'eval_metric': 'rmse',\n",
    "        'base_score': np.mean(y_train), # base prediction = mean(target)\n",
    "        'silent': 1,\n",
    "        'tree_method':'hist',\n",
    "        'seed':42,\n",
    "    #    'gamma': 0.05,\n",
    "        'alpha':0.3\n",
    "    }\n",
    "\n",
    "    dtrain = xgb.DMatrix(X_train[columns], y_train)\n",
    "    dtest = xgb.DMatrix(X_test[columns])\n",
    "    \n",
    "    \n",
    "    # train model\n",
    "    model = xgb.train(dict(xgb_params, silent=0), dtrain, num_boost_round=num_boost_rounds)\n",
    "    y_pred = model.predict(dtest)\n",
    "    return y_pred\n",
    "    "
   ]
  },
  {
   "cell_type": "code",
   "execution_count": 42,
   "metadata": {
    "collapsed": false
   },
   "outputs": [
    {
     "name": "stdout",
     "output_type": "stream",
     "text": [
      "(4187, 2025)\n",
      "Fold= 1 r2= 0.626591499046\n",
      "Fold= 2 r2= 0.611104115429\n",
      "Fold= 3 r2= 0.609933079645\n",
      "Fold= 4 r2= 0.663821933897\n",
      "Fold= 5 r2= 0.606805511539\n",
      "xgb_fit  _feat_numb_top200 KFold done! 0.6237, 0.0212\n",
      "Done!\n",
      "time: 23.7 s\n"
     ]
    }
   ],
   "source": [
    "one_model_pred(xgb_fit, feat_numb_top200, out_file_name='feat_numb_top200')"
   ]
  },
  {
   "cell_type": "code",
   "execution_count": 43,
   "metadata": {
    "collapsed": false
   },
   "outputs": [
    {
     "name": "stdout",
     "output_type": "stream",
     "text": [
      "(4187, 2025)\n",
      "Fold= 1 r2= 0.626591499046\n",
      "Fold= 2 r2= 0.611104115429\n",
      "Fold= 3 r2= 0.609933079645\n",
      "Fold= 4 r2= 0.663821933897\n",
      "Fold= 5 r2= 0.606805511539\n",
      "xgb_fit  _feat_numb_top200 KFold done! 0.6237, 0.0212\n",
      "Done!\n",
      "time: 24.5 s\n"
     ]
    }
   ],
   "source": [
    "one_model_pred(xgb_fit, feat_numb_top200, out_file_name='feat_numb_top200')"
   ]
  },
  {
   "cell_type": "code",
   "execution_count": 44,
   "metadata": {
    "collapsed": false
   },
   "outputs": [
    {
     "name": "stdout",
     "output_type": "stream",
     "text": [
      "(4187, 2025)\n",
      "Fold= 1 r2= 0.632731104843\n",
      "Fold= 2 r2= 0.617907846663\n",
      "Fold= 3 r2= 0.611047932728\n",
      "Fold= 4 r2= 0.663428718171\n",
      "Fold= 5 r2= 0.607846368456\n",
      "xgb_fit  _xgb_feat_numb_XGB KFold done! 0.6266, 0.0203\n",
      "Done!\n",
      "time: 38.1 s\n"
     ]
    }
   ],
   "source": [
    "one_model_pred(xgb_fit, feat_numb, out_file_name='xgb_feat_numb_XGB')"
   ]
  },
  {
   "cell_type": "code",
   "execution_count": 17,
   "metadata": {
    "collapsed": false
   },
   "outputs": [
    {
     "name": "stdout",
     "output_type": "stream",
     "text": [
      "time: 7.18 ms\n"
     ]
    }
   ],
   "source": [
    "def sgd_fit(X_train, y_train, X_test, columns):\n",
    "    \n",
    "    classifier = lambda: SGDRegressor(\n",
    "        loss='squared_loss',\n",
    "        penalty='elasticnet',\n",
    "        alpha=1e-05,\n",
    "        l1_ratio=1,\n",
    "        fit_intercept=True,\n",
    "        n_iter=5,\n",
    "        shuffle=True,\n",
    "        verbose=0, epsilon=0.1, random_state=42, learning_rate='invscaling',\n",
    "        eta0=0.01, power_t=0.25, warm_start=False, average=False)\n",
    "    \n",
    "    clf = Pipeline(steps=[\n",
    "        #('ss', StandardScaler()),\n",
    "        ('en', classifier())\n",
    "    ])\n",
    "    clf.fit(X_train[columns], y_train)\n",
    "    y_pred = clf.predict(X_test[columns])\n",
    "    return y_pred\n"
   ]
  },
  {
   "cell_type": "code",
   "execution_count": 11,
   "metadata": {
    "collapsed": false
   },
   "outputs": [
    {
     "name": "stdout",
     "output_type": "stream",
     "text": [
      "(4187, 2025)\n",
      "Fold= 1 r2= 0.602208948734\n",
      "Fold= 2 r2= 0.567541757818\n",
      "Fold= 3 r2= 0.550923032914\n",
      "Fold= 4 r2= 0.607992584863\n",
      "Fold= 5 r2= 0.572517485991\n",
      "sgd_fit  _feat_numb + feat_pairs_in_top KFold done! 0.5802, 0.0216\n",
      "Done!\n",
      "(4187, 2025)\n",
      "Fold= 1 r2= 0.591099918916\n",
      "Fold= 2 r2= 0.532810286755\n",
      "Fold= 3 r2= 0.524226109147\n",
      "Fold= 4 r2= 0.583546997724\n",
      "Fold= 5 r2= 0.557196268285\n",
      "sgd_fit  _feat_numb_top200 + feat_pairs_in_top KFold done! 0.5578, 0.0265\n",
      "Done!\n",
      "(4187, 2025)\n",
      "Fold= 1 r2= 0.577022460897\n",
      "Fold= 2 r2= 0.514492359282\n",
      "Fold= 3 r2= 0.494711403638\n",
      "Fold= 4 r2= 0.564895992773\n",
      "Fold= 5 r2= 0.553679900967\n",
      "sgd_fit  _feat_numb_top150 + feat_pairs_in_top KFold done! 0.5410, 0.0312\n",
      "Done!\n",
      "time: 4.4 s\n"
     ]
    }
   ],
   "source": [
    "one_model_pred(sgd_fit, feat_numb + feat_pairs_in_top, out_file_name='feat_numb + feat_pairs_in_top')\n",
    "one_model_pred(sgd_fit, feat_numb_top200 + feat_pairs_in_top, out_file_name='feat_numb_top200 + feat_pairs_in_top')\n",
    "one_model_pred(sgd_fit, feat_numb_top150 + feat_pairs_in_top, out_file_name='feat_numb_top150 + feat_pairs_in_top')"
   ]
  },
  {
   "cell_type": "code",
   "execution_count": 46,
   "metadata": {
    "collapsed": false
   },
   "outputs": [
    {
     "name": "stdout",
     "output_type": "stream",
     "text": [
      "(4187, 2025)\n",
      "Fold= 1 r2= 0.633071053356\n",
      "Fold= 2 r2= 0.618372145499\n",
      "Fold= 3 r2= 0.612393679187\n",
      "Fold= 4 r2= 0.666923071345\n",
      "Fold= 5 r2= 0.603111794028\n",
      "xgb_fit  _xgb_feat_clust KFold done! 0.6268, 0.0223\n",
      "Done!\n",
      "time: 8.98 s\n"
     ]
    }
   ],
   "source": [
    "one_model_pred(xgb_fit, feat_clust, out_file_name='xgb_feat_clust')"
   ]
  },
  {
   "cell_type": "code",
   "execution_count": 47,
   "metadata": {
    "collapsed": false
   },
   "outputs": [
    {
     "name": "stdout",
     "output_type": "stream",
     "text": [
      "(4187, 2025)\n",
      "Fold= 1 r2= 0.626114065111\n",
      "Fold= 2 r2= 0.60917602486\n",
      "Fold= 3 r2= 0.604916063201\n",
      "Fold= 4 r2= 0.656775890203\n",
      "Fold= 5 r2= 0.606867370599\n",
      "xgb_fit  _xgb_feat_numb_ica_pca KFold done! 0.6208, 0.0195\n",
      "Done!\n",
      "time: 53.4 s\n"
     ]
    }
   ],
   "source": [
    "one_model_pred(xgb_fit, feat_pca + feat_ica + feat_numb, out_file_name='xgb_feat_numb_ica_pca')"
   ]
  },
  {
   "cell_type": "code",
   "execution_count": 48,
   "metadata": {
    "collapsed": false
   },
   "outputs": [
    {
     "name": "stdout",
     "output_type": "stream",
     "text": [
      "(4187, 2025)\n",
      "Fold= 1 r2= 0.602903878571\n",
      "Fold= 2 r2= 0.577798400265\n",
      "Fold= 3 r2= 0.584725954973\n",
      "Fold= 4 r2= 0.618679658478\n",
      "Fold= 5 r2= 0.584556101301\n",
      "xgb_fit  _xgb_feat_numb_ica_pca KFold done! 0.5937, 0.0150\n",
      "Done!\n",
      "(4187, 2025)\n",
      "Fold= 1 r2= 0.598489292956\n",
      "Fold= 2 r2= 0.571248273891\n",
      "Fold= 3 r2= 0.577233152563\n",
      "Fold= 4 r2= 0.618284273864\n",
      "Fold= 5 r2= 0.578724491108\n",
      "xgb_fit  _feat_ica + feat_pca KFold done! 0.5888, 0.0174\n",
      "Done!\n",
      "(4187, 2025)\n",
      "Fold= 1 r2= 0.631545979347\n",
      "Fold= 2 r2= 0.615976355266\n",
      "Fold= 3 r2= 0.615360356542\n",
      "Fold= 4 r2= 0.662085729576\n",
      "Fold= 5 r2= 0.614808813284\n",
      "xgb_fit  _feat_ohe + feat_numb_top200 KFold done! 0.6280, 0.0182\n",
      "Done!\n",
      "(4187, 2025)\n",
      "Fold= 1 r2= 0.595019211466\n",
      "Fold= 2 r2= 0.574215478227\n",
      "Fold= 3 r2= 0.571036766661\n",
      "Fold= 4 r2= 0.6043693496\n",
      "Fold= 5 r2= 0.587811321894\n",
      "xgb_fit  _feat_ohe + feat_pairs_in_top KFold done! 0.5865, 0.0125\n",
      "Done!\n",
      "time: 4min 20s\n"
     ]
    }
   ],
   "source": [
    "one_model_pred(xgb_fit, feat_ohe + feat_ica + feat_pca, out_file_name='xgb_feat_numb_ica_pca')\n",
    "one_model_pred(xgb_fit, feat_ica + feat_pca, out_file_name='feat_ica + feat_pca')\n",
    "one_model_pred(xgb_fit, feat_ohe + feat_numb_top200, out_file_name='feat_ohe + feat_numb_top200')\n",
    "one_model_pred(xgb_fit, feat_ohe + feat_pairs_in_top, out_file_name='feat_ohe + feat_pairs_in_top')"
   ]
  },
  {
   "cell_type": "code",
   "execution_count": 49,
   "metadata": {
    "collapsed": false,
    "scrolled": false
   },
   "outputs": [
    {
     "data": {
      "text/html": [
       "<div>\n",
       "<style>\n",
       "    .dataframe thead tr:only-child th {\n",
       "        text-align: right;\n",
       "    }\n",
       "\n",
       "    .dataframe thead th {\n",
       "        text-align: left;\n",
       "    }\n",
       "\n",
       "    .dataframe tbody tr th {\n",
       "        vertical-align: top;\n",
       "    }\n",
       "</style>\n",
       "<table border=\"1\" class=\"dataframe\">\n",
       "  <thead>\n",
       "    <tr style=\"text-align: right;\">\n",
       "      <th></th>\n",
       "      <th>r2_mean</th>\n",
       "      <th>r2_std</th>\n",
       "    </tr>\n",
       "  </thead>\n",
       "  <tbody>\n",
       "    <tr>\n",
       "      <th>xgb_fit  _feat_ohe + feat_numb_top200</th>\n",
       "      <td>0.627955</td>\n",
       "      <td>0.018181</td>\n",
       "    </tr>\n",
       "    <tr>\n",
       "      <th>xgb_fit  _xgb_feat_clust</th>\n",
       "      <td>0.626774</td>\n",
       "      <td>0.022311</td>\n",
       "    </tr>\n",
       "    <tr>\n",
       "      <th>xgb_fit  _xgb_feat_numb_XGB</th>\n",
       "      <td>0.626592</td>\n",
       "      <td>0.020313</td>\n",
       "    </tr>\n",
       "    <tr>\n",
       "      <th>xgb_fit  _feat_numb_top200</th>\n",
       "      <td>0.623651</td>\n",
       "      <td>0.021221</td>\n",
       "    </tr>\n",
       "    <tr>\n",
       "      <th>xgb_fit  _xgb_feat_numb_ica_pca</th>\n",
       "      <td>0.593733</td>\n",
       "      <td>0.015005</td>\n",
       "    </tr>\n",
       "    <tr>\n",
       "      <th>xgb_fit  _feat_ica + feat_pca</th>\n",
       "      <td>0.588796</td>\n",
       "      <td>0.017358</td>\n",
       "    </tr>\n",
       "    <tr>\n",
       "      <th>xgb_fit  _feat_ohe + feat_pairs_in_top</th>\n",
       "      <td>0.586490</td>\n",
       "      <td>0.012519</td>\n",
       "    </tr>\n",
       "    <tr>\n",
       "      <th>sgd_fit  _feat_numb + feat_pairs_in_top</th>\n",
       "      <td>0.580237</td>\n",
       "      <td>0.021602</td>\n",
       "    </tr>\n",
       "    <tr>\n",
       "      <th>sgd_fit  _feat_numb_top200 + feat_pairs_in_top</th>\n",
       "      <td>0.556813</td>\n",
       "      <td>0.028913</td>\n",
       "    </tr>\n",
       "    <tr>\n",
       "      <th>sgd_fit  _feat_numb_top150 + feat_pairs_in_top</th>\n",
       "      <td>0.539346</td>\n",
       "      <td>0.036867</td>\n",
       "    </tr>\n",
       "  </tbody>\n",
       "</table>\n",
       "</div>"
      ],
      "text/plain": [
       "                                                 r2_mean    r2_std\n",
       "xgb_fit  _feat_ohe + feat_numb_top200           0.627955  0.018181\n",
       "xgb_fit  _xgb_feat_clust                        0.626774  0.022311\n",
       "xgb_fit  _xgb_feat_numb_XGB                     0.626592  0.020313\n",
       "xgb_fit  _feat_numb_top200                      0.623651  0.021221\n",
       "xgb_fit  _xgb_feat_numb_ica_pca                 0.593733  0.015005\n",
       "xgb_fit  _feat_ica + feat_pca                   0.588796  0.017358\n",
       "xgb_fit  _feat_ohe + feat_pairs_in_top          0.586490  0.012519\n",
       "sgd_fit  _feat_numb + feat_pairs_in_top         0.580237  0.021602\n",
       "sgd_fit  _feat_numb_top200 + feat_pairs_in_top  0.556813  0.028913\n",
       "sgd_fit  _feat_numb_top150 + feat_pairs_in_top  0.539346  0.036867"
      ]
     },
     "execution_count": 49,
     "metadata": {},
     "output_type": "execute_result"
    },
    {
     "name": "stdout",
     "output_type": "stream",
     "text": [
      "time: 12.2 ms\n"
     ]
    }
   ],
   "source": [
    "model_cv_score.sort_values('r2_mean', ascending=False)"
   ]
  },
  {
   "cell_type": "code",
   "execution_count": 72,
   "metadata": {
    "collapsed": false
   },
   "outputs": [
    {
     "name": "stdout",
     "output_type": "stream",
     "text": [
      "xgb_fit  _feat_ohe + feat_pairs_in_top.csv\n",
      "lr  _y_mod_feat_clust.csv\n",
      "xgb_fit  _feat_numb_top200.csv\n",
      "xgb_fit  _xgb_feat_clust.csv\n",
      "xgb_fit  _xgb_feat_numb_XGB.csv\n",
      "sgd_fit  _feat_numb_top200 + feat_pairs_in_top.csv\n",
      "xgb_fit  _feat_numb.csv\n",
      "xgb_fit  _feat_ohe + feat_numb_top200.csv\n",
      "xgb_fit  _xgb_feat_numb_ica_pca.csv\n",
      "sgd_fit  _feat_numb + feat_pairs_in_top.csv\n",
      "xgb_fit  _feat_ica + feat_pca.csv\n",
      "sgd_fit  _feat_numb_top150 + feat_pairs_in_top.csv\n",
      "xgb_fit  _xgb_feat_numb_top200_XGB2.csv\n"
     ]
    },
    {
     "data": {
      "text/plain": [
       "[<matplotlib.lines.Line2D at 0x7f1abde93470>]"
      ]
     },
     "execution_count": 72,
     "metadata": {},
     "output_type": "execute_result"
    },
    {
     "name": "stderr",
     "output_type": "stream",
     "text": [
      "/home/subaevdi/anaconda3/lib/python3.6/site-packages/matplotlib/font_manager.py:1297: UserWarning: findfont: Font family ['sans-serif'] not found. Falling back to DejaVu Sans\n",
      "  (prop.get_family(), self.defaultFamily[fontext]))\n"
     ]
    },
    {
     "data": {
      "image/png": "[encoded data removed]",
      "text/plain": [
       "<matplotlib.figure.Figure at 0x7f1ac1695400>"
      ]
     },
     "metadata": {},
     "output_type": "display_data"
    },
    {
     "name": "stdout",
     "output_type": "stream",
     "text": [
      "time: 920 ms\n"
     ]
    }
   ],
   "source": [
    "files = list(os.listdir('../y_pred'))\n",
    "X = np.zeros((df.shape[0],len(files)))\n",
    "\n",
    "for i, filename in enumerate(files):\n",
    "    if \".csv\" in filename:\n",
    "        print(filename)\n",
    "        a = np.loadtxt('../y_pred/'+filename,skiprows=1)\n",
    "        if a.shape[0] == X.shape[0]:\n",
    "            X[:,i] = a\n",
    "bind = X.sum(axis=0) != 0\n",
    "X = X[:,bind]\n",
    "\n",
    "X = StandardScaler().fit_transform(X)\n",
    "    \n",
    "from sklearn.linear_model import LinearRegression\n",
    "#model = #LinearRegression()\n",
    "model = SGDRegressor(\n",
    "        loss='squared_loss',\n",
    "        penalty='elasticnet',\n",
    "        alpha=0.001,\n",
    "        l1_ratio=1,\n",
    "        fit_intercept=True,\n",
    "        n_iter=5,\n",
    "        shuffle=True,\n",
    "        verbose=0, epsilon=0.1, random_state=42, learning_rate='invscaling',\n",
    "        eta0=0.01, power_t=0.25, warm_start=False, average=False)\n",
    "\n",
    "model.fit(X[ix_train], y)\n",
    "y_sumbit = model.predict(X[ix_test])\n",
    "\n",
    "pd.DataFrame({'ID':test.ID, 'y':y_sumbit}).to_csv(\"../submit/stacking_by_SGD_no_outliers.csv\", index=False)\n",
    "\n",
    "plt.plot(model.coef_, 'ro')"
   ]
  },
  {
   "cell_type": "code",
   "execution_count": 22,
   "metadata": {
    "collapsed": false
   },
   "outputs": [
    {
     "name": "stdout",
     "output_type": "stream",
     "text": [
      "xgb_fit  _feat_ohe + feat_pairs_in_top.csv\n",
      "lr  _y_mod_feat_clust.csv\n",
      "xgb_fit  _feat_numb_top200.csv\n",
      "xgb_fit  _xgb_feat_clust.csv\n",
      "xgb_fit  _xgb_feat_numb_XGB.csv\n",
      "sgd_fit  _feat_numb_top200 + feat_pairs_in_top.csv\n",
      "xgb_fit  _feat_numb.csv\n",
      "xgb_fit  _feat_ohe + feat_numb_top200.csv\n",
      "xgb_fit  _xgb_feat_numb_ica_pca.csv\n",
      "sgd_fit  _feat_numb + feat_pairs_in_top.csv\n",
      "xgb_fit  _feat_ica + feat_pca.csv\n",
      "sgd_fit  _feat_numb_top150 + feat_pairs_in_top.csv\n",
      "xgb_fit  _xgb_feat_numb_top200_XGB2.csv\n",
      "time: 1.21 s\n"
     ]
    }
   ],
   "source": [
    "## XGBOOST avaging\n",
    "files = list(os.listdir('../y_pred'))\n",
    "X = np.zeros((df.shape[0],len(files)))\n",
    "\n",
    "for i, filename in enumerate(files):\n",
    "    if \".csv\" in filename:\n",
    "        print(filename)\n",
    "        a = np.loadtxt('../y_pred/'+filename,skiprows=1)\n",
    "        if a.shape[0] == X.shape[0]:\n",
    "            X[:,i] = a\n",
    "bind = X.sum(axis=0) != 0\n",
    "X = X[:,bind]\n",
    "\n",
    "X = StandardScaler().fit_transform(X)\n",
    "    \n",
    "num_boost_rounds = 331\n",
    "    \n",
    "xgb_params = { \n",
    "    'eta': 0.01,\n",
    "    'max_depth': 4,\n",
    "    'subsample': 0.9,\n",
    "    'min_child_weight': 20,\n",
    "    'colsample_bytree': 0.8,\n",
    "    'objective': 'reg:linear',\n",
    "    'eval_metric': 'rmse',\n",
    "    'maximize':False,\n",
    "    'base_score': np.mean(y), # base prediction = mean(target)\n",
    "    'silent': 1,\n",
    "#    'tree_method':'hist',\n",
    "    'seed':42,\n",
    "#    'gamma': 0.05,\n",
    "    'alpha':0.1\n",
    "}\n",
    "\n",
    "dtrain = xgb.DMatrix(X[ix_train], y)\n",
    "dtest = xgb.DMatrix(X[ix_test])\n",
    "\n",
    "model = xgb.train(xgb_params, dtrain, num_boost_rounds)\n",
    "y_sumbit = model.predict(dtest)\n",
    "#t = xgb.cv(xgb_params, dtrain, num_boost_rounds, folds=kf, early_stopping_rounds=10)\n",
    "\n",
    "\n",
    "#model.fit(X[ix_train], y)\n",
    "#y_sumbit = model.predict(X[ix_test])\n",
    "\n",
    "sub = pd.DataFrame({'ID':test.ID, 'y':y_sumbit})\n",
    "\n",
    "leaks = {\n",
    "    1:71.34112,\n",
    "    12:109.30903,\n",
    "    23:115.21953,\n",
    "    28:92.00675,\n",
    "    42:87.73572,\n",
    "    43:129.79876,\n",
    "    45:99.55671,\n",
    "    57:116.02167,\n",
    "    3977:132.08556,\n",
    "    88:90.33211,\n",
    "    89:130.55165,\n",
    "    93:105.79792,\n",
    "    94:103.04672,\n",
    "    1001:111.65212,\n",
    "    104:92.37968,\n",
    "    72:110.54742,\n",
    "    78:125.28849,\n",
    "    105:108.5069,\n",
    "    110:83.31692,\n",
    "    1004:91.472,\n",
    "    1008:106.71967,\n",
    "    1009:108.21841,\n",
    "    973:106.76189,\n",
    "    8002:95.84858,\n",
    "    8007:87.44019,\n",
    "    1644:99.14157,\n",
    "    337:101.23135,\n",
    "    253:115.93724,\n",
    "    8416:96.84773,\n",
    "    259:93.33662,\n",
    "    262:75.35182,\n",
    "    1652:89.77625\n",
    "    }\n",
    "\n",
    "sub.to_csv(\"../submit/stacking_by_XGB_no_outliers_with_leaks.csv\", index=False)"
   ]
  },
  {
   "cell_type": "code",
   "execution_count": null,
   "metadata": {
    "collapsed": false
   },
   "outputs": [],
   "source": [
    "files_top = np.array(files)[model.coef_ > 1]\n",
    "\n",
    "\n",
    "files = files_top\n",
    "X = np.empty((df.shape[0],len(files)))\n",
    "\n",
    "for i, filename in enumerate(files):\n",
    "    if \".csv\" in filename:\n",
    "        X[:,i] = np.loadtxt('../y_pred/'+filename,skiprows=1)\n",
    "\n",
    "X = StandardScaler().fit_transform(X)\n",
    "    \n",
    "from sklearn.linear_model import LinearRegression\n",
    "#model = #LinearRegression()\n",
    "model = SGDRegressor(\n",
    "        loss='squared_loss',\n",
    "        penalty='elasticnet',\n",
    "        alpha=0.001,\n",
    "        l1_ratio=1,\n",
    "        fit_intercept=True,\n",
    "        n_iter=5,\n",
    "        shuffle=True,\n",
    "        verbose=0, epsilon=0.1, random_state=42, learning_rate='invscaling',\n",
    "        eta0=0.01, power_t=0.25, warm_start=False, average=False)\n",
    "\n",
    "model.fit(X[ix_train], y)\n",
    "y_sumbit = model.predict(X[ix_test])\n",
    "\n",
    "pd.DataFrame({'ID':test.ID, 'y':y_sumbit}).to_csv(\"../submit/stacking_by_SGD_files_top.csv\", index=False)\n",
    "\n",
    "plt.plot(model.coef_, 'ro')"
   ]
  },
  {
   "cell_type": "markdown",
   "metadata": {
    "collapsed": true
   },
   "source": [
    "## Целевая идея\n",
    "1. Сделать предсказание по кластерам X0 $$y\\_hat = LinReg(X0\\_clust, y)$$\n",
    "2. Посчитать $y\\_error = y - y\\_hat$\n",
    "3. Делать предсказания $y\\_error$ $$y\\_hat2 = A(X, y\\_error)$$\n",
    "4. Итоговый самбит $$ y\\_submit= y\\_hat2 + y\\_hat$$"
   ]
  },
  {
   "cell_type": "markdown",
   "metadata": {},
   "source": [
    "1. Сделать 7 и 10 кластеров\n",
    "2. Убить выбросы\n",
    "3. Загрузить ответы и расширить трейн"
   ]
  },
  {
   "cell_type": "code",
   "execution_count": 31,
   "metadata": {
    "collapsed": false
   },
   "outputs": [
    {
     "name": "stdout",
     "output_type": "stream",
     "text": [
      "(4187, 2026)\n"
     ]
    },
    {
     "name": "stderr",
     "output_type": "stream",
     "text": [
      "/home/subaevdi/anaconda3/lib/python3.6/site-packages/sklearn/model_selection/_split.py:581: Warning: The least populated class in y has only 1 members, which is too few. The minimum number of groups for any class cannot be less than n_splits=5.\n",
      "  % (min_groups, self.n_splits)), Warning)\n"
     ]
    },
    {
     "name": "stdout",
     "output_type": "stream",
     "text": [
      "Fold= 1 r2= 0.557552474841\n",
      "Fold= 2 r2= 0.516450703185\n",
      "Fold= 3 r2= 0.556112729523\n",
      "Fold= 4 r2= 0.551640650201\n",
      "Fold= 5 r2= 0.559830793549\n",
      "lr  _feat_clust KFold done! 0.5483, 0.0162\n",
      "Done!\n",
      "time: 1.05 s\n"
     ]
    }
   ],
   "source": [
    "def lr(X_train, y_train, X_test, columns):\n",
    "    model = SGDRegressor(\n",
    "        loss='squared_loss',\n",
    "        penalty='elasticnet',\n",
    "        alpha=0.001,\n",
    "        l1_ratio=0, verbose=0, epsilon=0.01, random_state=42, learning_rate='invscaling'\n",
    "    ).fit(X_train[columns], y_train)\n",
    "    return model.predict(X_test[columns])\n",
    "\n",
    "#feat_clust_wo_cl3 = feat_clust[:3] + feat_clust[4:]\n",
    "#y_hat = one_model_pred(lr, feat_clust, return_y=True, out_file_name='feat_clust')\n",
    "y_hat = one_model_pred(lr, feat_clust, return_y=True, out_file_name='feat_clust')\n",
    "y_error = y - y_hat[ix_train]\n",
    "\n",
    "# LB 0.32014\n",
    "pd.DataFrame({'ID':test.ID, 'y':y_hat[ix_test]}).\\\n",
    "    to_csv(\"../submit/lr_feat_clust.csv\", index=False)"
   ]
  },
  {
   "cell_type": "code",
   "execution_count": 37,
   "metadata": {
    "collapsed": false
   },
   "outputs": [
    {
     "data": {
      "text/plain": [
       "[<matplotlib.lines.Line2D at 0x7f00453b4dd8>]"
      ]
     },
     "execution_count": 37,
     "metadata": {},
     "output_type": "execute_result"
    },
    {
     "name": "stderr",
     "output_type": "stream",
     "text": [
      "/home/subaevdi/anaconda3/lib/python3.6/site-packages/matplotlib/font_manager.py:1297: UserWarning: findfont: Font family ['sans-serif'] not found. Falling back to DejaVu Sans\n",
      "  (prop.get_family(), self.defaultFamily[fontext]))\n"
     ]
    },
    {
     "data": {
      "image/png": "[encoded data removed]",
      "text/plain": [
       "<matplotlib.figure.Figure at 0x7f0045a1f748>"
      ]
     },
     "metadata": {},
     "output_type": "display_data"
    },
    {
     "name": "stdout",
     "output_type": "stream",
     "text": [
      "time: 213 ms\n"
     ]
    }
   ],
   "source": [
    "plt.plot(y_hat, 'ro')"
   ]
  },
  {
   "cell_type": "code",
   "execution_count": 24,
   "metadata": {
    "collapsed": false
   },
   "outputs": [
    {
     "name": "stderr",
     "output_type": "stream",
     "text": [
      "/home/subaevdi/anaconda3/lib/python3.6/site-packages/matplotlib/font_manager.py:1297: UserWarning: findfont: Font family ['sans-serif'] not found. Falling back to DejaVu Sans\n",
      "  (prop.get_family(), self.defaultFamily[fontext]))\n"
     ]
    },
    {
     "data": {
      "text/plain": [
       "<matplotlib.axes._subplots.AxesSubplot at 0x7f0045230518>"
      ]
     },
     "execution_count": 24,
     "metadata": {},
     "output_type": "execute_result"
    },
    {
     "data": {
      "image/png": "[encoded data removed]",
      "text/plain": [
       "<matplotlib.figure.Figure at 0x7f00451f3828>"
      ]
     },
     "metadata": {},
     "output_type": "display_data"
    },
    {
     "name": "stdout",
     "output_type": "stream",
     "text": [
      "time: 774 ms\n"
     ]
    }
   ],
   "source": [
    "c = df[ix_train][feat_clust].corr()\n",
    "sns.heatmap(c, annot=True)"
   ]
  },
  {
   "cell_type": "code",
   "execution_count": 325,
   "metadata": {
    "collapsed": false
   },
   "outputs": [
    {
     "name": "stdout",
     "output_type": "stream",
     "text": [
      "time: 785 µs\n"
     ]
    }
   ],
   "source": [
    "# Проверить корреляцию\n",
    "# Сделать регулиризацию кластеров"
   ]
  },
  {
   "cell_type": "code",
   "execution_count": 21,
   "metadata": {
    "collapsed": false
   },
   "outputs": [
    {
     "data": {
      "text/plain": [
       "[<matplotlib.lines.Line2D at 0x7f0045d44080>]"
      ]
     },
     "execution_count": 21,
     "metadata": {},
     "output_type": "execute_result"
    },
    {
     "name": "stderr",
     "output_type": "stream",
     "text": [
      "/home/subaevdi/anaconda3/lib/python3.6/site-packages/matplotlib/font_manager.py:1297: UserWarning: findfont: Font family ['sans-serif'] not found. Falling back to DejaVu Sans\n",
      "  (prop.get_family(), self.defaultFamily[fontext]))\n"
     ]
    },
    {
     "data": {
      "image/png": "[encoded data removed]",
      "text/plain": [
       "<matplotlib.figure.Figure at 0x7f0045a2b400>"
      ]
     },
     "metadata": {},
     "output_type": "display_data"
    },
    {
     "name": "stdout",
     "output_type": "stream",
     "text": [
      "time: 212 ms\n"
     ]
    }
   ],
   "source": [
    "#plt.plot(y_hat[ix_train])\n",
    "plt.plot(y_hat[ix_test])"
   ]
  },
  {
   "cell_type": "code",
   "execution_count": 63,
   "metadata": {
    "collapsed": false
   },
   "outputs": [
    {
     "name": "stdout",
     "output_type": "stream",
     "text": [
      "time: 5.06 ms\n"
     ]
    }
   ],
   "source": [
    "model_file = './../tmp/' + 'feat_checked_numb.pkl'\n",
    "with open(model_file, 'rb') as f:\n",
    "    feat_checked_numb = pickle.load(f)\n",
    "    \n",
    "model_file = './../tmp/' + 'feat_checked_numb_ohe.pkl'\n",
    "with open(model_file, 'rb') as f:\n",
    "    feat_checked_numb_ohe = pickle.load(f)\n",
    "\n",
    "model_file = './../tmp/' + 'feat_checked_ohe.pkl'\n",
    "with open(model_file, 'rb') as f:\n",
    "    feat_checked_ohe = pickle.load(f)"
   ]
  },
  {
   "cell_type": "code",
   "execution_count": 64,
   "metadata": {
    "collapsed": false
   },
   "outputs": [
    {
     "name": "stdout",
     "output_type": "stream",
     "text": [
      "(4187, 2026)\n"
     ]
    },
    {
     "name": "stderr",
     "output_type": "stream",
     "text": [
      "create_df.py:16: FutureWarning: reshape is deprecated and will raise in a subsequent release. Please use .values.reshape(...) instead\n",
      "  X0_ohe = ohe.fit_transform(X0_le.reshape(-1,1))\n",
      "/home/subaevdi/anaconda3/lib/python3.6/site-packages/sklearn/model_selection/_split.py:581: Warning: The least populated class in y has only 1 members, which is too few. The minimum number of groups for any class cannot be less than n_splits=5.\n",
      "  % (min_groups, self.n_splits)), Warning)\n"
     ]
    },
    {
     "name": "stdout",
     "output_type": "stream",
     "text": [
      "Fold= 1 r2= 0.19566857422\n",
      "Fold= 2 r2= 0.0962100997786\n",
      "Fold= 3 r2= 0.0484862875187\n",
      "Fold= 4 r2= 0.089320481033\n",
      "Fold= 5 r2= 0.151520524641\n",
      "xgb_fit  _y_error_feat_numb_top200 KFold done! 0.1162, 0.0515\n",
      "Done!\n",
      "(4187, 2026)\n",
      "Fold= 1 r2= 0.21054303611\n",
      "Fold= 2 r2= 0.140119397452\n",
      "Fold= 3 r2= 0.0925128911788\n",
      "Fold= 4 r2= 0.140803588779\n",
      "Fold= 5 r2= 0.184911840089\n",
      "xgb_fit  _y_error_feat_ohe + feat_checked_numb KFold done! 0.1538, 0.0407\n",
      "Done!\n",
      "time: 1min 38s\n"
     ]
    }
   ],
   "source": [
    "model_cv_score = pd.DataFrame(columns=['r2_mean', 'r2_std'])\n",
    "one_model_pred(xgb_fit, feat_numb_top200, y_modif=y_error, out_file_name='y_error_feat_numb_top200')\n",
    "one_model_pred(xgb_fit, feat_ohe + feat_checked_numb, y_modif=y_error, out_file_name='y_error_feat_ohe + feat_checked_numb')"
   ]
  },
  {
   "cell_type": "code",
   "execution_count": 65,
   "metadata": {
    "collapsed": false
   },
   "outputs": [
    {
     "name": "stdout",
     "output_type": "stream",
     "text": [
      "(4187, 2026)\n"
     ]
    },
    {
     "name": "stderr",
     "output_type": "stream",
     "text": [
      "create_df.py:16: FutureWarning: reshape is deprecated and will raise in a subsequent release. Please use .values.reshape(...) instead\n",
      "  X0_ohe = ohe.fit_transform(X0_le.reshape(-1,1))\n",
      "/home/subaevdi/anaconda3/lib/python3.6/site-packages/sklearn/model_selection/_split.py:581: Warning: The least populated class in y has only 1 members, which is too few. The minimum number of groups for any class cannot be less than n_splits=5.\n",
      "  % (min_groups, self.n_splits)), Warning)\n"
     ]
    },
    {
     "name": "stdout",
     "output_type": "stream",
     "text": [
      "Fold= 1 r2= 0.197243275524\n",
      "Fold= 2 r2= 0.105648115587\n",
      "Fold= 3 r2= 0.0490470317896\n",
      "Fold= 4 r2= 0.0881166437787\n",
      "Fold= 5 r2= 0.148519003901\n",
      "xgb_fit  _y_error_feat_ohe + feat_checked_numb KFold done! 0.1177, 0.0510\n",
      "Done!\n",
      "time: 36.3 s\n"
     ]
    }
   ],
   "source": [
    "one_model_pred(xgb_fit, feat_checked_numb, y_modif=y_error, out_file_name='y_error_feat_ohe + feat_checked_numb')"
   ]
  },
  {
   "cell_type": "code",
   "execution_count": 66,
   "metadata": {
    "collapsed": false
   },
   "outputs": [
    {
     "name": "stdout",
     "output_type": "stream",
     "text": [
      "(4187, 2026)\n"
     ]
    },
    {
     "name": "stderr",
     "output_type": "stream",
     "text": [
      "create_df.py:16: FutureWarning: reshape is deprecated and will raise in a subsequent release. Please use .values.reshape(...) instead\n",
      "  X0_ohe = ohe.fit_transform(X0_le.reshape(-1,1))\n",
      "/home/subaevdi/anaconda3/lib/python3.6/site-packages/sklearn/model_selection/_split.py:581: Warning: The least populated class in y has only 1 members, which is too few. The minimum number of groups for any class cannot be less than n_splits=5.\n",
      "  % (min_groups, self.n_splits)), Warning)\n"
     ]
    },
    {
     "name": "stdout",
     "output_type": "stream",
     "text": [
      "Fold= 1 r2= 0.197243275524\n",
      "Fold= 2 r2= 0.105648115587\n",
      "Fold= 3 r2= 0.0490470317896\n",
      "Fold= 4 r2= 0.0881166437787\n",
      "Fold= 5 r2= 0.148519003901\n",
      "xgb_fit  _y_error_feat_ohe KFold done! 0.1177, 0.0510\n",
      "Done!\n",
      "time: 36.9 s\n"
     ]
    }
   ],
   "source": [
    "one_model_pred(xgb_fit, feat_checked_numb, y_modif=y_error, out_file_name='y_error_feat_ohe')"
   ]
  },
  {
   "cell_type": "code",
   "execution_count": 67,
   "metadata": {
    "collapsed": false
   },
   "outputs": [
    {
     "name": "stdout",
     "output_type": "stream",
     "text": [
      "(4187, 2026)\n"
     ]
    },
    {
     "name": "stderr",
     "output_type": "stream",
     "text": [
      "create_df.py:16: FutureWarning: reshape is deprecated and will raise in a subsequent release. Please use .values.reshape(...) instead\n",
      "  X0_ohe = ohe.fit_transform(X0_le.reshape(-1,1))\n",
      "/home/subaevdi/anaconda3/lib/python3.6/site-packages/sklearn/model_selection/_split.py:581: Warning: The least populated class in y has only 1 members, which is too few. The minimum number of groups for any class cannot be less than n_splits=5.\n",
      "  % (min_groups, self.n_splits)), Warning)\n"
     ]
    },
    {
     "name": "stdout",
     "output_type": "stream",
     "text": [
      "Fold= 1 r2= 0.167341457544\n",
      "Fold= 2 r2= 0.127984793947\n",
      "Fold= 3 r2= 0.0575657093578\n",
      "Fold= 4 r2= 0.106834269232\n",
      "Fold= 5 r2= 0.14297965857\n",
      "xgb_fit  _y_error_feat_ohe KFold done! 0.1205, 0.0372\n",
      "Done!\n",
      "time: 36.2 s\n"
     ]
    }
   ],
   "source": [
    "one_model_pred(xgb_fit, feat_ohe, y_modif=y_error, out_file_name='y_error_feat_ohe')"
   ]
  },
  {
   "cell_type": "code",
   "execution_count": 68,
   "metadata": {
    "collapsed": false
   },
   "outputs": [
    {
     "name": "stdout",
     "output_type": "stream",
     "text": [
      "(4187, 2026)\n"
     ]
    },
    {
     "name": "stderr",
     "output_type": "stream",
     "text": [
      "create_df.py:16: FutureWarning: reshape is deprecated and will raise in a subsequent release. Please use .values.reshape(...) instead\n",
      "  X0_ohe = ohe.fit_transform(X0_le.reshape(-1,1))\n",
      "/home/subaevdi/anaconda3/lib/python3.6/site-packages/sklearn/model_selection/_split.py:581: Warning: The least populated class in y has only 1 members, which is too few. The minimum number of groups for any class cannot be less than n_splits=5.\n",
      "  % (min_groups, self.n_splits)), Warning)\n"
     ]
    },
    {
     "name": "stdout",
     "output_type": "stream",
     "text": [
      "Fold= 1 r2= 0.197243275524\n",
      "Fold= 2 r2= 0.105648115587\n",
      "Fold= 3 r2= 0.0490470317896\n",
      "Fold= 4 r2= 0.0881166437787\n",
      "Fold= 5 r2= 0.148519003901\n",
      "xgb_fit  _y_error_feat_checked_numb KFold done! 0.1177, 0.0510\n",
      "Done!\n",
      "(4187, 2026)\n",
      "Fold= 1 r2= 0.145751099473\n",
      "Fold= 2 r2= 0.104350471927\n",
      "Fold= 3 r2= 0.0227226670301\n",
      "Fold= 4 r2= 0.066739619608\n",
      "Fold= 5 r2= 0.106904488673\n",
      "xgb_fit  _y_error_feat_checked_ohe KFold done! 0.0893, 0.0416\n",
      "Done!\n",
      "(4187, 2026)\n",
      "Fold= 1 r2= 0.189119115767\n",
      "Fold= 2 r2= 0.112406863748\n",
      "Fold= 3 r2= 0.0500353654141\n",
      "Fold= 4 r2= 0.0932137811699\n",
      "Fold= 5 r2= 0.152433710795\n",
      "xgb_fit  _y_error_feat_checked_numb_ohe KFold done! 0.1194, 0.0480\n",
      "Done!\n",
      "time: 1min 39s\n"
     ]
    }
   ],
   "source": [
    "one_model_pred(xgb_fit, feat_checked_numb, y_modif=y_error, out_file_name='y_error_feat_checked_numb')\n",
    "one_model_pred(xgb_fit, feat_checked_ohe, y_modif=y_error, out_file_name='y_error_feat_checked_ohe')\n",
    "one_model_pred(xgb_fit, feat_checked_numb_ohe, y_modif=y_error, out_file_name='y_error_feat_checked_numb_ohe')"
   ]
  },
  {
   "cell_type": "code",
   "execution_count": 69,
   "metadata": {
    "collapsed": false
   },
   "outputs": [
    {
     "data": {
      "text/html": [
       "<div>\n",
       "<style>\n",
       "    .dataframe thead tr:only-child th {\n",
       "        text-align: right;\n",
       "    }\n",
       "\n",
       "    .dataframe thead th {\n",
       "        text-align: left;\n",
       "    }\n",
       "\n",
       "    .dataframe tbody tr th {\n",
       "        vertical-align: top;\n",
       "    }\n",
       "</style>\n",
       "<table border=\"1\" class=\"dataframe\">\n",
       "  <thead>\n",
       "    <tr style=\"text-align: right;\">\n",
       "      <th></th>\n",
       "      <th>r2_mean</th>\n",
       "      <th>r2_std</th>\n",
       "    </tr>\n",
       "  </thead>\n",
       "  <tbody>\n",
       "    <tr>\n",
       "      <th>xgb_fit  _y_error_feat_numb_top200</th>\n",
       "      <td>0.116241</td>\n",
       "      <td>0.051517</td>\n",
       "    </tr>\n",
       "    <tr>\n",
       "      <th>xgb_fit  _y_error_feat_ohe + feat_checked_numb</th>\n",
       "      <td>0.117715</td>\n",
       "      <td>0.051011</td>\n",
       "    </tr>\n",
       "    <tr>\n",
       "      <th>xgb_fit  _y_error_feat_ohe</th>\n",
       "      <td>0.120541</td>\n",
       "      <td>0.037156</td>\n",
       "    </tr>\n",
       "    <tr>\n",
       "      <th>xgb_fit  _y_error_feat_checked_numb</th>\n",
       "      <td>0.117715</td>\n",
       "      <td>0.051011</td>\n",
       "    </tr>\n",
       "    <tr>\n",
       "      <th>xgb_fit  _y_error_feat_checked_ohe</th>\n",
       "      <td>0.089294</td>\n",
       "      <td>0.041629</td>\n",
       "    </tr>\n",
       "    <tr>\n",
       "      <th>xgb_fit  _y_error_feat_checked_numb_ohe</th>\n",
       "      <td>0.119442</td>\n",
       "      <td>0.047954</td>\n",
       "    </tr>\n",
       "  </tbody>\n",
       "</table>\n",
       "</div>"
      ],
      "text/plain": [
       "                                                 r2_mean    r2_std\n",
       "xgb_fit  _y_error_feat_numb_top200              0.116241  0.051517\n",
       "xgb_fit  _y_error_feat_ohe + feat_checked_numb  0.117715  0.051011\n",
       "xgb_fit  _y_error_feat_ohe                      0.120541  0.037156\n",
       "xgb_fit  _y_error_feat_checked_numb             0.117715  0.051011\n",
       "xgb_fit  _y_error_feat_checked_ohe              0.089294  0.041629\n",
       "xgb_fit  _y_error_feat_checked_numb_ohe         0.119442  0.047954"
      ]
     },
     "execution_count": 69,
     "metadata": {},
     "output_type": "execute_result"
    },
    {
     "name": "stdout",
     "output_type": "stream",
     "text": [
      "time: 10.1 ms\n"
     ]
    }
   ],
   "source": [
    "model_cv_score"
   ]
  },
  {
   "cell_type": "markdown",
   "metadata": {},
   "source": [
    "# Предсказание для Y_ERROR"
   ]
  },
  {
   "cell_type": "code",
   "execution_count": 76,
   "metadata": {
    "collapsed": false
   },
   "outputs": [
    {
     "name": "stdout",
     "output_type": "stream",
     "text": [
      "xgb_fit  _y_error_feat_ohe.csv\n",
      "xgb_fit  _y_error_feat_checked_numb_ohe.csv\n",
      "xgb_fit  _y_error_feat_ohe + feat_checked_numb.csv\n",
      "xgb_fit  _y_error_feat_numb_top200.csv\n",
      "xgb_fit  _y_error_feat_checked_ohe.csv\n",
      "xgb_fit  _y_error_feat_checked_numb.csv\n"
     ]
    },
    {
     "data": {
      "text/plain": [
       "[<matplotlib.lines.Line2D at 0x7f0045067550>]"
      ]
     },
     "execution_count": 76,
     "metadata": {},
     "output_type": "execute_result"
    },
    {
     "name": "stderr",
     "output_type": "stream",
     "text": [
      "/home/subaevdi/anaconda3/lib/python3.6/site-packages/matplotlib/font_manager.py:1297: UserWarning: findfont: Font family ['sans-serif'] not found. Falling back to DejaVu Sans\n",
      "  (prop.get_family(), self.defaultFamily[fontext]))\n"
     ]
    },
    {
     "data": {
      "image/png": "[encoded data removed]",
      "text/plain": [
       "<matplotlib.figure.Figure at 0x7f0044fa1518>"
      ]
     },
     "metadata": {},
     "output_type": "display_data"
    },
    {
     "name": "stdout",
     "output_type": "stream",
     "text": [
      "time: 590 ms\n"
     ]
    }
   ],
   "source": [
    "files = list(os.listdir('../y_pred'))\n",
    "X = np.zeros((df.shape[0],len(files)))\n",
    "\n",
    "for i, filename in enumerate(files):\n",
    "    if \".csv\" in filename and \"y_error\" in filename:\n",
    "        print(filename)\n",
    "        X[:,i] = np.loadtxt('../y_pred/'+filename,skiprows=1)\n",
    "bind = X.sum(axis=0) != 0\n",
    "X = X[:,bind]\n",
    "\n",
    "X = StandardScaler().fit_transform(X)\n",
    "    \n",
    "from sklearn.linear_model import LinearRegression\n",
    "#model = #LinearRegression()\n",
    "model = SGDRegressor(\n",
    "        loss='squared_loss',\n",
    "        penalty='elasticnet',\n",
    "        alpha=0.001,\n",
    "        l1_ratio=1,\n",
    "        fit_intercept=False,\n",
    "        n_iter=5,\n",
    "        shuffle=True,\n",
    "        verbose=0, epsilon=0.1, random_state=42, learning_rate='invscaling',\n",
    "        eta0=0.01, power_t=0.25, warm_start=False, average=False)\n",
    "#model = LinearRegression(fit_intercept=False)\n",
    "model.fit(X[ix_train], y_error)\n",
    "y_sumbit = model.predict(X[ix_test])\n",
    "\n",
    "pd.DataFrame({'ID':test.ID, 'y':y_sumbit + y_hat[ix_test]}).to_csv(\"../submit/stacking_by_SGD_files_y_error.csv\", index=False)\n",
    "\n",
    "plt.plot(model.coef_, 'ro')"
   ]
  },
  {
   "cell_type": "code",
   "execution_count": 79,
   "metadata": {
    "collapsed": false
   },
   "outputs": [
    {
     "data": {
      "text/plain": [
       "array([ 0.        ,  0.23346516,  0.2355044 ,  0.20884106, -0.58020998,\n",
       "        0.2355044 ])"
      ]
     },
     "execution_count": 79,
     "metadata": {},
     "output_type": "execute_result"
    },
    {
     "name": "stdout",
     "output_type": "stream",
     "text": [
      "time: 3.38 ms\n"
     ]
    }
   ],
   "source": [
    "model.coef_"
   ]
  },
  {
   "cell_type": "code",
   "execution_count": null,
   "metadata": {
    "collapsed": true
   },
   "outputs": [],
   "source": []
  }
 ],
 "metadata": {
  "kernelspec": {
   "display_name": "Python 3",
   "language": "python",
   "name": "python3"
  },
  "language_info": {
   "codemirror_mode": {
    "name": "ipython",
    "version": 3
   },
   "file_extension": ".py",
   "mimetype": "text/x-python",
   "name": "python",
   "nbconvert_exporter": "python",
   "pygments_lexer": "ipython3",
   "version": "3.6.0"
  }
 },
 "nbformat": 4,
 "nbformat_minor": 2
}
