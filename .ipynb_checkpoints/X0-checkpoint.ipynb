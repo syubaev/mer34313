{
 "cells": [
  {
   "cell_type": "code",
   "execution_count": 15,
   "metadata": {
    "collapsed": false
   },
   "outputs": [
    {
     "name": "stdout",
     "output_type": "stream",
     "text": [
      "The autotime extension is already loaded. To reload it, use:\n",
      "  %reload_ext autotime\n",
      "time: 23.2 ms\n"
     ]
    }
   ],
   "source": [
    "import os\n",
    "import pickle\n",
    "import multiprocessing\n",
    "import itertools\n",
    "\n",
    "import numpy as np\n",
    "import pandas as pd\n",
    "import matplotlib.pyplot as plt\n",
    "import seaborn as sns\n",
    "from sklearn import preprocessing\n",
    "import xgboost as xgb\n",
    "\n",
    "\n",
    "from sklearn.preprocessing import StandardScaler, LabelEncoder\n",
    "from sklearn.metrics import r2_score\n",
    "from sklearn.decomposition import PCA, FastICA\n",
    "\n",
    "from sklearn.linear_model import SGDRegressor\n",
    "from sklearn.pipeline import Pipeline\n",
    "from sklearn.model_selection import GridSearchCV, StratifiedKFold, KFold, cross_val_predict\n",
    "\n",
    "color = sns.color_palette()\n",
    "\n",
    "%matplotlib inline\n",
    "\n",
    "pd.options.mode.chained_assignment = None  # default='warn'\n",
    "pd.options.display.max_columns = 100\n",
    "\n",
    "from subprocess import check_output\n",
    "\n",
    "from pyfm import pylibfm\n",
    "from sklearn.model_selection import train_test_split\n",
    "from scipy.sparse import csr_matrix\n",
    "from sklearn.preprocessing import normalize\n",
    "\n",
    "from sklearn.preprocessing import OneHotEncoder, LabelEncoder\n",
    "from plotnine import *\n",
    "%load_ext autotime\n",
    "\n",
    "pd.options.display.max_rows = 20"
   ]
  },
  {
   "cell_type": "code",
   "execution_count": 321,
   "metadata": {
    "collapsed": false
   },
   "outputs": [
    {
     "name": "stdout",
     "output_type": "stream",
     "text": [
      "time: 357 ms\n"
     ]
    }
   ],
   "source": [
    "train = pd.read_csv(\"../data/train.csv\")\n",
    "test = pd.read_csv(\"../data/test.csv\")\n",
    "\n",
    "feat_all = train.columns[2:]\n",
    "feat_categ = train.dtypes.index[train.dtypes == 'object']\n",
    "feat_not_uniq = ['X289',\n",
    " 'X235',\n",
    " 'X347',\n",
    " 'X268',\n",
    " 'X11',\n",
    " 'X107',\n",
    " 'X233',\n",
    " 'X330',\n",
    " 'X290',\n",
    " 'X293',\n",
    " 'X297',\n",
    " 'X93']\n",
    "\n",
    "feat_numb = list(set(feat_all) - set(feat_categ) - set(feat_not_uniq))\n"
   ]
  },
  {
   "cell_type": "code",
   "execution_count": 322,
   "metadata": {
    "collapsed": false
   },
   "outputs": [
    {
     "name": "stdout",
     "output_type": "stream",
     "text": [
      "Train shape :  (4209, 379)\n",
      "Test shape :  (4209, 378)\n",
      "time: 93.9 ms\n"
     ]
    }
   ],
   "source": [
    "train['test'] = 0\n",
    "test['test'] = 1\n",
    "\n",
    "df = pd.concat([train, test], axis=0).reset_index()\n",
    "y = train.y\n",
    "df = df.drop([\"ID\", \"y\"], axis=1)\n",
    "print(\"Train shape : \", train.shape)\n",
    "print(\"Test shape : \", test.shape)\n",
    "\n",
    "ix_train = df.test == 0\n",
    "ix_test = df.test == 1\n",
    "bind_y = y < 154.68696\n",
    "\n",
    "y_rej = y[bind_y]"
   ]
  },
  {
   "cell_type": "code",
   "execution_count": 6,
   "metadata": {
    "collapsed": false
   },
   "outputs": [
    {
     "data": {
      "text/plain": [
       "array(['bc', 'az', 'ac', 'l', 'am', 'b', 'e', 'q', 'al', 'n', 'y', 'ai',\n",
       "       't', 'aq', 's', 'f', 'ad', 'u', 'ba', 'o', 'm', 'z', 'k', 'd', 'aj',\n",
       "       'ay', 'aw', 'h', 'v', 'ao', 'i', 'g', 'j', 'c', 'ax', 'x', 'ab',\n",
       "       'ak', 'w', 'af', 'at', 'r', 'as', 'a', 'ap', 'au', 'aa'], dtype=object)"
      ]
     },
     "execution_count": 6,
     "metadata": {},
     "output_type": "execute_result"
    },
    {
     "name": "stdout",
     "output_type": "stream",
     "text": [
      "time: 21.6 ms\n"
     ]
    }
   ],
   "source": [
    "df_tmp = pd.DataFrame({'X0':df[ix_train][bind_y].X0, 'y':y_rej})\n",
    "df_tmp_gr = df_tmp.groupby('X0').mean().sort_values('y')\n",
    "df_tmp_gr.index.values"
   ]
  },
  {
   "cell_type": "code",
   "execution_count": 7,
   "metadata": {
    "collapsed": false
   },
   "outputs": [
    {
     "data": {
      "text/plain": [
       "<matplotlib.axes._subplots.AxesSubplot at 0x7f10f0b53e48>"
      ]
     },
     "execution_count": 7,
     "metadata": {},
     "output_type": "execute_result"
    },
    {
     "name": "stderr",
     "output_type": "stream",
     "text": [
      "/home/subaevdi/anaconda3/lib/python3.6/site-packages/matplotlib/font_manager.py:1297: UserWarning: findfont: Font family ['sans-serif'] not found. Falling back to DejaVu Sans\n",
      "  (prop.get_family(), self.defaultFamily[fontext]))\n"
     ]
    },
    {
     "data": {
      "image/png": "[encoded data removed]",
      "text/plain": [
       "<matplotlib.figure.Figure at 0x7f10f0b0b588>"
      ]
     },
     "metadata": {},
     "output_type": "display_data"
    },
    {
     "name": "stdout",
     "output_type": "stream",
     "text": [
      "time: 1.44 s\n"
     ]
    }
   ],
   "source": [
    "plt.figure(figsize=(20,8))\n",
    "\n",
    "sns.boxplot(data=df[ix_train][bind_y], x='X0', y=y_rej, order=df_tmp_gr.index.values)\n",
    "#(ggplot(df[ix_train], aes(x='factor(X0)', y='y'))\n",
    "# + geom_boxplot() + theme(figure_size=(12, 8), # inches\n",
    "#    aspect_ratio=1/3))\n",
    "#+ stat_smooth(method='lm')\n",
    "#+ facet_wrap('~gear')\n",
    "#+ theme_xkcd())"
   ]
  },
  {
   "cell_type": "code",
   "execution_count": 220,
   "metadata": {
    "collapsed": false
   },
   "outputs": [
    {
     "data": {
      "text/plain": [
       "array(['a', 'aa', 'ab', 'ac', 'ad', 'af', 'ai', 'aj', 'ak', 'al', 'am',\n",
       "       'ao', 'ap', 'aq', 'as', 'at', 'au', 'aw', 'ax', 'ay', 'az', 'b',\n",
       "       'ba', 'bc', 'c', 'd', 'e', 'f', 'g', 'h', 'i', 'j', 'k', 'l', 'm',\n",
       "       'n', 'o', 'q', 'r', 's', 't', 'u', 'v', 'w', 'x', 'y', 'z'], dtype=object)"
      ]
     },
     "execution_count": 220,
     "metadata": {},
     "output_type": "execute_result"
    },
    {
     "name": "stdout",
     "output_type": "stream",
     "text": [
      "time: 2.88 ms\n"
     ]
    }
   ],
   "source": [
    "le.classes_"
   ]
  },
  {
   "cell_type": "code",
   "execution_count": 232,
   "metadata": {
    "collapsed": false,
    "scrolled": true
   },
   "outputs": [
    {
     "name": "stdout",
     "output_type": "stream",
     "text": [
      "                            OLS Regression Results                            \n",
      "==============================================================================\n",
      "Dep. Variable:                      y   R-squared:                       0.617\n",
      "Model:                            OLS   Adj. R-squared:                  0.613\n",
      "Method:                 Least Squares   F-statistic:                     145.5\n",
      "Date:                Fri, 07 Jul 2017   Prob (F-statistic):               0.00\n",
      "Time:                        08:08:18   Log-Likelihood:                -14431.\n",
      "No. Observations:                4200   AIC:                         2.896e+04\n",
      "Df Residuals:                    4153   BIC:                         2.925e+04\n",
      "Df Model:                          46                                         \n",
      "Covariance Type:            nonrobust                                         \n",
      "==============================================================================\n",
      "                 coef    std err          t      P>|t|      [0.025      0.975]\n",
      "------------------------------------------------------------------------------\n",
      "ohe_0         15.6960      1.665      9.429      0.000      12.433      18.959\n",
      "ohe_1         34.4950      7.411      4.655      0.000      19.966      49.024\n",
      "ohe_2         12.3650      7.411      1.669      0.095      -2.164      26.894\n",
      "ohe_3        -10.3150      7.411     -1.392      0.164     -24.844       4.214\n",
      "ohe_4         -5.8471      2.019     -2.897      0.004      -9.805      -1.890\n",
      "ohe_5         12.8561      1.314      9.781      0.000      10.279      15.433\n",
      "ohe_6         -6.2953      1.350     -4.663      0.000      -8.942      -3.648\n",
      "ohe_7          3.2606      0.729      4.475      0.000       1.832       4.689\n",
      "ohe_8         12.4956      0.566     22.066      0.000      11.385      13.606\n",
      "ohe_9         -6.7137      0.990     -6.780      0.000      -8.655      -4.772\n",
      "ohe_10        -8.6294      1.790     -4.820      0.000     -12.139      -5.119\n",
      "ohe_11         5.9675      3.722      1.603      0.109      -1.329      13.264\n",
      "ohe_12        16.6429      0.834     19.964      0.000      15.009      18.277\n",
      "ohe_13        -6.0944      1.790     -3.404      0.001      -9.604      -2.584\n",
      "ohe_14        15.4140      2.375      6.491      0.000      10.758      20.070\n",
      "ohe_15        13.5302      1.534      8.819      0.000      10.522      16.538\n",
      "ohe_16        18.7605      2.267      8.274      0.000      14.315      23.206\n",
      "ohe_17         3.8800      1.894      2.049      0.041       0.168       7.592\n",
      "ohe_18        12.2171      1.745      7.001      0.000       8.796      15.638\n",
      "ohe_19         3.5820      0.582      6.159      0.000       2.442       4.722\n",
      "ohe_20       -21.9095      0.690    -31.749      0.000     -23.262     -20.557\n",
      "ohe_21        -7.3405      2.267     -3.237      0.001     -11.786      -2.895\n",
      "ohe_22        -5.7831      1.480     -3.907      0.000      -8.685      -2.881\n",
      "ohe_23       -23.7400      3.048     -7.789      0.000     -29.715     -17.765\n",
      "ohe_24        12.1983      4.291      2.843      0.004       3.785      20.612\n",
      "ohe_25         2.5536      0.956      2.672      0.008       0.680       4.427\n",
      "ohe_26        -6.8947      1.369     -5.036      0.000      -9.579      -4.210\n",
      "ohe_27        -6.0083      0.636     -9.447      0.000      -7.255      -4.761\n",
      "ohe_28        10.8150      7.411      1.459      0.145      -3.714      25.344\n",
      "ohe_29         4.5211      0.945      4.783      0.000       2.668       6.374\n",
      "ohe_30        10.6622      1.790      5.955      0.000       7.152      14.172\n",
      "ohe_31        11.8666      0.684     17.355      0.000      10.526      13.207\n",
      "ohe_32        -0.4432      2.267     -0.195      0.845      -4.889       4.002\n",
      "ohe_33        -9.0112      1.894     -4.759      0.000     -12.724      -5.299\n",
      "ohe_34        -5.2171      1.332     -3.917      0.000      -7.828      -2.606\n",
      "ohe_35        -6.4437      0.666     -9.669      0.000      -7.750      -5.137\n",
      "ohe_36        -5.3163      0.606     -8.777      0.000      -6.504      -4.129\n",
      "ohe_37        -6.7300      5.248     -1.282      0.200     -17.019       3.559\n",
      "ohe_38        13.9790      2.375      5.887      0.000       9.323      18.635\n",
      "ohe_39        -6.0680      0.825     -7.359      0.000      -7.685      -4.451\n",
      "ohe_40        -6.2104      0.585    -10.616      0.000      -7.357      -5.063\n",
      "ohe_41        -5.8403      1.840     -3.175      0.002      -9.447      -2.234\n",
      "ohe_42         5.2600      1.298      4.053      0.000       2.716       7.804\n",
      "ohe_43        12.6791      0.681     18.610      0.000      11.343      14.015\n",
      "ohe_44        12.3226      0.589     20.917      0.000      11.168      13.478\n",
      "ohe_45        -6.4203      0.577    -11.128      0.000      -7.551      -5.289\n",
      "ohe_46        -4.8136      0.562     -8.571      0.000      -5.915      -3.713\n",
      "Inresept      99.9350      0.404    247.286      0.000      99.143     100.727\n",
      "==============================================================================\n",
      "Omnibus:                     2186.596   Durbin-Watson:                   2.002\n",
      "Prob(Omnibus):                  0.000   Jarque-Bera (JB):            15675.292\n",
      "Skew:                           2.416   Prob(JB):                         0.00\n",
      "Kurtosis:                      11.137   Cond. No.                     1.11e+16\n",
      "==============================================================================\n",
      "\n",
      "Warnings:\n",
      "[1] Standard Errors assume that the covariance matrix of the errors is correctly specified.\n",
      "[2] The smallest eigenvalue is 3.63e-29. This might indicate that there are\n",
      "strong multicollinearity problems or that the design matrix is singular.\n",
      "time: 64.3 ms\n"
     ]
    }
   ],
   "source": [
    "import statsmodels.api as sm\n",
    "\n",
    "le = LabelEncoder()\n",
    "val = le.fit_transform(df[ix_train][bind_y].X0)\n",
    "ohe = OneHotEncoder()\n",
    "\n",
    "X = ohe.fit_transform(val.reshape(-1,1))\n",
    "feat_ohe = ['ohe_' + str(i) for i in np.arange(X.shape[1])]\n",
    "X_ohe = pd.DataFrame(X.todense(), columns=feat_ohe)\n",
    "\n",
    "X_ohe['Inresept'] = 1\n",
    "\n",
    "model = sm.OLS(y_rej.values, X_ohe)\n",
    "results = model.fit()\n",
    "print(results.summary())\n",
    "coef = results.params"
   ]
  },
  {
   "cell_type": "code",
   "execution_count": 229,
   "metadata": {
    "collapsed": false
   },
   "outputs": [
    {
     "data": {
      "text/plain": [
       "(4200,)"
      ]
     },
     "execution_count": 229,
     "metadata": {},
     "output_type": "execute_result"
    },
    {
     "name": "stdout",
     "output_type": "stream",
     "text": [
      "time: 12.4 ms\n"
     ]
    }
   ],
   "source": []
  },
  {
   "cell_type": "code",
   "execution_count": 75,
   "metadata": {
    "collapsed": false
   },
   "outputs": [
    {
     "name": "stdout",
     "output_type": "stream",
     "text": [
      "time: 1.68 ms\n"
     ]
    }
   ],
   "source": [
    "df_tmp_gr['y'] = df_tmp_gr['y'] - 99.9350"
   ]
  },
  {
   "cell_type": "code",
   "execution_count": 62,
   "metadata": {
    "collapsed": false
   },
   "outputs": [
    {
     "name": "stdout",
     "output_type": "stream",
     "text": [
      "time: 3.07 ms\n"
     ]
    }
   ],
   "source": [
    "X_ohe.shape, y_rej.shape\n",
    "ind = df_tmp.X0.value_counts()[-9:].index.values"
   ]
  },
  {
   "cell_type": "code",
   "execution_count": 132,
   "metadata": {
    "collapsed": false
   },
   "outputs": [
    {
     "data": {
      "text/plain": [
       "as    10\n",
       "r     10\n",
       "bc     6\n",
       "ao     4\n",
       "c      3\n",
       "q      2\n",
       "aa     2\n",
       "ac     1\n",
       "ab     1\n",
       "g      1\n",
       "Name: X0, dtype: int64"
      ]
     },
     "execution_count": 132,
     "metadata": {},
     "output_type": "execute_result"
    },
    {
     "name": "stdout",
     "output_type": "stream",
     "text": [
      "time: 6.29 ms\n"
     ]
    }
   ],
   "source": [
    "train.X0.value_counts()[-10:]"
   ]
  },
  {
   "cell_type": "code",
   "execution_count": 157,
   "metadata": {
    "collapsed": true
   },
   "outputs": [
    {
     "data": {
      "text/plain": [
       "bb    1\n",
       "ae    1\n",
       "an    1\n",
       "ag    1\n",
       "av    1\n",
       "p     1\n",
       "Name: X0, dtype: int64"
      ]
     },
     "execution_count": 157,
     "metadata": {},
     "output_type": "execute_result"
    },
    {
     "name": "stdout",
     "output_type": "stream",
     "text": [
      "time: 6.07 ms\n"
     ]
    }
   ],
   "source": [
    "test.X0.value_counts().loc[['bb', 'ae', 'an', 'ag', 'av', 'p']]"
   ]
  },
  {
   "cell_type": "code",
   "execution_count": 77,
   "metadata": {
    "collapsed": false
   },
   "outputs": [
    {
     "name": "stdout",
     "output_type": "stream",
     "text": [
      "time: 779 ms\n"
     ]
    }
   ],
   "source": [
    "import sklearn.cluster"
   ]
  },
  {
   "cell_type": "code",
   "execution_count": 78,
   "metadata": {
    "collapsed": false
   },
   "outputs": [
    {
     "data": {
      "text/plain": [
       "LinearRegression(copy_X=True, fit_intercept=True, n_jobs=1, normalize=False)"
      ]
     },
     "execution_count": 78,
     "metadata": {},
     "output_type": "execute_result"
    },
    {
     "name": "stdout",
     "output_type": "stream",
     "text": [
      "time: 3.03 ms\n"
     ]
    }
   ],
   "source": [
    "from sklearn.linear_model import LinearRegression\n",
    "model = LinearRegression()\n",
    "model.fit()"
   ]
  },
  {
   "cell_type": "code",
   "execution_count": 82,
   "metadata": {
    "collapsed": false
   },
   "outputs": [
    {
     "name": "stdout",
     "output_type": "stream",
     "text": [
      "time: 11.2 ms\n"
     ]
    }
   ],
   "source": [
    "X0tr, X0tst = set(df[ix_train].X0.unique()), set(df[ix_test].X0.unique())"
   ]
  },
  {
   "cell_type": "code",
   "execution_count": 86,
   "metadata": {
    "collapsed": false
   },
   "outputs": [
    {
     "name": "stdout",
     "output_type": "stream",
     "text": [
      "Трейн которого нет в тесте {'ac', 'aa', 'ab', 'q'}\n",
      "Тест которого нет в трейне {'bb', 'ae', 'an', 'ag', 'av', 'p'}\n",
      "time: 1.66 ms\n"
     ]
    }
   ],
   "source": [
    "print(\"Трейн которого нет в тесте\", X0tr - X0tst)\n",
    "print(\"Тест которого нет в трейне\", X0tst - X0tr)"
   ]
  },
  {
   "cell_type": "code",
   "execution_count": 161,
   "metadata": {
    "collapsed": false
   },
   "outputs": [
    {
     "name": "stdout",
     "output_type": "stream",
     "text": [
      "time: 14.3 ms\n"
     ]
    }
   ],
   "source": [
    "val = df.X0\n",
    "le = LabelEncoder()\n",
    "val = le.fit_transform(val)\n",
    "\n",
    "ohe = OneHotEncoder()\n",
    "\n",
    "X_train = ohe.fit_transform(val[ix_train].reshape(-1,1))\n",
    "X_test = ohe.transform(val[ix_test].reshape(-1,1))\n",
    "\n",
    "#feat_ohe = ['ohe_' + str(i) for i in np.arange(X.shape[1])]\n",
    "#X_ohe = pd.DataFrame(X.todense(), columns=feat_ohe, index=df.index)"
   ]
  },
  {
   "cell_type": "code",
   "execution_count": 155,
   "metadata": {
    "collapsed": false,
    "scrolled": true
   },
   "outputs": [
    {
     "name": "stdout",
     "output_type": "stream",
     "text": [
      "{5, 7, 42, 13, 20, 27}\n"
     ]
    },
    {
     "data": {
      "text/plain": [
       "4520    ag\n",
       "Name: X0, dtype: object"
      ]
     },
     "execution_count": 155,
     "metadata": {},
     "output_type": "execute_result"
    },
    {
     "name": "stdout",
     "output_type": "stream",
     "text": [
      "time: 8.37 ms\n"
     ]
    }
   ],
   "source": [
    "a, b = np.unique(val[ix_train]), np.unique(val[ix_test])\n",
    "print(set(b) - set(a)  )\n",
    "len(set(b).union(set(a))), len(a), len(b)\n",
    "\n",
    "df.X0[val == 7]"
   ]
  },
  {
   "cell_type": "code",
   "execution_count": 147,
   "metadata": {
    "collapsed": false
   },
   "outputs": [
    {
     "data": {
      "text/plain": [
       "Int64Index([   0,    1,    2,    3,    4,    5,    6,    7,    8,    9,\n",
       "            ...\n",
       "            4199, 4200, 4201, 4202, 4203, 4204, 4205, 4206, 4207, 4208],\n",
       "           dtype='int64', length=8418)"
      ]
     },
     "execution_count": 147,
     "metadata": {},
     "output_type": "execute_result"
    },
    {
     "name": "stdout",
     "output_type": "stream",
     "text": [
      "time: 3.44 ms\n"
     ]
    }
   ],
   "source": [
    "le.classes_[7]\n",
    "\n",
    "df.index"
   ]
  },
  {
   "cell_type": "code",
   "execution_count": 160,
   "metadata": {
    "collapsed": false
   },
   "outputs": [
    {
     "name": "stdout",
     "output_type": "stream",
     "text": [
      "time: 11.3 ms\n"
     ]
    }
   ],
   "source": [
    "# LB -59.28220\n",
    "pd.DataFrame({'ID':test.ID, 'y':np.zeros(4209)}).to_csv(\"../submit/zeros.csv\", index=False)"
   ]
  },
  {
   "cell_type": "code",
   "execution_count": 171,
   "metadata": {
    "collapsed": false
   },
   "outputs": [
    {
     "data": {
      "text/html": [
       "<div>\n",
       "<style>\n",
       "    .dataframe thead tr:only-child th {\n",
       "        text-align: right;\n",
       "    }\n",
       "\n",
       "    .dataframe thead th {\n",
       "        text-align: left;\n",
       "    }\n",
       "\n",
       "    .dataframe tbody tr th {\n",
       "        vertical-align: top;\n",
       "    }\n",
       "</style>\n",
       "<table border=\"1\" class=\"dataframe\">\n",
       "  <thead>\n",
       "    <tr style=\"text-align: right;\">\n",
       "      <th></th>\n",
       "      <th>ID</th>\n",
       "      <th>X0</th>\n",
       "    </tr>\n",
       "  </thead>\n",
       "  <tbody>\n",
       "    <tr>\n",
       "      <th>153</th>\n",
       "      <td>289</td>\n",
       "      <td>av</td>\n",
       "    </tr>\n",
       "    <tr>\n",
       "      <th>311</th>\n",
       "      <td>624</td>\n",
       "      <td>ag</td>\n",
       "    </tr>\n",
       "    <tr>\n",
       "      <th>2914</th>\n",
       "      <td>5816</td>\n",
       "      <td>an</td>\n",
       "    </tr>\n",
       "    <tr>\n",
       "      <th>3281</th>\n",
       "      <td>6585</td>\n",
       "      <td>ae</td>\n",
       "    </tr>\n",
       "    <tr>\n",
       "      <th>3718</th>\n",
       "      <td>7420</td>\n",
       "      <td>p</td>\n",
       "    </tr>\n",
       "    <tr>\n",
       "      <th>3913</th>\n",
       "      <td>7805</td>\n",
       "      <td>bb</td>\n",
       "    </tr>\n",
       "  </tbody>\n",
       "</table>\n",
       "</div>"
      ],
      "text/plain": [
       "        ID  X0\n",
       "153    289  av\n",
       "311    624  ag\n",
       "2914  5816  an\n",
       "3281  6585  ae\n",
       "3718  7420   p\n",
       "3913  7805  bb"
      ]
     },
     "execution_count": 171,
     "metadata": {},
     "output_type": "execute_result"
    },
    {
     "name": "stdout",
     "output_type": "stream",
     "text": [
      "time: 10.9 ms\n"
     ]
    }
   ],
   "source": []
  },
  {
   "cell_type": "code",
   "execution_count": 181,
   "metadata": {
    "collapsed": false
   },
   "outputs": [
    {
     "name": "stdout",
     "output_type": "stream",
     "text": [
      "time: 2.79 ms\n"
     ]
    }
   ],
   "source": [
    "# LB -59.28220\n",
    "y_pred = np.zeros(4209)\n",
    "y_pred[153] = 100\n",
    "t = pd.DataFrame({'ID':test.ID, 'y':y_pred})\n",
    "#"
   ]
  },
  {
   "cell_type": "code",
   "execution_count": 183,
   "metadata": {
    "collapsed": false
   },
   "outputs": [
    {
     "data": {
      "text/plain": [
       "ID    289.0\n",
       "y     100.0\n",
       "Name: 153, dtype: float64"
      ]
     },
     "execution_count": 183,
     "metadata": {},
     "output_type": "execute_result"
    },
    {
     "name": "stdout",
     "output_type": "stream",
     "text": [
      "time: 4.32 ms\n"
     ]
    }
   ],
   "source": [
    "t.iloc[153]"
   ]
  },
  {
   "cell_type": "code",
   "execution_count": 216,
   "metadata": {
    "collapsed": false
   },
   "outputs": [
    {
     "name": "stdout",
     "output_type": "stream",
     "text": [
      "time: 96.3 ms\n"
     ]
    }
   ],
   "source": [
    "from sklearn.cluster import KMeans\n",
    "model = KMeans(n_clusters=4)\n",
    "clusters = model.fit_predict(train.y.values.reshape(-1,1))\n",
    "\n",
    "df_tmp = pd.DataFrame({'X0':train.X0, 'y':train.y, 'cluster':clusters})\n",
    "for cl in df_tmp.cluster.unique():\n",
    "    t = df_tmp[df_tmp.cluster == cl]\n",
    "    #print(np.mean(t.y), t.shape)\n",
    "    #print(t.X0.value_counts())"
   ]
  },
  {
   "cell_type": "code",
   "execution_count": 217,
   "metadata": {
    "collapsed": false
   },
   "outputs": [
    {
     "data": {
      "image/png": "[encoded data removed]",
      "text/plain": [
       "<matplotlib.figure.Figure at 0x7f10ec2dc0b8>"
      ]
     },
     "metadata": {},
     "output_type": "display_data"
    },
    {
     "data": {
      "text/plain": [
       "<ggplot: (-9223363304938557454)>"
      ]
     },
     "execution_count": 217,
     "metadata": {},
     "output_type": "execute_result"
    },
    {
     "name": "stdout",
     "output_type": "stream",
     "text": [
      "time: 2.03 s\n"
     ]
    }
   ],
   "source": [
    "(ggplot(df_tmp, aes(x='X0',y='y', color ='cluster'))\n",
    " + geom_point() + theme(figure_size=(12, 8), # inches\n",
    "    aspect_ratio=1/3))\n",
    "#+ stat_smooth(method='lm')\n",
    "#+ facet_wrap('~gear')\n",
    "#+ theme_xkcd())"
   ]
  },
  {
   "cell_type": "code",
   "execution_count": 252,
   "metadata": {
    "collapsed": false
   },
   "outputs": [
    {
     "data": {
      "image/png": "[encoded data removed]",
      "text/plain": [
       "<matplotlib.figure.Figure at 0x7f10df83aef0>"
      ]
     },
     "metadata": {},
     "output_type": "display_data"
    },
    {
     "data": {
      "text/plain": [
       "<ggplot: (8731902523354)>"
      ]
     },
     "execution_count": 252,
     "metadata": {},
     "output_type": "execute_result"
    },
    {
     "name": "stdout",
     "output_type": "stream",
     "text": [
      "time: 1.26 s\n"
     ]
    }
   ],
   "source": [
    "model = KMeans(n_clusters=5)\n",
    "coef_prd = coef[:-1]\n",
    "clusters = model.fit_predict(coef_prd.values.reshape(-1,1))\n",
    "df_tmp = pd.DataFrame({'coef':coef_prd.index, 'val':coef_prd.values, 'cluster':clusters})\n",
    "\n",
    "(ggplot(df_tmp, aes(x='coef', y='val', color='cluster'))\n",
    " + geom_point() + stat_smooth(method='lm') + theme(figure_size=(12, 8), # inches\n",
    "    aspect_ratio=1/3))"
   ]
  },
  {
   "cell_type": "code",
   "execution_count": 350,
   "metadata": {
    "collapsed": false
   },
   "outputs": [
    {
     "data": {
      "text/html": [
       "<div>\n",
       "<style>\n",
       "    .dataframe thead tr:only-child th {\n",
       "        text-align: right;\n",
       "    }\n",
       "\n",
       "    .dataframe thead th {\n",
       "        text-align: left;\n",
       "    }\n",
       "\n",
       "    .dataframe tbody tr th {\n",
       "        vertical-align: top;\n",
       "    }\n",
       "</style>\n",
       "<table border=\"1\" class=\"dataframe\">\n",
       "  <thead>\n",
       "    <tr>\n",
       "      <th></th>\n",
       "      <th colspan=\"2\" halign=\"left\">val</th>\n",
       "    </tr>\n",
       "    <tr>\n",
       "      <th></th>\n",
       "      <th>mean</th>\n",
       "      <th>count</th>\n",
       "    </tr>\n",
       "    <tr>\n",
       "      <th>cluster</th>\n",
       "      <th></th>\n",
       "      <th></th>\n",
       "    </tr>\n",
       "  </thead>\n",
       "  <tbody>\n",
       "    <tr>\n",
       "      <th>0</th>\n",
       "      <td>13.406264</td>\n",
       "      <td>16</td>\n",
       "    </tr>\n",
       "    <tr>\n",
       "      <th>1</th>\n",
       "      <td>-6.599628</td>\n",
       "      <td>20</td>\n",
       "    </tr>\n",
       "    <tr>\n",
       "      <th>2</th>\n",
       "      <td>-22.824726</td>\n",
       "      <td>2</td>\n",
       "    </tr>\n",
       "    <tr>\n",
       "      <th>3</th>\n",
       "      <td>3.572721</td>\n",
       "      <td>8</td>\n",
       "    </tr>\n",
       "    <tr>\n",
       "      <th>4</th>\n",
       "      <td>34.495003</td>\n",
       "      <td>1</td>\n",
       "    </tr>\n",
       "  </tbody>\n",
       "</table>\n",
       "</div>"
      ],
      "text/plain": [
       "               val      \n",
       "              mean count\n",
       "cluster                 \n",
       "0        13.406264    16\n",
       "1        -6.599628    20\n",
       "2       -22.824726     2\n",
       "3         3.572721     8\n",
       "4        34.495003     1"
      ]
     },
     "execution_count": 350,
     "metadata": {},
     "output_type": "execute_result"
    },
    {
     "name": "stdout",
     "output_type": "stream",
     "text": [
      "time: 15.1 ms\n"
     ]
    }
   ],
   "source": [
    "df_tmp.groupby('cluster').agg(['mean', 'count'])"
   ]
  },
  {
   "cell_type": "code",
   "execution_count": 257,
   "metadata": {
    "collapsed": false
   },
   "outputs": [
    {
     "data": {
      "text/plain": [
       "99.934997332061045"
      ]
     },
     "execution_count": 257,
     "metadata": {},
     "output_type": "execute_result"
    },
    {
     "name": "stdout",
     "output_type": "stream",
     "text": [
      "time: 2.71 ms\n"
     ]
    }
   ],
   "source": [
    "coef[-1]"
   ]
  },
  {
   "cell_type": "code",
   "execution_count": 262,
   "metadata": {
    "collapsed": false
   },
   "outputs": [
    {
     "data": {
      "text/html": [
       "<div>\n",
       "<style>\n",
       "    .dataframe thead tr:only-child th {\n",
       "        text-align: right;\n",
       "    }\n",
       "\n",
       "    .dataframe thead th {\n",
       "        text-align: left;\n",
       "    }\n",
       "\n",
       "    .dataframe tbody tr th {\n",
       "        vertical-align: top;\n",
       "    }\n",
       "</style>\n",
       "<table border=\"1\" class=\"dataframe\">\n",
       "  <thead>\n",
       "    <tr style=\"text-align: right;\">\n",
       "      <th></th>\n",
       "      <th>ID</th>\n",
       "      <th>X0</th>\n",
       "    </tr>\n",
       "  </thead>\n",
       "  <tbody>\n",
       "    <tr>\n",
       "      <th>153</th>\n",
       "      <td>289</td>\n",
       "      <td>av</td>\n",
       "    </tr>\n",
       "    <tr>\n",
       "      <th>311</th>\n",
       "      <td>624</td>\n",
       "      <td>ag</td>\n",
       "    </tr>\n",
       "    <tr>\n",
       "      <th>2914</th>\n",
       "      <td>5816</td>\n",
       "      <td>an</td>\n",
       "    </tr>\n",
       "    <tr>\n",
       "      <th>3281</th>\n",
       "      <td>6585</td>\n",
       "      <td>ae</td>\n",
       "    </tr>\n",
       "    <tr>\n",
       "      <th>3718</th>\n",
       "      <td>7420</td>\n",
       "      <td>p</td>\n",
       "    </tr>\n",
       "    <tr>\n",
       "      <th>3913</th>\n",
       "      <td>7805</td>\n",
       "      <td>bb</td>\n",
       "    </tr>\n",
       "  </tbody>\n",
       "</table>\n",
       "</div>"
      ],
      "text/plain": [
       "        ID  X0\n",
       "153    289  av\n",
       "311    624  ag\n",
       "2914  5816  an\n",
       "3281  6585  ae\n",
       "3718  7420   p\n",
       "3913  7805  bb"
      ]
     },
     "execution_count": 262,
     "metadata": {},
     "output_type": "execute_result"
    },
    {
     "name": "stdout",
     "output_type": "stream",
     "text": [
      "time: 13.8 ms\n"
     ]
    }
   ],
   "source": [
    "test.X0.value_counts().loc[['bb', 'ae', 'an', 'ag', 'av', 'p']]\n",
    "test[test.X0.isin(['bb', 'ae', 'an', 'ag', 'av', 'p'])][['ID', 'X0']]"
   ]
  },
  {
   "cell_type": "code",
   "execution_count": 261,
   "metadata": {
    "collapsed": false
   },
   "outputs": [
    {
     "name": "stdout",
     "output_type": "stream",
     "text": [
      "time: 36.9 ms\n"
     ]
    }
   ],
   "source": [
    "# 153 av\n",
    "# LB -59.22568\n",
    "y_pred = np.zeros(4209)\n",
    "y_pred[153] = 99.93499-6.599628\n",
    "pd.DataFrame({'ID':test.ID, 'y':y_pred}).to_csv(\"../submit/zeros153clust1.csv\", index=False)\n",
    "\n",
    "# LB -59.22967\n",
    "y_pred = np.zeros(4209)\n",
    "y_pred[153] = 99.93499+13.406264\n",
    "pd.DataFrame({'ID':test.ID, 'y':y_pred}).to_csv(\"../submit/zeros153clust0.csv\", index=False)\n",
    "\n",
    "# LB -59.22661\n",
    "y_pred = np.zeros(4209)\n",
    "y_pred[153] = 99.93499-22.824726\n",
    "pd.DataFrame({'ID':test.ID, 'y':y_pred}).to_csv(\"../submit/zeros153clust2.csv\", index=False)\n",
    "#"
   ]
  },
  {
   "cell_type": "code",
   "execution_count": 268,
   "metadata": {
    "collapsed": false
   },
   "outputs": [
    {
     "name": "stdout",
     "output_type": "stream",
     "text": [
      "time: 35.6 ms\n"
     ]
    }
   ],
   "source": [
    "# 311 ag\n",
    "#\n",
    "ind = 311\n",
    "\n",
    "# LB XXXX\n",
    "y_pred = np.zeros(4209)\n",
    "y_pred[ind] = 99.93499-6.599628\n",
    "pd.DataFrame({'ID':test.ID, 'y':y_pred}).to_csv(\"../submit/zeros\" + str(ind) + \"clust1.csv\", index=False)\n",
    "\n",
    "# LB -59.28220\n",
    "y_pred = np.zeros(4209)\n",
    "y_pred[ind] = 99.93499+13.406264\n",
    "pd.DataFrame({'ID':test.ID, 'y':y_pred}).to_csv(\"../submit/zeros\" + str(ind) + \"clust0.csv\", index=False)\n",
    "\n",
    "# LB XXXX\n",
    "y_pred = np.zeros(4209)\n",
    "y_pred[ind] = 99.93499-22.824726\n",
    "pd.DataFrame({'ID':test.ID, 'y':y_pred}).to_csv(\"../submit/zeros\" + str(ind) + \"clust2.csv\", index=False)"
   ]
  },
  {
   "cell_type": "code",
   "execution_count": 390,
   "metadata": {
    "collapsed": false
   },
   "outputs": [
    {
     "name": "stdout",
     "output_type": "stream",
     "text": [
      "time: 12.1 ms\n"
     ]
    }
   ],
   "source": [
    "kf = KFold(n_splits=5, shuffle=True, random_state=42)\n",
    "\n",
    "def one_model_pred(f_predict, columns, out_file_name=\"ab\"):\n",
    "    #if columns is None:\n",
    "    #    raise Exception(\"Col is None\")\n",
    "    #if out_file_name is None:\n",
    "    #    raise Exception(\"out_file_name is None\")\n",
    "    X_stacking = np.empty(df.shape[0])\n",
    "    X = df[ix_train]; print(X.shape)\n",
    "    i = 0\n",
    "    for train_index, test_index in kf.split(X):\n",
    "        i = i + 1\n",
    "        X_train, X_test = X.loc[train_index], X.loc[test_index]\n",
    "        y_train, y_test = y[train_index], y[test_index]\n",
    "        y_pred = f_predict(X_train, y_train, X_test, columns)\n",
    "        X_stacking[test_index] = y_pred\n",
    "        print(\"Fold=\",i, 'r2=',r2_score(y_test, y_pred))\n",
    "    print(\"KFold done!\")\n",
    "    #X_stacking[ix_test] = f_predict(df[ix_train], y, df[ix_test], feat_numb_top200)\n",
    "    #pd.DataFrame({'y_pred':X_stacking}).\\\n",
    "    #    to_csv(\"../y_pred/\" + out_file_name + \".csv\", index=False)\n",
    "    print(\"Done!\")\n",
    "    return None"
   ]
  },
  {
   "cell_type": "code",
   "execution_count": 323,
   "metadata": {
    "collapsed": false
   },
   "outputs": [
    {
     "name": "stdout",
     "output_type": "stream",
     "text": [
      "time: 78.6 ms\n"
     ]
    }
   ],
   "source": [
    "le = LabelEncoder()\n",
    "df['X0_le'] = le.fit_transform(df.X0)\n",
    "#df[ix_test]['X0_le'] = le.transform(df[ix_test].X0)\n",
    "ohe = OneHotEncoder()\n",
    "\n",
    "X_train = ohe.fit_transform(df[ix_train].X0_le.values.reshape(-1, 1))\n",
    "X_test = ohe.transform(df[ix_test].X0_le.values.reshape(-1, 1))\n",
    "\n",
    "feat_ohe = ['ohe_' + str(i) for i in np.arange(X_train.shape[1])]\n",
    "t1 = pd.DataFrame(X_train.todense(), columns=feat_ohe, index=df[ix_train].index)\n",
    "t2 = pd.DataFrame(X_test.todense(), columns=feat_ohe, index=df[ix_test].index)\n",
    "t3 = pd.concat([t1, t2])\n",
    "\n",
    "#feat_ohe = ['ohe_' + str(i) for i in np.arange(X.shape[1])]\n",
    "#t = pd.DataFrame(X.todense(), columns=feat_ohe, index=df.index)\n",
    "df = pd.concat( [df, t3] , axis=1)\n",
    "\n",
    "del X_train, X_test"
   ]
  },
  {
   "cell_type": "code",
   "execution_count": 391,
   "metadata": {
    "collapsed": false
   },
   "outputs": [
    {
     "name": "stdout",
     "output_type": "stream",
     "text": [
      "(4209, 430)\n",
      "Fold= 1 r2= -0.000135110204167\n",
      "Fold= 2 r2= -0.00720412016186\n",
      "Fold= 3 r2= -0.000479269750406\n",
      "Fold= 4 r2= -0.0081831957258\n",
      "Fold= 5 r2= -0.00110830372062\n",
      "KFold done!\n",
      "Done!\n",
      "time: 127 ms\n"
     ]
    },
    {
     "name": "stderr",
     "output_type": "stream",
     "text": [
      "/home/subaevdi/anaconda3/lib/python3.6/site-packages/ipykernel/__main__.py:9: UserWarning: Boolean Series key will be reindexed to match DataFrame index.\n"
     ]
    }
   ],
   "source": [
    "def lr(X_train, y_train, X_test, columns):\n",
    "    model = LinearRegression()\n",
    "    model.fit(X_train[columns], y_train)\n",
    "    return model.predict(X_test[columns])\n",
    "one_model_pred(lr, ['val'])"
   ]
  },
  {
   "cell_type": "code",
   "execution_count": 392,
   "metadata": {
    "collapsed": false
   },
   "outputs": [
    {
     "data": {
      "text/plain": [
       "0       37\n",
       "1       37\n",
       "2       37\n",
       "3       37\n",
       "4       37\n",
       "5       37\n",
       "6       37\n",
       "7       37\n",
       "8       37\n",
       "9       37\n",
       "        ..\n",
       "5946    33\n",
       "5947    33\n",
       "5948    33\n",
       "5949     2\n",
       "5950    20\n",
       "5951     7\n",
       "5952    13\n",
       "5953     5\n",
       "5954    42\n",
       "5955    27\n",
       "Name: X0_le, Length: 5956, dtype: int64"
      ]
     },
     "execution_count": 392,
     "metadata": {},
     "output_type": "execute_result"
    },
    {
     "name": "stdout",
     "output_type": "stream",
     "text": [
      "time: 10.7 ms\n"
     ]
    }
   ],
   "source": [
    "clust_mean = df_tmp.groupby('cluster').mean()\n",
    "df_tmp['X0_label'] = df_tmp.coef.apply(lambda x: x.split('_')[1]).astype(int)\n",
    "df.X0_le"
   ]
  },
  {
   "cell_type": "code",
   "execution_count": 396,
   "metadata": {
    "collapsed": false
   },
   "outputs": [
    {
     "name": "stdout",
     "output_type": "stream",
     "text": [
      "time: 84 ms\n"
     ]
    }
   ],
   "source": [
    "#for cluster in \n",
    "df_tmp.X0_label\n",
    "df = pd.merge(df, df_tmp[['cluster', 'X0_label']], left_on='X0_le', right_on='X0_label')"
   ]
  },
  {
   "cell_type": "code",
   "execution_count": 397,
   "metadata": {
    "collapsed": false
   },
   "outputs": [
    {
     "name": "stdout",
     "output_type": "stream",
     "text": [
      "time: 22.5 ms\n"
     ]
    },
    {
     "name": "stderr",
     "output_type": "stream",
     "text": [
      "/home/subaevdi/anaconda3/lib/python3.6/site-packages/ipykernel/__main__.py:1: UserWarning: Boolean Series key will be reindexed to match DataFrame index.\n",
      "  if __name__ == '__main__':\n"
     ]
    }
   ],
   "source": [
    "X = ohe.fit_transform(df[ix_train].cluster.values.reshape(-1, 1))\n",
    "feat_cluster = ['cluster_' + str(i) for i in np.arange(X.shape[1])]\n",
    "t1 = pd.DataFrame(X.todense(), columns=feat_cluster)\n",
    "t1['y'] = train.y\n"
   ]
  },
  {
   "cell_type": "code",
   "execution_count": 398,
   "metadata": {
    "collapsed": false
   },
   "outputs": [
    {
     "data": {
      "text/plain": [
       "array([ -7.03932305e-04,  -7.12117994e-03,  -2.28069626e-03,\n",
       "        -1.49633689e-02,  -2.36136167e-05])"
      ]
     },
     "execution_count": 398,
     "metadata": {},
     "output_type": "execute_result"
    },
    {
     "name": "stdout",
     "output_type": "stream",
     "text": [
      "time: 26.4 ms\n"
     ]
    }
   ],
   "source": [
    "from sklearn.model_selection import cross_val_score\n",
    "cross_val_score(LinearRegression(),t1[feat_cluster], t1.y, scoring='r2', cv=kf)"
   ]
  },
  {
   "cell_type": "markdown",
   "metadata": {},
   "source": [
    "# Кластарезация по X0\n",
    "1. Построить лин. регрессию по X0 OHE\n",
    "2. Кластарезовать коэфициенты -> уменьшит их кол-во\n",
    "3. Построить новую линейную регресию на объеденных X0"
   ]
  },
  {
   "cell_type": "code",
   "execution_count": 544,
   "metadata": {
    "collapsed": false,
    "scrolled": true
   },
   "outputs": [
    {
     "name": "stdout",
     "output_type": "stream",
     "text": [
      "time: 112 ms\n"
     ]
    }
   ],
   "source": [
    "CLUST_NUMB = 7\n",
    "\n",
    "y = train.y\n",
    "le = LabelEncoder().fit(pd.concat([train.X0, test.X0]))\n",
    "\n",
    "# Кодируем X0 в трейне и тесте\n",
    "X0_le, test_X0_le = le.transform(train.X0), le.transform(test.X0)\n",
    "\n",
    "ohe = OneHotEncoder()\n",
    "X0_ohe = ohe.fit_transform(X0_le.reshape(-1,1))\n",
    "\n",
    "# Словарь соответствия кода X0 номеру коэф в регрессии\n",
    "d_le_coef = dict([(le,i) for i, le in enumerate(ohe.active_features_)], )\n",
    "\n",
    "# Вычисляем регрессию для всех кодов\n",
    "model = LinearRegression().fit(X0_ohe, y)\n",
    "\n",
    "# 47 коэф. регресси по кластерм\n",
    "coef_clust = KMeans(n_clusters=CLUST_NUMB).fit_predict(model.coef_.reshape(-1,1))\n",
    "\n",
    "# Найти код Х0 в списке коэфицинтов по кластерам\n",
    "X0_clust = np.array([coef_clust[ d_le_coef.get(x0_code) ] for x0_code in X0_le])\n",
    "\n",
    "# Если кода нету в трейне и для него не рассчитан коэфициент, то присвоить значение самого массового кластера\n",
    "POPULAR_CLASTER = pd.DataFrame({'cl':X0_clust}).cl.value_counts().index[0]\n",
    "\n",
    "test_X0_clust = np.array(\n",
    "    [coef_clust[ d_le_coef.get(x0_code, POPULAR_CLASTER) ] \n",
    "                          for x0_code in test_X0_le])\n",
    "\n",
    "X0_ohe, test_X0_ohe = ohe.fit_transform(X0_clust.reshape(-1, 1)),\\\n",
    "    ohe.transform(test_X0_clust.reshape(-1, 1))\n",
    "\n",
    "res = cross_val_score(LinearRegression(), X0_ohe, y, scoring='r2', cv=kf)\n",
    "\n",
    "model = LinearRegression().fit(X0_ohe, y)\n",
    "y_sumbit = model.predict(test_X0_ohe)\n",
    "\n",
    "# LB ????\n",
    "pd.DataFrame({'ID':test.ID, 'y':y_sumbit}).to_csv(\"../submit/clustering_coef_X0_cluster\"+str(CLUST_NUMB)+\".csv\", index=False)"
   ]
  },
  {
   "cell_type": "code",
   "execution_count": 537,
   "metadata": {
    "collapsed": false
   },
   "outputs": [
    {
     "data": {
      "text/plain": [
       "array([4, 5, 4, ..., 5, 6, 5], dtype=int32)"
      ]
     },
     "execution_count": 537,
     "metadata": {},
     "output_type": "execute_result"
    },
    {
     "name": "stdout",
     "output_type": "stream",
     "text": [
      "time: 3.59 ms\n"
     ]
    }
   ],
   "source": []
  },
  {
   "cell_type": "code",
   "execution_count": null,
   "metadata": {
    "collapsed": true
   },
   "outputs": [],
   "source": []
  }
 ],
 "metadata": {
  "kernelspec": {
   "display_name": "Python 3",
   "language": "python",
   "name": "python3"
  },
  "language_info": {
   "codemirror_mode": {
    "name": "ipython",
    "version": 3
   },
   "file_extension": ".py",
   "mimetype": "text/x-python",
   "name": "python",
   "nbconvert_exporter": "python",
   "pygments_lexer": "ipython3",
   "version": "3.6.0"
  }
 },
 "nbformat": 4,
 "nbformat_minor": 2
}
