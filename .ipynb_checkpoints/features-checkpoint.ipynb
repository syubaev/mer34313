{
 "cells": [
  {
   "cell_type": "code",
   "execution_count": 1,
   "metadata": {
    "collapsed": false
   },
   "outputs": [],
   "source": [
    "import os\n",
    "import pickle\n",
    "import multiprocessing\n",
    "import itertools\n",
    "\n",
    "import numpy as np\n",
    "import pandas as pd\n",
    "import matplotlib.pyplot as plt\n",
    "import seaborn as sns\n",
    "from sklearn import preprocessing\n",
    "import xgboost as xgb\n",
    "\n",
    "\n",
    "from sklearn.preprocessing import StandardScaler, LabelEncoder\n",
    "from sklearn.metrics import r2_score\n",
    "from sklearn.decomposition import PCA, FastICA\n",
    "\n",
    "from sklearn.linear_model import SGDRegressor\n",
    "from sklearn.pipeline import Pipeline\n",
    "from sklearn.model_selection import GridSearchCV, StratifiedKFold, KFold, cross_val_predict\n",
    "\n",
    "color = sns.color_palette()\n",
    "\n",
    "%matplotlib inline\n",
    "\n",
    "pd.options.mode.chained_assignment = None  # default='warn'\n",
    "pd.options.display.max_columns = 100\n",
    "\n",
    "from subprocess import check_output\n",
    "\n",
    "from pyfm import pylibfm\n",
    "from sklearn.model_selection import train_test_split\n",
    "from scipy.sparse import csr_matrix\n",
    "from sklearn.preprocessing import normalize\n",
    "\n",
    "%load_ext autotime"
   ]
  },
  {
   "cell_type": "code",
   "execution_count": 98,
   "metadata": {
    "collapsed": false
   },
   "outputs": [
    {
     "name": "stdout",
     "output_type": "stream",
     "text": [
      "Train shape :  (4209, 379)\n",
      "Test shape :  (4209, 378)\n",
      "time: 439 ms\n"
     ]
    }
   ],
   "source": [
    "train = pd.read_csv(\"../data/train.csv\")\n",
    "test = pd.read_csv(\"../data/test.csv\")\n",
    "\n",
    "train['test'] = 0\n",
    "test['test'] = 1\n",
    "\n",
    "df = pd.concat([train, test], axis=0)\n",
    "y = train.y\n",
    "df = df.drop([\"ID\", \"y\"], axis=1)\n",
    "print(\"Train shape : \", train.shape)\n",
    "print(\"Test shape : \", test.shape)\n",
    "\n",
    "ix_train = df.test == 0\n",
    "ix_test = df.test == 1"
   ]
  },
  {
   "cell_type": "code",
   "execution_count": 3,
   "metadata": {
    "collapsed": false
   },
   "outputs": [
    {
     "name": "stdout",
     "output_type": "stream",
     "text": [
      "time: 3.2 ms\n"
     ]
    }
   ],
   "source": [
    "feat_all = train.columns[2:]\n",
    "feat_categ = train.dtypes.index[train.dtypes == 'object']\n",
    "feat_numb = list(set(feat_all) - set(feat_categ))"
   ]
  },
  {
   "cell_type": "markdown",
   "metadata": {},
   "source": [
    "Переменные, которые сильнее всего разделяют средний y"
   ]
  },
  {
   "cell_type": "code",
   "execution_count": 4,
   "metadata": {
    "collapsed": false
   },
   "outputs": [
    {
     "name": "stdout",
     "output_type": "stream",
     "text": [
      "time: 1.65 ms\n"
     ]
    }
   ],
   "source": [
    "predictors = ['X339', 'X236', 'X205', 'X204', 'X270', 'X167', 'X277', 'X278', 'X269', 'X29',\n",
    " 'X232', 'X279', 'X263', 'X276', 'X328', 'X272', 'X166', 'X17', 'X382', 'X378',\n",
    " 'X371', 'X108', 'X325', 'X136', 'X54', 'X76', 'X185', 'X162', 'X159', 'X310', 'X252']"
   ]
  },
  {
   "cell_type": "code",
   "execution_count": 5,
   "metadata": {
    "collapsed": false
   },
   "outputs": [
    {
     "name": "stdout",
     "output_type": "stream",
     "text": [
      "time: 15.3 ms\n"
     ]
    }
   ],
   "source": [
    "def check_model(predictors):\n",
    "    classifier = lambda: SGDRegressor(\n",
    "        loss='squared_loss',\n",
    "        penalty='elasticnet',\n",
    "        alpha=0.0005,\n",
    "        l1_ratio=0.15,\n",
    "        fit_intercept=True,\n",
    "        n_iter=5,\n",
    "        shuffle=True,\n",
    "        verbose=0, epsilon=0.1, random_state=42, learning_rate='invscaling',\n",
    "        eta0=0.01, power_t=0.25, warm_start=False, average=False)\n",
    "    \n",
    "\n",
    "    model = Pipeline(steps=[\n",
    "        #('ss', StandardScaler()),\n",
    "        ('en', classifier())\n",
    "    ])\n",
    "\n",
    "    parameters = {\n",
    "        'en__alpha': [0.00001, 0.0001, 0.001, 0.01, 0.02, 0.1, 0.5, 0.6, 0.7, 0.9, 1],\n",
    "        'en__l1_ratio': [0, 0.001, 0.01, 0.1, 0.3, 0.5, 0.75, 0.9, 1]\n",
    "    }\n",
    "    #parameters = {\n",
    "    #    'en__alpha': [0.00001, 0.0001],\n",
    "    #    'en__l1_ratio': [0, 0.0001, 0.001]\n",
    "    #}\n",
    "\n",
    "    folder = KFold(n_splits=5, shuffle=True, random_state=42)\n",
    "    \n",
    "    grid_search = GridSearchCV(\n",
    "        model, \n",
    "        parameters,\n",
    "        scoring='r2',\n",
    "        cv=folder, \n",
    "        n_jobs=-1, \n",
    "        verbose=1)\n",
    "    grid_search = grid_search.fit(df[ix_train][predictors], \n",
    "                                  y)\n",
    "    \n",
    "    return grid_search"
   ]
  },
  {
   "cell_type": "code",
   "execution_count": 6,
   "metadata": {
    "collapsed": false
   },
   "outputs": [
    {
     "name": "stdout",
     "output_type": "stream",
     "text": [
      "time: 8.35 ms\n"
     ]
    }
   ],
   "source": [
    "def pickle_check_model(predictors, model_file, bremove = False):\n",
    "    model_file = './../tmp/' + model_file\n",
    "    if bremove and os.path.isfile(model_file):\n",
    "        print(\"Removing old file\")\n",
    "        os.remove(model_file)\n",
    "    if not os.path.isfile(model_file):\n",
    "        print(\"Make grid search...\")\n",
    "        model = check_model(predictors)\n",
    "\n",
    "        with open(model_file, 'wb') as f:\n",
    "            pickle.dump(model, f)\n",
    "    else:\n",
    "        with open(model_file, 'rb') as f:\n",
    "            print(\"Load from file...\")\n",
    "            model = pickle.load(f)\n",
    "    print(model.best_score_)\n",
    "    print(model.best_params_)\n",
    "    return model"
   ]
  },
  {
   "cell_type": "code",
   "execution_count": 7,
   "metadata": {
    "collapsed": false
   },
   "outputs": [
    {
     "name": "stdout",
     "output_type": "stream",
     "text": [
      "Load from file...\n",
      "0.132319948991\n",
      "{'en__alpha': 1e-05, 'en__l1_ratio': 0}\n",
      "time: 2.19 ms\n"
     ]
    }
   ],
   "source": [
    "t = pickle_check_model(predictors, '1_model.pkl')"
   ]
  },
  {
   "cell_type": "code",
   "execution_count": 8,
   "metadata": {
    "collapsed": false
   },
   "outputs": [
    {
     "name": "stdout",
     "output_type": "stream",
     "text": [
      "Load from file...\n",
      "0.132319948991\n",
      "{'en__alpha': 1e-05, 'en__l1_ratio': 0}\n",
      "time: 2.34 ms\n"
     ]
    }
   ],
   "source": [
    "t = pickle_check_model(predictors, '1.1_model.pkl')"
   ]
  },
  {
   "cell_type": "code",
   "execution_count": 10,
   "metadata": {
    "collapsed": false
   },
   "outputs": [
    {
     "name": "stdout",
     "output_type": "stream",
     "text": [
      "time: 35.8 ms\n"
     ]
    }
   ],
   "source": [
    "n_comp = 5\n",
    "ica = FastICA(n_components=n_comp, random_state=42)\n",
    "ica2_results_train = ica.fit_transform(df[ix_train][predictors])\n"
   ]
  },
  {
   "cell_type": "code",
   "execution_count": 11,
   "metadata": {
    "collapsed": false
   },
   "outputs": [
    {
     "name": "stdout",
     "output_type": "stream",
     "text": [
      "time: 12.7 ms\n"
     ]
    }
   ],
   "source": [
    "feat_ica = ['ica_' + str(c) for c in np.arange(n_comp)]\n",
    "df_tmp=pd.DataFrame(ica2_results_train, columns=feat_ica)\n",
    "if np.any(train.columns.isin(feat_ica)):\n",
    "    train = train.drop(feat_ica, axis=1)\n",
    "train = pd.concat((train, df_tmp), axis=1)\n",
    "train.shape\n",
    "train.columns\n",
    "\n",
    "del df_tmp"
   ]
  },
  {
   "cell_type": "code",
   "execution_count": 12,
   "metadata": {
    "collapsed": false
   },
   "outputs": [
    {
     "name": "stdout",
     "output_type": "stream",
     "text": [
      "Load from file...\n",
      "0.132328312484\n",
      "{'en__alpha': 1e-05, 'en__l1_ratio': 0}\n",
      "time: 2.54 ms\n"
     ]
    }
   ],
   "source": [
    "t = pickle_check_model(predictors + feat_ica, '2_model.pkl')"
   ]
  },
  {
   "cell_type": "code",
   "execution_count": 13,
   "metadata": {
    "collapsed": false
   },
   "outputs": [
    {
     "name": "stdout",
     "output_type": "stream",
     "text": [
      "Load from file...\n",
      "-0.00178350274056\n",
      "{'en__alpha': 1e-05, 'en__l1_ratio': 0}\n",
      "time: 2.14 ms\n"
     ]
    }
   ],
   "source": [
    "t = pickle_check_model(feat_ica, '3_model.pkl')"
   ]
  },
  {
   "cell_type": "code",
   "execution_count": 27,
   "metadata": {
    "collapsed": false
   },
   "outputs": [
    {
     "name": "stdout",
     "output_type": "stream",
     "text": [
      "Removing old file\n",
      "Make grid search...\n",
      "Fitting 5 folds for each of 99 candidates, totalling 495 fits\n"
     ]
    },
    {
     "name": "stderr",
     "output_type": "stream",
     "text": [
      "[Parallel(n_jobs=-1)]: Done  76 tasks      | elapsed:    3.7s\n",
      "[Parallel(n_jobs=-1)]: Done 376 tasks      | elapsed:   19.5s\n",
      "[Parallel(n_jobs=-1)]: Done 488 out of 495 | elapsed:   25.5s remaining:    0.4s\n"
     ]
    },
    {
     "name": "stdout",
     "output_type": "stream",
     "text": [
      "0.511579804396\n",
      "{'en__alpha': 1e-05, 'en__l1_ratio': 1}\n",
      "time: 26.1 s\n"
     ]
    },
    {
     "name": "stderr",
     "output_type": "stream",
     "text": [
      "[Parallel(n_jobs=-1)]: Done 495 out of 495 | elapsed:   25.7s finished\n"
     ]
    }
   ],
   "source": [
    "t = pickle_check_model(feat_numb, '4_model.pkl', bremove=False)"
   ]
  },
  {
   "cell_type": "code",
   "execution_count": 28,
   "metadata": {
    "collapsed": false
   },
   "outputs": [
    {
     "name": "stderr",
     "output_type": "stream",
     "text": [
      "/home/subaevdi/anaconda3/lib/python3.6/site-packages/matplotlib/font_manager.py:1297: UserWarning: findfont: Font family ['sans-serif'] not found. Falling back to DejaVu Sans\n",
      "  (prop.get_family(), self.defaultFamily[fontext]))\n"
     ]
    },
    {
     "data": {
      "image/png": "[encoded data removed]",
      "text/plain": [
       "<matplotlib.figure.Figure at 0x7f4b33bfe7b8>"
      ]
     },
     "metadata": {},
     "output_type": "display_data"
    },
    {
     "name": "stdout",
     "output_type": "stream",
     "text": [
      "time: 244 ms\n"
     ]
    }
   ],
   "source": [
    "a = t.best_estimator_.steps[0][1]\n",
    "df_tmp = pd.DataFrame({'col':feat_numb, 'val':a.coef_})\n",
    "df_tmp['abs_val'] = np.abs(df_tmp.val)\n",
    "df_tmp = df_tmp.sort_values('abs_val', ascending=False).reset_index()\n",
    "plt.plot(df_tmp.abs_val)\n",
    "\n",
    "feat_numb_top150 =list(df_tmp.col[:150])"
   ]
  },
  {
   "cell_type": "code",
   "execution_count": 87,
   "metadata": {
    "collapsed": false
   },
   "outputs": [
    {
     "name": "stdout",
     "output_type": "stream",
     "text": [
      "time: 8.51 ms\n"
     ]
    }
   ],
   "source": [
    "def woker(p):\n",
    "    f1 = p[0]\n",
    "    f2 = p[1]\n",
    "    nf = f1 + '_' + f2\n",
    "    train[nf] = train[f1] * train[f2]\n",
    "    return nf\n",
    "\n",
    "numb_pairs = [(f1,f2) for f1, f2 in itertools.combinations(feat_numb_top150, r=2)][:50000]\n",
    "\n",
    "#with multiprocessing.Pool() as pool: # default is optimal number of processes\n",
    "#    feat_numb_pair = pool.map(woker, numb_pairs)"
   ]
  },
  {
   "cell_type": "code",
   "execution_count": null,
   "metadata": {
    "collapsed": false
   },
   "outputs": [],
   "source": [
    "#t = pickle_check_model(feat_numb_pair, '5_model.pkl')"
   ]
  },
  {
   "cell_type": "markdown",
   "metadata": {},
   "source": [
    "1. Генерим пары по 200 штук\n",
    "2. Добавляем в train\n",
    "3. Запускаем модель из базовыйх + добавленные 100 раз\n",
    "4. Находим лучшую"
   ]
  },
  {
   "cell_type": "code",
   "execution_count": 17,
   "metadata": {
    "collapsed": false
   },
   "outputs": [
    {
     "name": "stdout",
     "output_type": "stream",
     "text": [
      "Load from file...\n",
      "Load from file...\n",
      "time: 9.26 ms\n"
     ]
    }
   ],
   "source": [
    "if not os.path.isfile('./../tmp/model_score_list.pkl'):\n",
    "    with open('./../tmp/model_score_list.pkl', 'wb') as f:\n",
    "        pickle.dump(model_score_list, f)\n",
    "    with open('./../tmp/model_pairs_list.pkl', 'wb') as f:\n",
    "        pickle.dump(model_pairs_list, f)\n",
    "else:\n",
    "    with open('./../tmp/model_pairs_list.pkl', 'rb') as f:\n",
    "        print(\"Load from file...\")\n",
    "        model_pairs_list = pickle.load(f)\n",
    "    with open('./../tmp/model_score_list.pkl', 'rb') as f:\n",
    "        print(\"Load from file...\")\n",
    "        model_score_list = pickle.load(f)"
   ]
  },
  {
   "cell_type": "code",
   "execution_count": 89,
   "metadata": {
    "collapsed": false
   },
   "outputs": [
    {
     "name": "stdout",
     "output_type": "stream",
     "text": [
      "Топ 10 индексов, R2 в массиве с парами:          scr\n",
      "23  0.442851\n",
      "10  0.436912\n",
      "36  0.436789\n",
      "40  0.436373\n",
      "2   0.433045\n",
      "38  0.430571\n",
      "39  0.430131\n",
      "30  0.429575\n",
      "21  0.429495\n",
      "32  0.428968\n"
     ]
    },
    {
     "name": "stderr",
     "output_type": "stream",
     "text": [
      "/home/subaevdi/anaconda3/lib/python3.6/site-packages/matplotlib/font_manager.py:1297: UserWarning: findfont: Font family ['sans-serif'] not found. Falling back to DejaVu Sans\n",
      "  (prop.get_family(), self.defaultFamily[fontext]))\n"
     ]
    },
    {
     "data": {
      "image/png": "[encoded data removed]",
      "text/plain": [
       "<matplotlib.figure.Figure at 0x7f4b33cb1320>"
      ]
     },
     "metadata": {},
     "output_type": "display_data"
    },
    {
     "name": "stdout",
     "output_type": "stream",
     "text": [
      "time: 224 ms\n"
     ]
    }
   ],
   "source": [
    "df_tmp = pd.DataFrame({'scr':model_score_list})\n",
    "plt.plot(df_tmp.sort_values('scr', ascending=False).values)\n",
    "plt.title(\"Ошибка R2 для грид серча по парам\")\n",
    "print(\"Топ 10 индексов, R2 в массиве с парами:\", df_tmp.sort_values('scr', ascending=False).\\\n",
    "      head(10))"
   ]
  },
  {
   "cell_type": "code",
   "execution_count": 90,
   "metadata": {
    "collapsed": false
   },
   "outputs": [
    {
     "name": "stdout",
     "output_type": "stream",
     "text": [
      "time: 1.97 s\n"
     ]
    }
   ],
   "source": [
    "def woker_split(p_in):\n",
    "    p = p_in.split(\"_\")\n",
    "    f1 = p[0]\n",
    "    f2 = p[1]\n",
    "    df[p_in] = df[f1] * df[f2]\n",
    "    return p_in\n",
    "\n",
    "top_index = df_tmp.sort_values('scr', ascending=False).\\\n",
    "      head(5).index\n",
    "#for pairs_index in \n",
    "#_ = [woker_split(p) for p in model_pairs_list[pairs_index]]\n",
    "\n",
    "feat_pairs_in_top = sum([model_pairs_list[ind] for ind in top_index], [])\n",
    "feat_pairs_in_top = list(set(feat_pairs_in_top))\n",
    "\n",
    "# Add pairs to train\n",
    "_ = [woker_split(p) for p in feat_pairs_in_top]\n"
   ]
  },
  {
   "cell_type": "code",
   "execution_count": 29,
   "metadata": {
    "collapsed": false,
    "scrolled": true
   },
   "outputs": [
    {
     "name": "stdout",
     "output_type": "stream",
     "text": [
      "Load from file...\n",
      "0.486810358613\n",
      "{'en__alpha': 1e-05, 'en__l1_ratio': 1}\n",
      "time: 2.77 ms\n"
     ]
    }
   ],
   "source": [
    "# Построим модель соеденив\n",
    "m = pickle_check_model(feat_numb_top150 + feat_pairs_in_top, '7_model.pkl')"
   ]
  },
  {
   "cell_type": "markdown",
   "metadata": {},
   "source": [
    "## Submit XGBoost\n",
    "Сделаем сабмит по парам индесков."
   ]
  },
  {
   "cell_type": "code",
   "execution_count": null,
   "metadata": {
    "collapsed": false
   },
   "outputs": [],
   "source": [
    " ()# mmm, xgboost, loved by everyone ^-^\n",
    "import xgboost as xgb\n",
    "\n",
    "y_mean= np.mean(train.y)\n",
    "# prepare dict of params for xgboost to run with\n",
    "xgb_params = { \n",
    "    'eta': 0.005,\n",
    "    'max_depth': 4,\n",
    "    'subsample': 0.7,\n",
    "    'min_child_weight': 25,\n",
    "    'colsample_bytree': 0.7,\n",
    "    'objective': 'reg:linear',\n",
    "    'eval_metric': 'rmse',\n",
    "    'base_score': y_mean, # base prediction = mean(target)\n",
    "    'silent': 1,\n",
    "    'tree_method':'hist',\n",
    "    'seed':42\n",
    "}\n",
    "\n",
    "\n",
    "# form DMatrices for Xgboost training\n",
    "dtrain = xgb.DMatrix(train[feat_numb_top150 + top_pairs], train.y)\n",
    "dtest = xgb.DMatrix(test[feat_numb_top150 + top_pairs])\n",
    "\n",
    "# xgboost, cross-validation\n",
    "cv_result = xgb.cv(xgb_params, \n",
    "                   dtrain, \n",
    "                   num_boost_round=1500, # increase to have better results (~700)\n",
    "                   early_stopping_rounds=50,\n",
    "                   verbose_eval=50, \n",
    "                   show_stdv=False\n",
    "                  )\n",
    "\n",
    "num_boost_rounds = len(cv_result)\n",
    "print(num_boost_rounds)\n",
    "\n",
    "# train model\n",
    "model = xgb.train(dict(xgb_params, silent=0), dtrain, num_boost_round=num_boost_rounds)\n",
    "print(r2_score(dtrain.get_label(), model.predict(dtrain)))"
   ]
  },
  {
   "cell_type": "code",
   "execution_count": null,
   "metadata": {
    "collapsed": false
   },
   "outputs": [],
   "source": [
    "y_test = model.predict(dtest)\n",
    "res = pd.DataFrame({'ID':test.ID, 'y':y_test})\n",
    "res.to_csv(\"../submit/xgb_feat_numb_top150_top_pairsLB0.54214.csv\", index=False)"
   ]
  },
  {
   "cell_type": "code",
   "execution_count": 91,
   "metadata": {
    "collapsed": false
   },
   "outputs": [
    {
     "ename": "NameError",
     "evalue": "name 'top_pairs' is not defined",
     "output_type": "error",
     "traceback": [
      "\u001b[0;31m---------------------------------------------------------------------------\u001b[0m",
      "\u001b[0;31mNameError\u001b[0m                                 Traceback (most recent call last)",
      "\u001b[0;32m<ipython-input-91-5439d5a55df6>\u001b[0m in \u001b[0;36m<module>\u001b[0;34m()\u001b[0m\n\u001b[0;32m----> 1\u001b[0;31m \u001b[0mfeat_list\u001b[0m \u001b[0;34m=\u001b[0m \u001b[0mfeat_numb_top150\u001b[0m \u001b[0;34m+\u001b[0m \u001b[0mtop_pairs\u001b[0m\u001b[0;34m\u001b[0m\u001b[0m\n\u001b[0m\u001b[1;32m      2\u001b[0m \u001b[0mn_comp\u001b[0m \u001b[0;34m=\u001b[0m \u001b[0;36m10\u001b[0m\u001b[0;34m\u001b[0m\u001b[0m\n\u001b[1;32m      3\u001b[0m \u001b[0;34m\u001b[0m\u001b[0m\n\u001b[1;32m      4\u001b[0m \u001b[0;34m\u001b[0m\u001b[0m\n\u001b[1;32m      5\u001b[0m \u001b[0;31m# PCA\u001b[0m\u001b[0;34m\u001b[0m\u001b[0;34m\u001b[0m\u001b[0m\n",
      "\u001b[0;31mNameError\u001b[0m: name 'top_pairs' is not defined"
     ]
    },
    {
     "name": "stdout",
     "output_type": "stream",
     "text": [
      "time: 16.3 ms\n"
     ]
    }
   ],
   "source": [
    "feat_list = feat_numb_top150 + top_pairs\n",
    "n_comp = 10\n",
    "\n",
    "\n",
    "# PCA\n",
    "pca = PCA(n_components=n_comp, random_state=42)\n",
    "pca.fit(df[ix_train][feat_list])\n",
    "pca2_df = pca.transform(df[feat_list])\n",
    "\n",
    "# ICA\n",
    "ica = FastICA(n_components=n_comp, random_state=42, max_iter = 600)\n",
    "ica.fit(df[ix_train][feat_list])\n",
    "ica2_df= ica.transform(df[feat_list])\n",
    "\n",
    "# Append decomposition components to datasets\n",
    "feat_pca = list()\n",
    "feat_ica = list()\n",
    "for i in range(1, n_comp+1):\n",
    "    df['pca_' + str(i)] = pca2_df[:,i-1]\n",
    "    df['ica_' + str(i)] = ica2_df[:,i-1]\n",
    "    feat_pca.append('pca_' + str(i))\n",
    "    feat_ica.append('ica_' + str(i))\n"
   ]
  },
  {
   "cell_type": "code",
   "execution_count": null,
   "metadata": {
    "collapsed": false
   },
   "outputs": [],
   "source": [
    "y_mean= np.mean(train.y)\n",
    "# prepare dict of params for xgboost to run with\n",
    "xgb_params = { \n",
    "    'eta': 0.005,\n",
    "    'max_depth': 4,\n",
    "    'subsample': 0.6,\n",
    "    'min_child_weight': 25,\n",
    "    'colsample_bytree': 0.6,\n",
    "    'objective': 'reg:linear',\n",
    "    'eval_metric': 'rmse',\n",
    "    'base_score': y_mean, # base prediction = mean(target)\n",
    "    'silent': 1,\n",
    "    'tree_method':'hist',\n",
    "    'seed':42\n",
    "}\n",
    "\n",
    "\n",
    "# form DMatrices for Xgboost training\n",
    "dtrain = xgb.DMatrix(train[feat_pca + feat_ica], train.y)\n",
    "dtest = xgb.DMatrix(test[feat_pca + feat_ica])\n",
    "\n",
    "# xgboost, cross-validation\n",
    "cv_result = xgb.cv(xgb_params, \n",
    "                   dtrain, \n",
    "                   num_boost_round=1500, # increase to have better results (~700)\n",
    "                   early_stopping_rounds=50,\n",
    "                   verbose_eval=50, \n",
    "                   show_stdv=False\n",
    "                  )\n",
    "\n",
    "num_boost_rounds = len(cv_result)\n",
    "print(num_boost_rounds)\n",
    "\n",
    "# train model\n",
    "model = xgb.train(dict(xgb_params, silent=0), dtrain, num_boost_round=num_boost_rounds)\n",
    "print(r2_score(dtrain.get_label(), model.predict(dtrain)))"
   ]
  },
  {
   "cell_type": "code",
   "execution_count": null,
   "metadata": {
    "collapsed": false
   },
   "outputs": [],
   "source": [
    "m = pickle_check_model(feat_numb_top150 + model_pairs_list[23], '6_model.pkl')"
   ]
  },
  {
   "cell_type": "code",
   "execution_count": null,
   "metadata": {
    "collapsed": false
   },
   "outputs": [],
   "source": [
    "pairs_in_model = list()\n",
    "for i in [23, 10, 36, 40, 2, 38, 39, 30, 21, 32]:\n",
    "    a = m.best_estimator_.steps[0][1].coef_\n",
    "    df_tmp = pd.DataFrame({'col':feat_numb_top150 + model_pairs_list[i], 'val':a})\n",
    "    df_tmp['abs_val'] = np.abs(df_tmp.val)\n",
    "    df_tmp = df_tmp.sort_values('abs_val', ascending=False).reset_index()\n",
    "    pairs_in_model.append([x for x in df_tmp.col[:50] if '_' in x])\n",
    "    #plt.plot(df_tmp.abs_val)\n",
    "    #plt.title(str(i))\n",
    "    #plt.show()\n",
    "    "
   ]
  },
  {
   "cell_type": "code",
   "execution_count": null,
   "metadata": {
    "collapsed": false
   },
   "outputs": [],
   "source": [
    "a = sum(pairs_in_model, [])\n",
    "feat_pairs_in_top = list(np.unique(a))"
   ]
  },
  {
   "cell_type": "code",
   "execution_count": null,
   "metadata": {
    "collapsed": false
   },
   "outputs": [],
   "source": [
    "m = pickle_check_model(feat_numb_top150 + feat_pairs_in_top, '7_model.pkl')"
   ]
  },
  {
   "cell_type": "code",
   "execution_count": null,
   "metadata": {
    "collapsed": false
   },
   "outputs": [],
   "source": [
    "m = pickle_check_model(feat_numb + pairs_in_top, '8_model.pkl')"
   ]
  },
  {
   "cell_type": "code",
   "execution_count": null,
   "metadata": {
    "collapsed": false
   },
   "outputs": [],
   "source": [
    "a = m.best_estimator_.steps[0][1].coef_\n",
    "df_tmp = pd.DataFrame({'col':feat_numb + pairs_in_top, 'val':a})\n",
    "df_tmp['abs_val'] = np.abs(df_tmp.val)\n",
    "df_tmp = df_tmp.sort_values('abs_val', ascending=False).reset_index()"
   ]
  },
  {
   "cell_type": "markdown",
   "metadata": {},
   "source": [
    "## Двух этапный SGD\n",
    "1. Обучем SGD на feat_numb\n",
    "2. Вычислим ошибку $$y_{err} = y - y_{hat}$$\n",
    "3. Обучим $y_{pairs} = SGD(feat\\_pairs, y_{err})$\n",
    "4. Конченый прогноз\n",
    "$$y_{end} = y_{hat} + y_{pairs} $$\n",
    "\n",
    "$$y_{hat} =w_0 + w*X_{feat\\_numb}, min(Error(y, y_{hat})) $$\n",
    "$$y_{pairs} =z_0 + z*X_{feat\\_pairs} , min(Error( y - y_{hat}, y_{pairs} ))$$\n",
    "\n",
    "$$ y_{hat} + y_{pairs} = w_0 + w*X_{feat\\_numb} + z_0 + z*X_{feat\\_pairs} $$\n"
   ]
  },
  {
   "cell_type": "code",
   "execution_count": null,
   "metadata": {
    "collapsed": false
   },
   "outputs": [],
   "source": [
    "kf = KFold(n_splits=10, shuffle=True, random_state=42)\n",
    "clf = SGDRegressor(\n",
    "        loss='squared_loss',\n",
    "        penalty='elasticnet',\n",
    "        alpha=1e-05,\n",
    "        l1_ratio=1,\n",
    "        fit_intercept=True,\n",
    "        n_iter=5,\n",
    "        shuffle=True,\n",
    "        verbose=0, epsilon=0.1, random_state=42, learning_rate='invscaling',\n",
    "        eta0=0.01, power_t=0.25, warm_start=False, average=False)\n",
    "y_hat = cross_val_predict(clf, train[feat_numb], y=train.y, cv=kf)\n",
    "r2_score(train.y, y_hat)\n",
    "\n",
    "y_err = train.y - y_hat "
   ]
  },
  {
   "cell_type": "code",
   "execution_count": 93,
   "metadata": {
    "collapsed": false
   },
   "outputs": [
    {
     "data": {
      "text/plain": [
       "((8418, 211), (8418, 1768), (8418, 1979))"
      ]
     },
     "execution_count": 93,
     "metadata": {},
     "output_type": "execute_result"
    },
    {
     "name": "stdout",
     "output_type": "stream",
     "text": [
      "time: 316 ms\n"
     ]
    }
   ],
   "source": [
    "from sklearn.preprocessing import OneHotEncoder, LabelEncoder\n",
    "\n",
    "\n",
    "for col in feat_categ:\n",
    "    df[col] = LabelEncoder().fit_transform(df[col])\n",
    "X = OneHotEncoder().fit_transform(df[feat_categ])\n",
    "\n",
    "\n",
    "feat_ohe = ['ohe_' + str(i) for i in np.arange(X.shape[1])]\n",
    "t = pd.DataFrame(X.todense(), columns=feat_ohe, index=df.index)\n",
    "df_2 = pd.concat( [df, t] , axis=1)\n",
    "\n",
    "\n",
    "\n",
    "t.shape, df.shape, df_2.shape"
   ]
  },
  {
   "cell_type": "code",
   "execution_count": null,
   "metadata": {
    "collapsed": false
   },
   "outputs": [],
   "source": []
  },
  {
   "cell_type": "code",
   "execution_count": null,
   "metadata": {
    "collapsed": false
   },
   "outputs": [],
   "source": [
    "df_2.columns"
   ]
  },
  {
   "cell_type": "code",
   "execution_count": null,
   "metadata": {
    "collapsed": false
   },
   "outputs": [],
   "source": [
    "y_mean= np.mean(y)\n",
    "# prepare dict of params for xgboost to run with\n",
    "xgb_params = { \n",
    "    'eta': 0.005,\n",
    "    'max_depth': 4,\n",
    "    'subsample': 0.8,\n",
    "    'min_child_weight': 25,\n",
    "    'colsample_bytree': 0.8,\n",
    "    'objective': 'reg:linear',\n",
    "    'eval_metric': 'rmse',\n",
    "    'base_score': y_mean, # base prediction = mean(target)\n",
    "    'silent': 1,\n",
    "    'tree_method':'hist',\n",
    "    'seed':42,\n",
    "#    'gamma': 0.05,\n",
    "    'alpha':0.3\n",
    "}\n",
    "\n",
    "tmp = normalize(df_2[feat_ohe + feat_numb + feat_ica])\n",
    "\n",
    "# form DMatrices for Xgboost training\n",
    "dtrain = xgb.DMatrix(tmp[ix_train], y)\n",
    "dtest = xgb.DMatrix(tmp[ix_test])\n",
    "\n",
    "# xgboost, cross-validation\n",
    "cv_result = xgb.cv(xgb_params, \n",
    "                   dtrain, \n",
    "                   num_boost_round=1500, # increase to have better results (~700)\n",
    "                   early_stopping_rounds=100,\n",
    "                   verbose_eval=200, \n",
    "                   show_stdv=False\n",
    "                  )\n",
    "\n",
    "num_boost_rounds = len(cv_result)\n",
    "print(num_boost_rounds)\n",
    "\n",
    "# train model\n",
    "model = xgb.train(dict(xgb_params, silent=0), dtrain, num_boost_round=num_boost_rounds)\n",
    "print(r2_score(dtrain.get_label(), model.predict(dtrain)))"
   ]
  },
  {
   "cell_type": "code",
   "execution_count": null,
   "metadata": {
    "collapsed": false
   },
   "outputs": [],
   "source": [
    "cv_result.iloc[-1,2]"
   ]
  },
  {
   "cell_type": "code",
   "execution_count": null,
   "metadata": {
    "collapsed": false
   },
   "outputs": [],
   "source": [
    "df.index"
   ]
  },
  {
   "cell_type": "code",
   "execution_count": null,
   "metadata": {
    "collapsed": false
   },
   "outputs": [],
   "source": [
    "t = pd.DataFrame(X.todense())\n",
    "# = pd.concat([df,t], axis=1)\n",
    "t2.shape"
   ]
  },
  {
   "cell_type": "code",
   "execution_count": null,
   "metadata": {
    "collapsed": false
   },
   "outputs": [],
   "source": [
    "a = pd.concat([train,test], axis=0)\n",
    "a.shape"
   ]
  },
  {
   "cell_type": "code",
   "execution_count": null,
   "metadata": {
    "collapsed": false,
    "scrolled": true
   },
   "outputs": [],
   "source": [
    "\n",
    "\n",
    "\n",
    "y_categ = cross_val_predict(clf, X, y=y_err, cv=kf)\n"
   ]
  },
  {
   "cell_type": "code",
   "execution_count": null,
   "metadata": {
    "collapsed": false
   },
   "outputs": [],
   "source": [
    "r2_score(train.y, y_categ + y_hat)"
   ]
  },
  {
   "cell_type": "code",
   "execution_count": null,
   "metadata": {
    "collapsed": false
   },
   "outputs": [],
   "source": [
    "def check_model2(X, y):\n",
    "    classifier = lambda: SGDRegressor(\n",
    "        loss='squared_loss',\n",
    "        penalty='elasticnet',\n",
    "        alpha=0.0005,\n",
    "        l1_ratio=0.15,\n",
    "        fit_intercept=True,\n",
    "        n_iter=5,\n",
    "        shuffle=True,\n",
    "        verbose=0, epsilon=0.1, random_state=42, learning_rate='invscaling',\n",
    "        eta0=0.01, power_t=0.25, warm_start=False, average=False)\n",
    "    \n",
    "\n",
    "    model = Pipeline(steps=[\n",
    "        #('ss', StandardScaler()),\n",
    "        ('en', classifier())\n",
    "    ])\n",
    "\n",
    "    parameters = {\n",
    "        'en__alpha': [0.00001, 0.0001, 0.001, 0.01, 0.02, 0.1, 0.5, 0.6, 0.7, 0.9, 1],\n",
    "        'en__l1_ratio': [0, 0.001, 0.01, 0.1, 0.3, 0.5, 0.75, 0.9, 1]\n",
    "    }\n",
    "    #parameters = {\n",
    "    #    'en__alpha': [0.00001, 0.0001],\n",
    "    #    'en__l1_ratio': [0, 0.0001, 0.001]\n",
    "    #}\n",
    "\n",
    "    folder = KFold(n_splits=5, shuffle=True, random_state=42)\n",
    "    \n",
    "    grid_search = GridSearchCV(\n",
    "        model, \n",
    "        parameters,\n",
    "        scoring='r2',\n",
    "        cv=folder, \n",
    "        n_jobs=-1, \n",
    "        verbose=1)\n",
    "    grid_search = grid_search.fit(X, y)\n",
    "    \n",
    "    return grid_search"
   ]
  },
  {
   "cell_type": "code",
   "execution_count": null,
   "metadata": {
    "collapsed": false
   },
   "outputs": [],
   "source": [
    "m = check_model2(X, y_err)"
   ]
  },
  {
   "cell_type": "markdown",
   "metadata": {
    "collapsed": false
   },
   "source": [
    "## FFM"
   ]
  },
  {
   "cell_type": "code",
   "execution_count": 33,
   "metadata": {
    "collapsed": false
   },
   "outputs": [
    {
     "name": "stdout",
     "output_type": "stream",
     "text": [
      "time: 6.89 ms\n"
     ]
    },
    {
     "name": "stderr",
     "output_type": "stream",
     "text": [
      "/home/subaevdi/anaconda3/lib/python3.6/site-packages/sklearn/cross_validation.py:44: DeprecationWarning: This module was deprecated in version 0.18 in favor of the model_selection module into which all the refactored classes and functions are moved. Also note that the interface of the new CV iterators are different from that of this module. This module will be removed in 0.20.\n",
      "  \"This module will be removed in 0.20.\", DeprecationWarning)\n"
     ]
    }
   ],
   "source": []
  },
  {
   "cell_type": "code",
   "execution_count": null,
   "metadata": {
    "collapsed": true
   },
   "outputs": [],
   "source": [
    "train = [\n",
    "    {\"user\": \"1\", \"item\": \"5\", \"age\": 19},\n",
    "    {\"user\": \"2\", \"item\": \"43\", \"age\": 33},\n",
    "    {\"user\": \"3\", \"item\": \"20\", \"age\": 55},\n",
    "    {\"user\": \"4\", \"item\": \"10\", \"age\": 20},\n",
    "]\n",
    "v = DictVectorizer()\n",
    "X = v.fit_transform(train)\n",
    "print(X.toarray())\n",
    "\n",
    "\n",
    "y = np.repeat(1.0,X.shape[0])\n",
    "fm = pylibfm.FM()\n",
    "fm.fit(X,y)\n",
    "fm.predict(v.transform({\"user\": \"1\", \"item\": \"10\", \"age\": 24}))\n"
   ]
  },
  {
   "cell_type": "code",
   "execution_count": null,
   "metadata": {
    "collapsed": false
   },
   "outputs": [],
   "source": []
  },
  {
   "cell_type": "code",
   "execution_count": 92,
   "metadata": {
    "collapsed": false
   },
   "outputs": [
    {
     "name": "stdout",
     "output_type": "stream",
     "text": [
      "time: 267 ms\n"
     ]
    }
   ],
   "source": [
    "tmp = normalize(\n",
    "    csr_matrix(df_2[ix_train][feat_numb_top150 + feat_pairs_in_top].astype(float))\n",
    ")\n",
    "X_train, X_test, y_train, y_test = train_test_split(tmp, np.array(y),\n",
    "                                                    test_size=0.2, random_state = 42)\n"
   ]
  },
  {
   "cell_type": "code",
   "execution_count": 36,
   "metadata": {
    "collapsed": false,
    "scrolled": true
   },
   "outputs": [
    {
     "name": "stdout",
     "output_type": "stream",
     "text": [
      "_num_factors 1 _num_iter 2 0.001 0.475593144494\n",
      "_num_factors 1 _num_iter 2 0.01 0.393411655344\n",
      "_num_factors 1 _num_iter 10 0.001 0.536195544132\n",
      "_num_factors 1 _num_iter 10 0.01 0.441352527222\n",
      "_num_factors 1 _num_iter 30 0.001 0.530531658617\n",
      "_num_factors 1 _num_iter 30 0.01 0.432089819451\n",
      "_num_factors 1 _num_iter 50 0.001 0.534202621755\n",
      "_num_factors 1 _num_iter 50 0.01 0.443459519193\n",
      "_num_factors 1 _num_iter 100 0.001 0.535219453712\n",
      "_num_factors 1 _num_iter 100 0.01 0.424165981271\n",
      "_num_factors 2 _num_iter 2 0.001 0.495771406381\n",
      "_num_factors 2 _num_iter 2 0.01 0.338617017313\n",
      "_num_factors 2 _num_iter 10 0.001 0.460684388528\n",
      "_num_factors 2 _num_iter 10 0.01 0.494094025908\n",
      "_num_factors 2 _num_iter 30 0.001 0.474809820309\n",
      "_num_factors 2 _num_iter 30 0.01 0.501676074092\n",
      "_num_factors 2 _num_iter 50 0.001 0.515468683133\n",
      "_num_factors 2 _num_iter 50 0.01 0.512112401949\n",
      "_num_factors 2 _num_iter 100 0.001 0.532584219263\n",
      "_num_factors 2 _num_iter 100 0.01 0.48852910494\n",
      "_num_factors 3 _num_iter 2 0.001 0.414516619313\n",
      "Exception\n",
      "_num_factors 3 _num_iter 2 0.01 inf\n",
      "_num_factors 3 _num_iter 10 0.001 0.546238067588\n",
      "Exception\n",
      "_num_factors 3 _num_iter 10 0.01 inf\n",
      "_num_factors 3 _num_iter 30 0.001 0.559299716719\n",
      "Exception\n",
      "_num_factors 3 _num_iter 30 0.01 inf\n",
      "_num_factors 3 _num_iter 50 0.001 0.556605394467\n",
      "Exception\n",
      "_num_factors 3 _num_iter 50 0.01 inf\n",
      "_num_factors 3 _num_iter 100 0.001 0.558210837083\n",
      "Exception\n",
      "_num_factors 3 _num_iter 100 0.01 inf\n",
      "_num_factors 4 _num_iter 2 0.001 0.483401055824\n",
      "Exception\n",
      "_num_factors 4 _num_iter 2 0.01 inf\n",
      "_num_factors 4 _num_iter 10 0.001 0.551366538094\n",
      "Exception\n",
      "_num_factors 4 _num_iter 10 0.01 inf\n",
      "_num_factors 4 _num_iter 30 0.001 0.539814160829\n",
      "Exception\n",
      "_num_factors 4 _num_iter 30 0.01 inf\n",
      "_num_factors 4 _num_iter 50 0.001 0.546138476455\n",
      "Exception\n",
      "_num_factors 4 _num_iter 50 0.01 inf\n",
      "_num_factors 4 _num_iter 100 0.001 0.506406002506\n",
      "Exception\n",
      "_num_factors 4 _num_iter 100 0.01 inf\n",
      "_num_factors 5 _num_iter 2 0.001 0.478440048835\n",
      "Exception\n",
      "_num_factors 5 _num_iter 2 0.01 inf\n",
      "_num_factors 5 _num_iter 10 0.001 0.54169334923\n",
      "Exception\n",
      "_num_factors 5 _num_iter 10 0.01 inf\n",
      "_num_factors 5 _num_iter 30 0.001 0.5499910714\n",
      "Exception\n",
      "_num_factors 5 _num_iter 30 0.01 inf\n",
      "_num_factors 5 _num_iter 50 0.001 0.527882558617\n",
      "Exception\n",
      "_num_factors 5 _num_iter 50 0.01 inf\n",
      "_num_factors 5 _num_iter 100 0.001 0.546234051462\n",
      "Exception\n",
      "_num_factors 5 _num_iter 100 0.01 inf\n",
      "_num_factors 6 _num_iter 2 0.001 0.507467933117\n",
      "Exception\n",
      "_num_factors 6 _num_iter 2 0.01 inf\n",
      "_num_factors 6 _num_iter 10 0.001 0.463598383886\n",
      "Exception\n",
      "_num_factors 6 _num_iter 10 0.01 inf\n",
      "_num_factors 6 _num_iter 30 0.001 0.478502686589\n",
      "Exception\n",
      "_num_factors 6 _num_iter 30 0.01 inf\n",
      "_num_factors 6 _num_iter 50 0.001 0.53857266744\n",
      "Exception\n",
      "_num_factors 6 _num_iter 50 0.01 inf\n",
      "_num_factors 6 _num_iter 100 0.001 0.552906511468\n",
      "Exception\n",
      "_num_factors 6 _num_iter 100 0.01 inf\n",
      "_num_factors 7 _num_iter 2 0.001 0.495040005676\n",
      "Exception\n",
      "_num_factors 7 _num_iter 2 0.01 inf\n",
      "_num_factors 7 _num_iter 10 0.001 0.491009876265\n",
      "Exception\n",
      "_num_factors 7 _num_iter 10 0.01 inf\n",
      "_num_factors 7 _num_iter 30 0.001 0.402911148159\n",
      "Exception\n",
      "_num_factors 7 _num_iter 30 0.01 inf\n",
      "_num_factors 7 _num_iter 50 0.001 0.55243240816\n",
      "Exception\n",
      "_num_factors 7 _num_iter 50 0.01 inf\n",
      "_num_factors 7 _num_iter 100 0.001 0.542882435864\n",
      "Exception\n",
      "_num_factors 7 _num_iter 100 0.01 inf\n",
      "_num_factors 8 _num_iter 2 0.001 0.445515730601\n",
      "_num_factors 8 _num_iter 2 0.01 0.283978032444\n",
      "_num_factors 8 _num_iter 10 0.001 0.403085032267\n",
      "_num_factors 8 _num_iter 10 0.01 0.398136582731\n",
      "_num_factors 8 _num_iter 30 0.001 0.336637254834\n",
      "_num_factors 8 _num_iter 30 0.01 0.379166809336\n",
      "_num_factors 8 _num_iter 50 0.001 0.481284719227\n",
      "_num_factors 8 _num_iter 50 0.01 0.444569638831\n",
      "_num_factors 8 _num_iter 100 0.001 0.477546662526\n",
      "_num_factors 8 _num_iter 100 0.01 0.449570716664\n",
      "_num_factors 9 _num_iter 2 0.001 0.494966385437\n",
      "Exception\n",
      "_num_factors 9 _num_iter 2 0.01 inf\n",
      "_num_factors 9 _num_iter 10 0.001 0.419114996323\n",
      "Exception\n",
      "_num_factors 9 _num_iter 10 0.01 inf\n",
      "_num_factors 9 _num_iter 30 0.001 0.500869968142\n",
      "Exception\n",
      "_num_factors 9 _num_iter 30 0.01 inf\n",
      "_num_factors 9 _num_iter 50 0.001 0.524825942661\n",
      "Exception\n",
      "_num_factors 9 _num_iter 50 0.01 inf\n",
      "_num_factors 9 _num_iter 100 0.001 0.527706241629\n",
      "Exception\n",
      "_num_factors 9 _num_iter 100 0.01 inf\n",
      "_num_factors 10 _num_iter 2 0.001 0.226239233867\n",
      "Exception\n",
      "_num_factors 10 _num_iter 2 0.01 inf\n",
      "_num_factors 10 _num_iter 10 0.001 0.482166309822\n",
      "Exception\n",
      "_num_factors 10 _num_iter 10 0.01 inf\n",
      "_num_factors 10 _num_iter 30 0.001 0.459284790332\n",
      "Exception\n",
      "_num_factors 10 _num_iter 30 0.01 inf\n",
      "_num_factors 10 _num_iter 50 0.001 0.553311179927\n",
      "Exception\n",
      "_num_factors 10 _num_iter 50 0.01 inf\n",
      "_num_factors 10 _num_iter 100 0.001 0.557129329804\n",
      "Exception\n",
      "_num_factors 10 _num_iter 100 0.01 inf\n"
     ]
    },
    {
     "data": {
      "text/html": [
       "<div>\n",
       "<table border=\"1\" class=\"dataframe\">\n",
       "  <thead>\n",
       "    <tr style=\"text-align: right;\">\n",
       "      <th></th>\n",
       "      <th>num_fac</th>\n",
       "      <th>num_iter</th>\n",
       "      <th>initial_learning_rate</th>\n",
       "      <th>r2</th>\n",
       "    </tr>\n",
       "  </thead>\n",
       "  <tbody>\n",
       "    <tr>\n",
       "      <th>0</th>\n",
       "      <td>1</td>\n",
       "      <td>2</td>\n",
       "      <td>0.001</td>\n",
       "      <td>0.475593</td>\n",
       "    </tr>\n",
       "    <tr>\n",
       "      <th>1</th>\n",
       "      <td>1</td>\n",
       "      <td>2</td>\n",
       "      <td>0.01</td>\n",
       "      <td>0.393412</td>\n",
       "    </tr>\n",
       "    <tr>\n",
       "      <th>2</th>\n",
       "      <td>1</td>\n",
       "      <td>10</td>\n",
       "      <td>0.001</td>\n",
       "      <td>0.536196</td>\n",
       "    </tr>\n",
       "    <tr>\n",
       "      <th>3</th>\n",
       "      <td>1</td>\n",
       "      <td>10</td>\n",
       "      <td>0.01</td>\n",
       "      <td>0.441353</td>\n",
       "    </tr>\n",
       "    <tr>\n",
       "      <th>4</th>\n",
       "      <td>1</td>\n",
       "      <td>30</td>\n",
       "      <td>0.001</td>\n",
       "      <td>0.530532</td>\n",
       "    </tr>\n",
       "    <tr>\n",
       "      <th>5</th>\n",
       "      <td>1</td>\n",
       "      <td>30</td>\n",
       "      <td>0.01</td>\n",
       "      <td>0.43209</td>\n",
       "    </tr>\n",
       "    <tr>\n",
       "      <th>6</th>\n",
       "      <td>1</td>\n",
       "      <td>50</td>\n",
       "      <td>0.001</td>\n",
       "      <td>0.534203</td>\n",
       "    </tr>\n",
       "    <tr>\n",
       "      <th>7</th>\n",
       "      <td>1</td>\n",
       "      <td>50</td>\n",
       "      <td>0.01</td>\n",
       "      <td>0.44346</td>\n",
       "    </tr>\n",
       "    <tr>\n",
       "      <th>8</th>\n",
       "      <td>1</td>\n",
       "      <td>100</td>\n",
       "      <td>0.001</td>\n",
       "      <td>0.535219</td>\n",
       "    </tr>\n",
       "    <tr>\n",
       "      <th>9</th>\n",
       "      <td>1</td>\n",
       "      <td>100</td>\n",
       "      <td>0.01</td>\n",
       "      <td>0.424166</td>\n",
       "    </tr>\n",
       "    <tr>\n",
       "      <th>10</th>\n",
       "      <td>2</td>\n",
       "      <td>2</td>\n",
       "      <td>0.001</td>\n",
       "      <td>0.495771</td>\n",
       "    </tr>\n",
       "    <tr>\n",
       "      <th>11</th>\n",
       "      <td>2</td>\n",
       "      <td>2</td>\n",
       "      <td>0.01</td>\n",
       "      <td>0.338617</td>\n",
       "    </tr>\n",
       "    <tr>\n",
       "      <th>12</th>\n",
       "      <td>2</td>\n",
       "      <td>10</td>\n",
       "      <td>0.001</td>\n",
       "      <td>0.460684</td>\n",
       "    </tr>\n",
       "    <tr>\n",
       "      <th>13</th>\n",
       "      <td>2</td>\n",
       "      <td>10</td>\n",
       "      <td>0.01</td>\n",
       "      <td>0.494094</td>\n",
       "    </tr>\n",
       "    <tr>\n",
       "      <th>14</th>\n",
       "      <td>2</td>\n",
       "      <td>30</td>\n",
       "      <td>0.001</td>\n",
       "      <td>0.47481</td>\n",
       "    </tr>\n",
       "    <tr>\n",
       "      <th>15</th>\n",
       "      <td>2</td>\n",
       "      <td>30</td>\n",
       "      <td>0.01</td>\n",
       "      <td>0.501676</td>\n",
       "    </tr>\n",
       "    <tr>\n",
       "      <th>16</th>\n",
       "      <td>2</td>\n",
       "      <td>50</td>\n",
       "      <td>0.001</td>\n",
       "      <td>0.515469</td>\n",
       "    </tr>\n",
       "    <tr>\n",
       "      <th>17</th>\n",
       "      <td>2</td>\n",
       "      <td>50</td>\n",
       "      <td>0.01</td>\n",
       "      <td>0.512112</td>\n",
       "    </tr>\n",
       "    <tr>\n",
       "      <th>18</th>\n",
       "      <td>2</td>\n",
       "      <td>100</td>\n",
       "      <td>0.001</td>\n",
       "      <td>0.532584</td>\n",
       "    </tr>\n",
       "    <tr>\n",
       "      <th>19</th>\n",
       "      <td>2</td>\n",
       "      <td>100</td>\n",
       "      <td>0.01</td>\n",
       "      <td>0.488529</td>\n",
       "    </tr>\n",
       "    <tr>\n",
       "      <th>20</th>\n",
       "      <td>3</td>\n",
       "      <td>2</td>\n",
       "      <td>0.001</td>\n",
       "      <td>0.414517</td>\n",
       "    </tr>\n",
       "    <tr>\n",
       "      <th>21</th>\n",
       "      <td>3</td>\n",
       "      <td>2</td>\n",
       "      <td>0.01</td>\n",
       "      <td>inf</td>\n",
       "    </tr>\n",
       "    <tr>\n",
       "      <th>22</th>\n",
       "      <td>3</td>\n",
       "      <td>10</td>\n",
       "      <td>0.001</td>\n",
       "      <td>0.546238</td>\n",
       "    </tr>\n",
       "    <tr>\n",
       "      <th>23</th>\n",
       "      <td>3</td>\n",
       "      <td>10</td>\n",
       "      <td>0.01</td>\n",
       "      <td>inf</td>\n",
       "    </tr>\n",
       "    <tr>\n",
       "      <th>24</th>\n",
       "      <td>3</td>\n",
       "      <td>30</td>\n",
       "      <td>0.001</td>\n",
       "      <td>0.5593</td>\n",
       "    </tr>\n",
       "    <tr>\n",
       "      <th>25</th>\n",
       "      <td>3</td>\n",
       "      <td>30</td>\n",
       "      <td>0.01</td>\n",
       "      <td>inf</td>\n",
       "    </tr>\n",
       "    <tr>\n",
       "      <th>26</th>\n",
       "      <td>3</td>\n",
       "      <td>50</td>\n",
       "      <td>0.001</td>\n",
       "      <td>0.556605</td>\n",
       "    </tr>\n",
       "    <tr>\n",
       "      <th>27</th>\n",
       "      <td>3</td>\n",
       "      <td>50</td>\n",
       "      <td>0.01</td>\n",
       "      <td>inf</td>\n",
       "    </tr>\n",
       "    <tr>\n",
       "      <th>28</th>\n",
       "      <td>3</td>\n",
       "      <td>100</td>\n",
       "      <td>0.001</td>\n",
       "      <td>0.558211</td>\n",
       "    </tr>\n",
       "    <tr>\n",
       "      <th>29</th>\n",
       "      <td>3</td>\n",
       "      <td>100</td>\n",
       "      <td>0.01</td>\n",
       "      <td>inf</td>\n",
       "    </tr>\n",
       "    <tr>\n",
       "      <th>...</th>\n",
       "      <td>...</td>\n",
       "      <td>...</td>\n",
       "      <td>...</td>\n",
       "      <td>...</td>\n",
       "    </tr>\n",
       "    <tr>\n",
       "      <th>70</th>\n",
       "      <td>8</td>\n",
       "      <td>2</td>\n",
       "      <td>0.001</td>\n",
       "      <td>0.445516</td>\n",
       "    </tr>\n",
       "    <tr>\n",
       "      <th>71</th>\n",
       "      <td>8</td>\n",
       "      <td>2</td>\n",
       "      <td>0.01</td>\n",
       "      <td>0.283978</td>\n",
       "    </tr>\n",
       "    <tr>\n",
       "      <th>72</th>\n",
       "      <td>8</td>\n",
       "      <td>10</td>\n",
       "      <td>0.001</td>\n",
       "      <td>0.403085</td>\n",
       "    </tr>\n",
       "    <tr>\n",
       "      <th>73</th>\n",
       "      <td>8</td>\n",
       "      <td>10</td>\n",
       "      <td>0.01</td>\n",
       "      <td>0.398137</td>\n",
       "    </tr>\n",
       "    <tr>\n",
       "      <th>74</th>\n",
       "      <td>8</td>\n",
       "      <td>30</td>\n",
       "      <td>0.001</td>\n",
       "      <td>0.336637</td>\n",
       "    </tr>\n",
       "    <tr>\n",
       "      <th>75</th>\n",
       "      <td>8</td>\n",
       "      <td>30</td>\n",
       "      <td>0.01</td>\n",
       "      <td>0.379167</td>\n",
       "    </tr>\n",
       "    <tr>\n",
       "      <th>76</th>\n",
       "      <td>8</td>\n",
       "      <td>50</td>\n",
       "      <td>0.001</td>\n",
       "      <td>0.481285</td>\n",
       "    </tr>\n",
       "    <tr>\n",
       "      <th>77</th>\n",
       "      <td>8</td>\n",
       "      <td>50</td>\n",
       "      <td>0.01</td>\n",
       "      <td>0.44457</td>\n",
       "    </tr>\n",
       "    <tr>\n",
       "      <th>78</th>\n",
       "      <td>8</td>\n",
       "      <td>100</td>\n",
       "      <td>0.001</td>\n",
       "      <td>0.477547</td>\n",
       "    </tr>\n",
       "    <tr>\n",
       "      <th>79</th>\n",
       "      <td>8</td>\n",
       "      <td>100</td>\n",
       "      <td>0.01</td>\n",
       "      <td>0.449571</td>\n",
       "    </tr>\n",
       "    <tr>\n",
       "      <th>80</th>\n",
       "      <td>9</td>\n",
       "      <td>2</td>\n",
       "      <td>0.001</td>\n",
       "      <td>0.494966</td>\n",
       "    </tr>\n",
       "    <tr>\n",
       "      <th>81</th>\n",
       "      <td>9</td>\n",
       "      <td>2</td>\n",
       "      <td>0.01</td>\n",
       "      <td>inf</td>\n",
       "    </tr>\n",
       "    <tr>\n",
       "      <th>82</th>\n",
       "      <td>9</td>\n",
       "      <td>10</td>\n",
       "      <td>0.001</td>\n",
       "      <td>0.419115</td>\n",
       "    </tr>\n",
       "    <tr>\n",
       "      <th>83</th>\n",
       "      <td>9</td>\n",
       "      <td>10</td>\n",
       "      <td>0.01</td>\n",
       "      <td>inf</td>\n",
       "    </tr>\n",
       "    <tr>\n",
       "      <th>84</th>\n",
       "      <td>9</td>\n",
       "      <td>30</td>\n",
       "      <td>0.001</td>\n",
       "      <td>0.50087</td>\n",
       "    </tr>\n",
       "    <tr>\n",
       "      <th>85</th>\n",
       "      <td>9</td>\n",
       "      <td>30</td>\n",
       "      <td>0.01</td>\n",
       "      <td>inf</td>\n",
       "    </tr>\n",
       "    <tr>\n",
       "      <th>86</th>\n",
       "      <td>9</td>\n",
       "      <td>50</td>\n",
       "      <td>0.001</td>\n",
       "      <td>0.524826</td>\n",
       "    </tr>\n",
       "    <tr>\n",
       "      <th>87</th>\n",
       "      <td>9</td>\n",
       "      <td>50</td>\n",
       "      <td>0.01</td>\n",
       "      <td>inf</td>\n",
       "    </tr>\n",
       "    <tr>\n",
       "      <th>88</th>\n",
       "      <td>9</td>\n",
       "      <td>100</td>\n",
       "      <td>0.001</td>\n",
       "      <td>0.527706</td>\n",
       "    </tr>\n",
       "    <tr>\n",
       "      <th>89</th>\n",
       "      <td>9</td>\n",
       "      <td>100</td>\n",
       "      <td>0.01</td>\n",
       "      <td>inf</td>\n",
       "    </tr>\n",
       "    <tr>\n",
       "      <th>90</th>\n",
       "      <td>10</td>\n",
       "      <td>2</td>\n",
       "      <td>0.001</td>\n",
       "      <td>0.226239</td>\n",
       "    </tr>\n",
       "    <tr>\n",
       "      <th>91</th>\n",
       "      <td>10</td>\n",
       "      <td>2</td>\n",
       "      <td>0.01</td>\n",
       "      <td>inf</td>\n",
       "    </tr>\n",
       "    <tr>\n",
       "      <th>92</th>\n",
       "      <td>10</td>\n",
       "      <td>10</td>\n",
       "      <td>0.001</td>\n",
       "      <td>0.482166</td>\n",
       "    </tr>\n",
       "    <tr>\n",
       "      <th>93</th>\n",
       "      <td>10</td>\n",
       "      <td>10</td>\n",
       "      <td>0.01</td>\n",
       "      <td>inf</td>\n",
       "    </tr>\n",
       "    <tr>\n",
       "      <th>94</th>\n",
       "      <td>10</td>\n",
       "      <td>30</td>\n",
       "      <td>0.001</td>\n",
       "      <td>0.459285</td>\n",
       "    </tr>\n",
       "    <tr>\n",
       "      <th>95</th>\n",
       "      <td>10</td>\n",
       "      <td>30</td>\n",
       "      <td>0.01</td>\n",
       "      <td>inf</td>\n",
       "    </tr>\n",
       "    <tr>\n",
       "      <th>96</th>\n",
       "      <td>10</td>\n",
       "      <td>50</td>\n",
       "      <td>0.001</td>\n",
       "      <td>0.553311</td>\n",
       "    </tr>\n",
       "    <tr>\n",
       "      <th>97</th>\n",
       "      <td>10</td>\n",
       "      <td>50</td>\n",
       "      <td>0.01</td>\n",
       "      <td>inf</td>\n",
       "    </tr>\n",
       "    <tr>\n",
       "      <th>98</th>\n",
       "      <td>10</td>\n",
       "      <td>100</td>\n",
       "      <td>0.001</td>\n",
       "      <td>0.557129</td>\n",
       "    </tr>\n",
       "    <tr>\n",
       "      <th>99</th>\n",
       "      <td>10</td>\n",
       "      <td>100</td>\n",
       "      <td>0.01</td>\n",
       "      <td>inf</td>\n",
       "    </tr>\n",
       "  </tbody>\n",
       "</table>\n",
       "<p>100 rows × 4 columns</p>\n",
       "</div>"
      ],
      "text/plain": [
       "   num_fac num_iter initial_learning_rate        r2\n",
       "0        1        2                 0.001  0.475593\n",
       "1        1        2                  0.01  0.393412\n",
       "2        1       10                 0.001  0.536196\n",
       "3        1       10                  0.01  0.441353\n",
       "4        1       30                 0.001  0.530532\n",
       "5        1       30                  0.01   0.43209\n",
       "6        1       50                 0.001  0.534203\n",
       "7        1       50                  0.01   0.44346\n",
       "8        1      100                 0.001  0.535219\n",
       "9        1      100                  0.01  0.424166\n",
       "10       2        2                 0.001  0.495771\n",
       "11       2        2                  0.01  0.338617\n",
       "12       2       10                 0.001  0.460684\n",
       "13       2       10                  0.01  0.494094\n",
       "14       2       30                 0.001   0.47481\n",
       "15       2       30                  0.01  0.501676\n",
       "16       2       50                 0.001  0.515469\n",
       "17       2       50                  0.01  0.512112\n",
       "18       2      100                 0.001  0.532584\n",
       "19       2      100                  0.01  0.488529\n",
       "20       3        2                 0.001  0.414517\n",
       "21       3        2                  0.01       inf\n",
       "22       3       10                 0.001  0.546238\n",
       "23       3       10                  0.01       inf\n",
       "24       3       30                 0.001    0.5593\n",
       "25       3       30                  0.01       inf\n",
       "26       3       50                 0.001  0.556605\n",
       "27       3       50                  0.01       inf\n",
       "28       3      100                 0.001  0.558211\n",
       "29       3      100                  0.01       inf\n",
       "..     ...      ...                   ...       ...\n",
       "70       8        2                 0.001  0.445516\n",
       "71       8        2                  0.01  0.283978\n",
       "72       8       10                 0.001  0.403085\n",
       "73       8       10                  0.01  0.398137\n",
       "74       8       30                 0.001  0.336637\n",
       "75       8       30                  0.01  0.379167\n",
       "76       8       50                 0.001  0.481285\n",
       "77       8       50                  0.01   0.44457\n",
       "78       8      100                 0.001  0.477547\n",
       "79       8      100                  0.01  0.449571\n",
       "80       9        2                 0.001  0.494966\n",
       "81       9        2                  0.01       inf\n",
       "82       9       10                 0.001  0.419115\n",
       "83       9       10                  0.01       inf\n",
       "84       9       30                 0.001   0.50087\n",
       "85       9       30                  0.01       inf\n",
       "86       9       50                 0.001  0.524826\n",
       "87       9       50                  0.01       inf\n",
       "88       9      100                 0.001  0.527706\n",
       "89       9      100                  0.01       inf\n",
       "90      10        2                 0.001  0.226239\n",
       "91      10        2                  0.01       inf\n",
       "92      10       10                 0.001  0.482166\n",
       "93      10       10                  0.01       inf\n",
       "94      10       30                 0.001  0.459285\n",
       "95      10       30                  0.01       inf\n",
       "96      10       50                 0.001  0.553311\n",
       "97      10       50                  0.01       inf\n",
       "98      10      100                 0.001  0.557129\n",
       "99      10      100                  0.01       inf\n",
       "\n",
       "[100 rows x 4 columns]"
      ]
     },
     "execution_count": 36,
     "metadata": {},
     "output_type": "execute_result"
    },
    {
     "name": "stdout",
     "output_type": "stream",
     "text": [
      "time: 31min 51s\n"
     ]
    }
   ],
   "source": [
    "grid_search = {'num_factors':np.arange(1,11),\n",
    "    'num_iter':[2,10,30,50,100],\n",
    "    'initial_learning_rate':[0.001, 0.01]\n",
    "    }\n",
    "df_grid_res = pd.DataFrame(columns=['num_fac', 'num_iter', 'initial_learning_rate', 'r2'])\n",
    "i = 0\n",
    "for _num_factors, _num_iter, _initial_learning_rate  in itertools.product( *grid_search.values() ):\n",
    "    fm = pylibfm.FM(num_factors=_num_factors,\n",
    "                    num_iter=_num_iter,\n",
    "                    verbose=False,\n",
    "                    task=\"regression\",\n",
    "                    initial_learning_rate=_initial_learning_rate,\n",
    "                    validation_size=0.01,\n",
    "                    learning_rate_schedule=\"optimal\")\n",
    "    fm.fit(X_train, y_train)\n",
    "    try:\n",
    "        r2 = r2_score(y_test, fm.predict(X_test))\n",
    "    except:\n",
    "        print('Exception')\n",
    "        r2 = np.Inf\n",
    "    #print('_num_factors',_num_factors, '_num_iter', _num_iter, _initial_learning_rate, r2)\n",
    "    print(i, r2)\n",
    "    df_grid_res.loc[i,:] = [_num_factors, _num_iter, _initial_learning_rate, r2]\n",
    "    i=i+1\n",
    "    \n",
    "#df_grid_res"
   ]
  },
  {
   "cell_type": "code",
   "execution_count": 55,
   "metadata": {
    "collapsed": false
   },
   "outputs": [
    {
     "name": "stderr",
     "output_type": "stream",
     "text": [
      "/home/subaevdi/anaconda3/lib/python3.6/site-packages/matplotlib/font_manager.py:1297: UserWarning: findfont: Font family ['sans-serif'] not found. Falling back to DejaVu Sans\n",
      "  (prop.get_family(), self.defaultFamily[fontext]))\n"
     ]
    },
    {
     "data": {
      "image/png": "[encoded data removed]",
      "text/plain": [
       "<matplotlib.figure.Figure at 0x7f4b31bf7c88>"
      ]
     },
     "metadata": {},
     "output_type": "display_data"
    },
    {
     "name": "stdout",
     "output_type": "stream",
     "text": [
      "time: 234 ms\n"
     ]
    }
   ],
   "source": [
    "bind = df_grid_res.r2 != np.Inf\n",
    "#plt.plot(df_grid_res[bind].sort_values(\"r2\", ascending=False).r2.values, 'ro')\n",
    "plt.hist(df_grid_res[bind].sort_values(\"r2\", ascending=False).r2.values)\n",
    "bind = (df_grid_res.r2 > 0.5) & (df_grid_res.r2 != np.Inf)\n",
    "df_grid_FM_top = df_grid_res[bind]"
   ]
  },
  {
   "cell_type": "code",
   "execution_count": 37,
   "metadata": {
    "collapsed": false
   },
   "outputs": [
    {
     "name": "stdout",
     "output_type": "stream",
     "text": [
      "time: 4.36 ms\n"
     ]
    }
   ],
   "source": [
    "df_grid_res\n",
    "\n",
    "if not os.path.isfile('./../tmp/df_grid_res_FFM.pkl'):\n",
    "    with open('./../tmp/df_grid_res_FFM.pkl', 'wb') as f:\n",
    "        pickle.dump(df_grid_res, f)\n",
    "else:\n",
    "    with open('./../tmp/df_grid_res_FFM.pkl', 'rb') as f:\n",
    "        print(\"Load from file...\")\n",
    "\n",
    "        df_grid_res = pickle.load(f)"
   ]
  },
  {
   "cell_type": "code",
   "execution_count": 110,
   "metadata": {
    "collapsed": false
   },
   "outputs": [
    {
     "data": {
      "text/plain": [
       "array([[ 0.,  0.,  0., ...,  0.,  0.,  0.],\n",
       "       [ 0.,  0.,  0., ...,  0.,  0.,  0.],\n",
       "       [ 0.,  0.,  0., ...,  0.,  0.,  0.],\n",
       "       ..., \n",
       "       [ 0.,  0.,  0., ...,  0.,  0.,  0.],\n",
       "       [ 0.,  0.,  0., ...,  0.,  0.,  0.],\n",
       "       [ 0.,  0.,  0., ...,  0.,  0.,  0.]])"
      ]
     },
     "execution_count": 110,
     "metadata": {},
     "output_type": "execute_result"
    },
    {
     "name": "stdout",
     "output_type": "stream",
     "text": [
      "time: 4.18 ms\n"
     ]
    }
   ],
   "source": [
    "df_grid_FM_top.shape[0]\n"
   ]
  },
  {
   "cell_type": "code",
   "execution_count": 111,
   "metadata": {
    "collapsed": false
   },
   "outputs": [
    {
     "name": "stdout",
     "output_type": "stream",
     "text": [
      "time: 57.8 s\n"
     ]
    }
   ],
   "source": [
    "res_array = np.zeros((len(y), 30))\n",
    "kf = KFold(n_splits=10, shuffle=True, random_state=42)\n",
    "df_grid_FM_top['r2_kf'] = 0\n",
    "\n",
    "i = 0\n",
    "for ind, row  in df_grid_FM_top.iterrows():\n",
    "    _num_factors = row['num_fac']\n",
    "    _num_iter = row['num_iter']\n",
    "    _initial_learning_rate = row['initial_learning_rate']\n",
    "    res_cv = y.copy()\n",
    "    res_cv[:] = np.mean(y)\n",
    "    fm = pylibfm.FM(num_factors=_num_factors,\n",
    "                        num_iter=_num_iter,\n",
    "                        verbose=False,\n",
    "                        task=\"regression\",\n",
    "                        initial_learning_rate=_initial_learning_rate,\n",
    "                        validation_size=0.01,\n",
    "                        learning_rate_schedule=\"optimal\")\n",
    "\n",
    "    for train_index, test_index in kf.split(tmp):\n",
    "        X_train, X_test = tmp[train_index], tmp[test_index]\n",
    "        y_train, y_test = y[train_index], y[test_index]\n",
    "        #print(X_train.shape, X_test.shape)\n",
    "        fm.fit(X_train, y_train)\n",
    "        try:\n",
    "            res_cv[test_index] = fm.predict(X_test)\n",
    "        except:\n",
    "            print(\"Prediction exception\")\n",
    "    \n",
    "    df_grid_FM_top.loc[ind, 'r2_kf'] = r2_score(y, res_cv)\n",
    "    res_array[:,i] = res_cv.values\n",
    "    i = i + 1"
   ]
  },
  {
   "cell_type": "code",
   "execution_count": 100,
   "metadata": {
    "collapsed": false
   },
   "outputs": [
    {
     "data": {
      "text/plain": [
       "0       130.81\n",
       "1        88.53\n",
       "2        76.26\n",
       "3        80.62\n",
       "4        78.02\n",
       "5        92.93\n",
       "6       128.76\n",
       "7        91.91\n",
       "8       108.67\n",
       "9       126.99\n",
       "10      102.09\n",
       "11       98.12\n",
       "12       82.62\n",
       "13       94.12\n",
       "14       99.15\n",
       "15       93.64\n",
       "16      106.10\n",
       "17      114.13\n",
       "18       89.81\n",
       "19       90.81\n",
       "20       90.56\n",
       "21       94.57\n",
       "22      108.14\n",
       "23      120.77\n",
       "24       84.84\n",
       "25       93.59\n",
       "26      104.07\n",
       "27       89.37\n",
       "28       90.08\n",
       "29      128.19\n",
       "         ...  \n",
       "4179     85.93\n",
       "4180     90.45\n",
       "4181     90.06\n",
       "4182     90.38\n",
       "4183     95.56\n",
       "4184    109.00\n",
       "4185    109.64\n",
       "4186    131.98\n",
       "4187     98.15\n",
       "4188    102.33\n",
       "4189    102.42\n",
       "4190     89.11\n",
       "4191     88.93\n",
       "4192    103.03\n",
       "4193    107.24\n",
       "4194     91.13\n",
       "4195     86.23\n",
       "4196     99.93\n",
       "4197     89.25\n",
       "4198     97.09\n",
       "4199     88.24\n",
       "4200    108.59\n",
       "4201    107.39\n",
       "4202    123.34\n",
       "4203     85.71\n",
       "4204    107.39\n",
       "4205    108.77\n",
       "4206    109.22\n",
       "4207     87.48\n",
       "4208    110.85\n",
       "Name: y, dtype: float64"
      ]
     },
     "execution_count": 100,
     "metadata": {},
     "output_type": "execute_result"
    },
    {
     "name": "stdout",
     "output_type": "stream",
     "text": [
      "time: 5.62 ms\n"
     ]
    }
   ],
   "source": [
    "y"
   ]
  },
  {
   "cell_type": "code",
   "execution_count": null,
   "metadata": {
    "collapsed": true
   },
   "outputs": [],
   "source": []
  }
 ],
 "metadata": {
  "kernelspec": {
   "display_name": "Python 3",
   "language": "python",
   "name": "python3"
  },
  "language_info": {
   "codemirror_mode": {
    "name": "ipython",
    "version": 3
   },
   "file_extension": ".py",
   "mimetype": "text/x-python",
   "name": "python",
   "nbconvert_exporter": "python",
   "pygments_lexer": "ipython3",
   "version": "3.6.0"
  }
 },
 "nbformat": 4,
 "nbformat_minor": 2
}
