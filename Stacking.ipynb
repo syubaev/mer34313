{
 "cells": [
  {
   "cell_type": "code",
   "execution_count": 3,
   "metadata": {
    "collapsed": false
   },
   "outputs": [
    {
     "name": "stderr",
     "output_type": "stream",
     "text": [
      "/home/subaevdi/anaconda3/lib/python3.6/site-packages/sklearn/cross_validation.py:44: DeprecationWarning: This module was deprecated in version 0.18 in favor of the model_selection module into which all the refactored classes and functions are moved. Also note that the interface of the new CV iterators are different from that of this module. This module will be removed in 0.20.\n",
      "  \"This module will be removed in 0.20.\", DeprecationWarning)\n"
     ]
    }
   ],
   "source": [
    "import os\n",
    "import pickle\n",
    "import multiprocessing\n",
    "import itertools\n",
    "\n",
    "import numpy as np\n",
    "import pandas as pd\n",
    "import matplotlib.pyplot as plt\n",
    "import seaborn as sns\n",
    "from sklearn import preprocessing\n",
    "import xgboost as xgb\n",
    "\n",
    "\n",
    "from sklearn.preprocessing import StandardScaler, LabelEncoder\n",
    "from sklearn.metrics import r2_score\n",
    "from sklearn.decomposition import PCA, FastICA\n",
    "\n",
    "from sklearn.linear_model import SGDRegressor\n",
    "from sklearn.pipeline import Pipeline\n",
    "from sklearn.model_selection import GridSearchCV, StratifiedKFold, KFold, cross_val_predict\n",
    "\n",
    "color = sns.color_palette()\n",
    "\n",
    "%matplotlib inline\n",
    "\n",
    "pd.options.mode.chained_assignment = None  # default='warn'\n",
    "pd.options.display.max_columns = 100\n",
    "\n",
    "from subprocess import check_output\n",
    "\n",
    "from pyfm import pylibfm\n",
    "from sklearn.model_selection import train_test_split\n",
    "from scipy.sparse import csr_matrix\n",
    "from sklearn.preprocessing import normalize\n",
    "\n",
    "from sklearn.preprocessing import OneHotEncoder, LabelEncoder\n",
    "\n",
    "%load_ext autotime"
   ]
  },
  {
   "cell_type": "code",
   "execution_count": 4,
   "metadata": {
    "collapsed": false
   },
   "outputs": [
    {
     "name": "stdout",
     "output_type": "stream",
     "text": [
      "time: 392 ms\n"
     ]
    }
   ],
   "source": [
    "train = pd.read_csv(\"../data/train.csv\")\n",
    "test = pd.read_csv(\"../data/test.csv\")\n",
    "\n",
    "feat_all = train.columns[2:]\n",
    "feat_categ = train.dtypes.index[train.dtypes == 'object']\n",
    "feat_not_uniq = ['X289',\n",
    " 'X235',\n",
    " 'X347',\n",
    " 'X268',\n",
    " 'X11',\n",
    " 'X107',\n",
    " 'X233',\n",
    " 'X330',\n",
    " 'X290',\n",
    " 'X293',\n",
    " 'X297',\n",
    " 'X93']\n",
    "\n",
    "feat_numb = list(set(feat_all) - set(feat_categ) - set(feat_not_uniq))\n"
   ]
  },
  {
   "cell_type": "code",
   "execution_count": 5,
   "metadata": {
    "collapsed": false
   },
   "outputs": [
    {
     "name": "stdout",
     "output_type": "stream",
     "text": [
      "Train shape :  (4209, 379)\n",
      "Test shape :  (4209, 378)\n",
      "time: 90.2 ms\n"
     ]
    }
   ],
   "source": [
    "train['test'] = 0\n",
    "test['test'] = 1\n",
    "\n",
    "df = pd.concat([train, test], axis=0)\n",
    "y = train.y\n",
    "df = df.drop([\"ID\", \"y\"], axis=1)\n",
    "print(\"Train shape : \", train.shape)\n",
    "print(\"Test shape : \", test.shape)\n",
    "\n",
    "ix_train = df.test == 0\n",
    "ix_test = df.test == 1"
   ]
  },
  {
   "cell_type": "code",
   "execution_count": 6,
   "metadata": {
    "collapsed": false
   },
   "outputs": [
    {
     "name": "stdout",
     "output_type": "stream",
     "text": [
      "time: 114 ms\n"
     ]
    }
   ],
   "source": [
    "for col in feat_categ:\n",
    "    df[col] = LabelEncoder().fit_transform(df[col])\n",
    "X = OneHotEncoder().fit_transform(df[feat_categ])\n",
    "\n",
    "feat_ohe = ['ohe_' + str(i) for i in np.arange(X.shape[1])]\n",
    "t = pd.DataFrame(X.todense(), columns=feat_ohe, index=df.index)\n",
    "df = pd.concat( [df, t] , axis=1)"
   ]
  },
  {
   "cell_type": "code",
   "execution_count": 7,
   "metadata": {
    "collapsed": false
   },
   "outputs": [
    {
     "name": "stdout",
     "output_type": "stream",
     "text": [
      "time: 8.28 ms\n"
     ]
    }
   ],
   "source": [
    "def pickle_check_model(predictors, model_file, bremove = False):\n",
    "    model_file = './../tmp/' + model_file\n",
    "    if bremove and os.path.isfile(model_file):\n",
    "        print(\"Removing old file\")\n",
    "        os.remove(model_file)\n",
    "    if not os.path.isfile(model_file):\n",
    "        print(\"Make grid search...\")\n",
    "        model = check_model(predictors)\n",
    "\n",
    "        with open(model_file, 'wb') as f:\n",
    "            pickle.dump(model, f)\n",
    "    else:\n",
    "        with open(model_file, 'rb') as f:\n",
    "            print(\"Load from file...\")\n",
    "            model = pickle.load(f)\n",
    "    print(model.best_score_)\n",
    "    print(model.best_params_)\n",
    "    return model"
   ]
  },
  {
   "cell_type": "code",
   "execution_count": 8,
   "metadata": {
    "collapsed": false
   },
   "outputs": [
    {
     "name": "stdout",
     "output_type": "stream",
     "text": [
      "Fitting 5 folds for each of 99 candidates, totalling 495 fits\n"
     ]
    },
    {
     "name": "stderr",
     "output_type": "stream",
     "text": [
      "[Parallel(n_jobs=-1)]: Done  76 tasks      | elapsed:    3.3s\n",
      "[Parallel(n_jobs=-1)]: Done 376 tasks      | elapsed:   17.8s\n",
      "[Parallel(n_jobs=-1)]: Done 488 out of 495 | elapsed:   23.3s remaining:    0.3s\n"
     ]
    },
    {
     "name": "stdout",
     "output_type": "stream",
     "text": [
      "time: 23.8 s\n"
     ]
    },
    {
     "name": "stderr",
     "output_type": "stream",
     "text": [
      "[Parallel(n_jobs=-1)]: Done 495 out of 495 | elapsed:   23.5s finished\n"
     ]
    }
   ],
   "source": [
    "def check_model(predictors):\n",
    "    classifier = lambda: SGDRegressor(\n",
    "        loss='squared_loss',\n",
    "        penalty='elasticnet',\n",
    "        alpha=0.0005,\n",
    "        l1_ratio=0.15,\n",
    "        fit_intercept=True,\n",
    "        n_iter=5,\n",
    "        shuffle=True,\n",
    "        verbose=0, epsilon=0.1, random_state=42, learning_rate='invscaling',\n",
    "        eta0=0.01, power_t=0.25, warm_start=False, average=False)\n",
    "    \n",
    "\n",
    "    model = Pipeline(steps=[\n",
    "        #('ss', StandardScaler()),\n",
    "        ('en', classifier())\n",
    "    ])\n",
    "\n",
    "    parameters = {\n",
    "        'en__alpha': [0.00001, 0.0001, 0.001, 0.01, 0.02, 0.1, 0.5, 0.6, 0.7, 0.9, 1],\n",
    "        'en__l1_ratio': [0, 0.001, 0.01, 0.1, 0.3, 0.5, 0.75, 0.9, 1]\n",
    "    }\n",
    "    #parameters = {\n",
    "    #    'en__alpha': [0.00001, 0.0001],\n",
    "    #    'en__l1_ratio': [0, 0.0001, 0.001]\n",
    "    #}\n",
    "\n",
    "    folder = KFold(n_splits=5, shuffle=True, random_state=42)\n",
    "    \n",
    "    grid_search = GridSearchCV(\n",
    "        model, \n",
    "        parameters,\n",
    "        scoring='r2',\n",
    "        cv=folder, \n",
    "        n_jobs=-1, \n",
    "        verbose=1)\n",
    "    grid_search = grid_search.fit(df[ix_train][predictors], \n",
    "                                  y)\n",
    "    \n",
    "    return grid_search\n",
    "gs = check_model(feat_numb)"
   ]
  },
  {
   "cell_type": "code",
   "execution_count": 9,
   "metadata": {
    "collapsed": false
   },
   "outputs": [
    {
     "name": "stdout",
     "output_type": "stream",
     "text": [
      "Load from file...\n",
      "0.511579804396\n",
      "{'en__alpha': 1e-05, 'en__l1_ratio': 1}\n",
      "time: 24.4 ms\n"
     ]
    }
   ],
   "source": [
    "t = pickle_check_model(feat_numb, '4_model.pkl', bremove=False)"
   ]
  },
  {
   "cell_type": "code",
   "execution_count": 10,
   "metadata": {
    "collapsed": false
   },
   "outputs": [
    {
     "name": "stderr",
     "output_type": "stream",
     "text": [
      "/home/subaevdi/anaconda3/lib/python3.6/site-packages/matplotlib/font_manager.py:1297: UserWarning: findfont: Font family ['sans-serif'] not found. Falling back to DejaVu Sans\n",
      "  (prop.get_family(), self.defaultFamily[fontext]))\n"
     ]
    },
    {
     "data": {
      "image/png": "[encoded data removed]",
      "text/plain": [
       "<matplotlib.figure.Figure at 0x7f7d4e994b00>"
      ]
     },
     "metadata": {},
     "output_type": "display_data"
    },
    {
     "name": "stdout",
     "output_type": "stream",
     "text": [
      "time: 255 ms\n"
     ]
    }
   ],
   "source": [
    "a = gs.best_estimator_.steps[0][1]\n",
    "df_tmp = pd.DataFrame({'col':feat_numb, 'val':a.coef_})\n",
    "df_tmp['abs_val'] = np.abs(df_tmp.val)\n",
    "df_tmp = df_tmp.sort_values('abs_val', ascending=False).reset_index()\n",
    "plt.plot(df_tmp.abs_val)\n",
    "feat_numb_top150 =list(df_tmp.col[:150])\n",
    "feat_numb_top200 =list(df_tmp.col[:200])"
   ]
  },
  {
   "cell_type": "code",
   "execution_count": null,
   "metadata": {
    "collapsed": false
   },
   "outputs": [],
   "source": [
    "kf = KFold(n_splits=5, shuffle=True, random_state=42)\n",
    "\n",
    "def one_model_pred(f_predict, columns, out_file_name):\n",
    "    X_stacking = np.empty(df.shape[0])\n",
    "    X = df[ix_train]; print(X.shape)\n",
    "    i = 0\n",
    "    for train_index, test_index in kf.split(X):\n",
    "        i = i + 1\n",
    "        X_train, X_test = X.loc[train_index], X.loc[test_index]\n",
    "        y_train, y_test = y[train_index], y[test_index]\n",
    "        y_pred = f_predict(X_train, y_train, X_test, columns)\n",
    "        X_stacking[test_index] = y_pred\n",
    "        print(\"Fold=\",i, 'r2=',r2_score(y_test, y_pred))\n",
    "    print(\"KFold done!\")\n",
    "    X_stacking[ix_test] = f_predict(df[ix_train], y, df[ix_test], feat_numb_top200)\n",
    "    pd.DataFrame({'y_pred':X_stacking}).\\\n",
    "        to_csv(\"../y_pred/\" + out_file_name + \".csv\", index=False)\n",
    "    print(\"Done!\")\n",
    "    return None"
   ]
  },
  {
   "cell_type": "code",
   "execution_count": 12,
   "metadata": {
    "collapsed": false
   },
   "outputs": [
    {
     "name": "stdout",
     "output_type": "stream",
     "text": [
      "time: 12.1 ms\n"
     ]
    }
   ],
   "source": [
    "def xgb_fit(X_train, y_train, X_test, columns):\n",
    "    num_boost_rounds = 1200\n",
    "    \n",
    "    xgb_params = { \n",
    "        'eta': 0.005,\n",
    "        'max_depth': 4,\n",
    "        'subsample': 0.8,\n",
    "        'min_child_weight': 25,\n",
    "        'colsample_bytree': 0.8,\n",
    "        'objective': 'reg:linear',\n",
    "        'eval_metric': 'rmse',\n",
    "        'base_score': np.mean(y_train), # base prediction = mean(target)\n",
    "        'silent': 1,\n",
    "        'tree_method':'hist',\n",
    "        'seed':42,\n",
    "    #    'gamma': 0.05,\n",
    "        'alpha':0.3\n",
    "    }\n",
    "\n",
    "    dtrain = xgb.DMatrix(X_train[columns], y_train)\n",
    "    dtest = xgb.DMatrix(X_test[columns])\n",
    "    \n",
    "    \n",
    "    # train model\n",
    "    model = xgb.train(dict(xgb_params, silent=0), dtrain, num_boost_round=num_boost_rounds)\n",
    "    y_pred = model.predict(dtest)\n",
    "    return y_pred\n",
    "    "
   ]
  },
  {
   "cell_type": "code",
   "execution_count": null,
   "metadata": {
    "collapsed": false
   },
   "outputs": [],
   "source": []
  },
  {
   "cell_type": "code",
   "execution_count": 13,
   "metadata": {
    "collapsed": false
   },
   "outputs": [
    {
     "name": "stdout",
     "output_type": "stream",
     "text": [
      "Load from file...\n",
      "Load from file...\n",
      "time: 105 ms\n"
     ]
    }
   ],
   "source": [
    "if not os.path.isfile('./../tmp/model_score_list.pkl'):\n",
    "    with open('./../tmp/model_score_list.pkl', 'wb') as f:\n",
    "        pickle.dump(model_score_list, f)\n",
    "    with open('./../tmp/model_pairs_list.pkl', 'wb') as f:\n",
    "        pickle.dump(model_pairs_list, f)\n",
    "else:\n",
    "    with open('./../tmp/model_pairs_list.pkl', 'rb') as f:\n",
    "        print(\"Load from file...\")\n",
    "        model_pairs_list = pickle.load(f)\n",
    "    with open('./../tmp/model_score_list.pkl', 'rb') as f:\n",
    "        print(\"Load from file...\")\n",
    "        model_score_list = pickle.load(f)\n",
    "       "
   ]
  },
  {
   "cell_type": "code",
   "execution_count": 14,
   "metadata": {
    "collapsed": false
   },
   "outputs": [
    {
     "name": "stdout",
     "output_type": "stream",
     "text": [
      "time: 2.03 s\n"
     ]
    }
   ],
   "source": [
    "def woker_split(p_in):\n",
    "    p = p_in.split(\"_\")\n",
    "    f1 = p[0]\n",
    "    f2 = p[1]\n",
    "    df[p_in] = df[f1] * df[f2]\n",
    "    return p_in\n",
    "df_tmp = pd.DataFrame({'scr':model_score_list}) \n",
    "top_index = df_tmp.sort_values('scr', ascending=False).\\\n",
    "      head(5).index\n",
    "#for pairs_index in \n",
    "#_ = [woker_split(p) for p in model_pairs_list[pairs_index]]\n",
    "\n",
    "feat_pairs_in_top = sum([model_pairs_list[ind] for ind in top_index], [])\n",
    "feat_pairs_in_top = list(set(feat_pairs_in_top))\n",
    "\n",
    "# Add pairs to train\n",
    "_ = [woker_split(p) for p in feat_pairs_in_top]"
   ]
  },
  {
   "cell_type": "code",
   "execution_count": null,
   "metadata": {
    "collapsed": false
   },
   "outputs": [
    {
     "name": "stdout",
     "output_type": "stream",
     "text": [
      "(4209, 1979)\n",
      "Fold= 1 r2= 0.58859745732\n",
      "Fold= 2 r2= 0.438514345824\n",
      "Fold= 3 r2= 0.599360604619\n",
      "Fold= 4 r2= 0.61451924489\n",
      "Fold= 5 r2= 0.59546423567\n",
      "KFold done!\n",
      "Done!\n",
      "time: 13.5 s\n"
     ]
    }
   ],
   "source": [
    "one_model_pred(xgb_fit, feat_numb_top200, 'xgb_feat_numb_top200_XGB2')"
   ]
  },
  {
   "cell_type": "code",
   "execution_count": null,
   "metadata": {
    "collapsed": false
   },
   "outputs": [
    {
     "name": "stdout",
     "output_type": "stream",
     "text": [
      "(4209, 1979)\n",
      "Fold= 1 r2= 0.587499093203\n",
      "Fold= 2 r2= 0.43745087492\n",
      "Fold= 3 r2= 0.599348800374\n",
      "Fold= 4 r2= 0.615172320298\n"
     ]
    }
   ],
   "source": [
    "one_model_pred(xgb_fit, feat_numb, 'xgb_feat_numb_XGB')"
   ]
  },
  {
   "cell_type": "code",
   "execution_count": null,
   "metadata": {
    "collapsed": false
   },
   "outputs": [],
   "source": [
    "def sgd_fit(X_train, y_train, X_test, columns):\n",
    "    \n",
    "    classifier = lambda: SGDRegressor(\n",
    "        loss='squared_loss',\n",
    "        penalty='elasticnet',\n",
    "        alpha=1e-05,\n",
    "        l1_ratio=1,\n",
    "        fit_intercept=True,\n",
    "        n_iter=5,\n",
    "        shuffle=True,\n",
    "        verbose=0, epsilon=0.1, random_state=42, learning_rate='invscaling',\n",
    "        eta0=0.01, power_t=0.25, warm_start=False, average=False)\n",
    "    \n",
    "    clf = Pipeline(steps=[\n",
    "        #('ss', StandardScaler()),\n",
    "        ('en', classifier())\n",
    "    ])\n",
    "    clf.fit(X_train[columns], y_train)\n",
    "    y_pred = clf.predict(X_test[columns])\n",
    "    return y_pred\n",
    "one_model_pred(sgd_fit, feat_numb + feat_pairs_in_top, 'sgd_feat_numb_pairs')\n",
    "one_model_pred(sgd_fit, feat_numb_top200 + feat_pairs_in_top, 'sgd_feat_numb200_pairs')\n",
    "one_model_pred(sgd_fit, feat_numb_top150 + feat_pairs_in_top, 'sgd_feat_numb150_150pairs')"
   ]
  },
  {
   "cell_type": "code",
   "execution_count": null,
   "metadata": {
    "collapsed": false
   },
   "outputs": [],
   "source": [
    "feat_list = feat_numb + feat_ohe\n",
    "n_comp = 20\n",
    "\n",
    "\n",
    "# PCA\n",
    "pca = PCA(n_components=n_comp, random_state=42)\n",
    "pca.fit(df[ix_train][feat_list])\n",
    "pca2_df = pca.transform(df[feat_list])\n",
    "\n",
    "# ICA\n",
    "ica = FastICA(n_components=n_comp, random_state=42, max_iter = 600)\n",
    "ica.fit(df[ix_train][feat_list])\n",
    "ica2_df= ica.transform(df[feat_list])\n",
    "\n",
    "# Append decomposition components to datasets\n",
    "feat_pca = list()\n",
    "feat_ica = list()\n",
    "for i in range(1, n_comp+1):\n",
    "    df['pca_' + str(i)] = pca2_df[:,i-1]\n",
    "    df['ica_' + str(i)] = ica2_df[:,i-1]\n",
    "    feat_pca.append('pca_' + str(i))\n",
    "    feat_ica.append('ica_' + str(i))"
   ]
  },
  {
   "cell_type": "code",
   "execution_count": null,
   "metadata": {
    "collapsed": false
   },
   "outputs": [],
   "source": [
    "one_model_pred(xgb_fit, feat_pca + feat_ica + feat_numb, 'xgb_feat_numb_ica_pca')"
   ]
  },
  {
   "cell_type": "code",
   "execution_count": null,
   "metadata": {
    "collapsed": false
   },
   "outputs": [],
   "source": [
    "one_model_pred(xgb_fit, feat_ohe + feat_ica + feat_pca, 'xgb_feat_numb_ica_pca')\n",
    "one_model_pred(xgb_fit, feat_ica + feat_pca, 'feat_ica + feat_pca')\n",
    "one_model_pred(xgb_fit, feat_ohe + feat_numb_top200, 'feat_ohe + feat_numb_top200')\n",
    "one_model_pred(xgb_fit, feat_ohe + feat_pairs_in_top, 'feat_ohe + feat_pairs_in_top')"
   ]
  },
  {
   "cell_type": "code",
   "execution_count": null,
   "metadata": {
    "collapsed": false
   },
   "outputs": [],
   "source": []
  },
  {
   "cell_type": "code",
   "execution_count": null,
   "metadata": {
    "collapsed": false
   },
   "outputs": [],
   "source": [
    "feat_le = list()\n",
    "for col in feat_categ:\n",
    "    df[col + '_le'] = LabelEncoder().fit_transform(df[col])\n",
    "    feat_le.append(col + '_le')\n",
    "\n"
   ]
  },
  {
   "cell_type": "code",
   "execution_count": null,
   "metadata": {
    "collapsed": false
   },
   "outputs": [],
   "source": [
    "one_model_pred(xgb_fit, [feat_le[0]] + feat_numb_top150[:10], 'xgb only X0_le')"
   ]
  },
  {
   "cell_type": "code",
   "execution_count": null,
   "metadata": {
    "collapsed": false
   },
   "outputs": [],
   "source": [
    "one_model_pred(xgb_fit, feat_le + feat_numb_top150, 'xgb feat_le + feat_numb_top150')"
   ]
  },
  {
   "cell_type": "code",
   "execution_count": null,
   "metadata": {
    "collapsed": false
   },
   "outputs": [],
   "source": [
    "X = OneHotEncoder().fit_transform(df.X0_le.values.reshape(-1,1))\n",
    "feat_ohe = ['X0_ohe_' + str(i) for i in np.arange(X.shape[1])]\n",
    "t = pd.DataFrame(X.todense(), columns=feat_ohe, index=df.index)\n",
    "df = pd.concat( [df, t] , axis=1)"
   ]
  },
  {
   "cell_type": "code",
   "execution_count": null,
   "metadata": {
    "collapsed": false
   },
   "outputs": [],
   "source": [
    "one_model_pred(xgb_fit, feat_ohe, 'xgb only X0_OHE')"
   ]
  },
  {
   "cell_type": "code",
   "execution_count": null,
   "metadata": {
    "collapsed": false
   },
   "outputs": [],
   "source": [
    "files = list(os.listdir('../y_pred'))\n",
    "X = np.empty((df.shape[0],len(files)))\n",
    "i = 0\n",
    "for filename in files:\n",
    "    X[:,i] = np.loadtxt('../y_pred/'+filename,skiprows=1)\n",
    "    i = i + 1\n",
    "X = StandardScaler().fit_transform(X)\n",
    "    \n",
    "from sklearn.linear_model import LinearRegression\n",
    "#model = #LinearRegression()\n",
    "model = SGDRegressor(\n",
    "        loss='squared_loss',\n",
    "        penalty='elasticnet',\n",
    "        alpha=0.001,\n",
    "        l1_ratio=1,\n",
    "        fit_intercept=True,\n",
    "        n_iter=5,\n",
    "        shuffle=True,\n",
    "        verbose=0, epsilon=0.1, random_state=42, learning_rate='invscaling',\n",
    "        eta0=0.01, power_t=0.25, warm_start=False, average=False)\n",
    "\n",
    "model.fit(X[ix_train], y)\n",
    "y_sumbit = model.predict(X[ix_test])\n",
    "\n",
    "pd.DataFrame({'ID':test.ID, 'y':y_sumbit}).to_csv(\"../submit/stacking_by_SGD.csv\", index=False)\n",
    "\n",
    "plt.plot(model.coef_, 'ro')"
   ]
  },
  {
   "cell_type": "code",
   "execution_count": null,
   "metadata": {
    "collapsed": false
   },
   "outputs": [],
   "source": [
    "files_top = np.array(files)[model.coef_ > 1]\n",
    "\n",
    "\n",
    "files = files_top\n",
    "X = np.empty((df.shape[0],len(files)))\n",
    "i = 0\n",
    "for filename in files:\n",
    "    X[:,i] = np.loadtxt('../y_pred/'+filename,skiprows=1)\n",
    "    i = i + 1\n",
    "X = StandardScaler().fit_transform(X)\n",
    "    \n",
    "from sklearn.linear_model import LinearRegression\n",
    "#model = #LinearRegression()\n",
    "model = SGDRegressor(\n",
    "        loss='squared_loss',\n",
    "        penalty='elasticnet',\n",
    "        alpha=0.001,\n",
    "        l1_ratio=1,\n",
    "        fit_intercept=True,\n",
    "        n_iter=5,\n",
    "        shuffle=True,\n",
    "        verbose=0, epsilon=0.1, random_state=42, learning_rate='invscaling',\n",
    "        eta0=0.01, power_t=0.25, warm_start=False, average=False)\n",
    "\n",
    "model.fit(X[ix_train], y)\n",
    "y_sumbit = model.predict(X[ix_test])\n",
    "\n",
    "pd.DataFrame({'ID':test.ID, 'y':y_sumbit}).to_csv(\"../submit/stacking_by_SGD_files_top.csv\", index=False)\n",
    "\n",
    "plt.plot(model.coef_, 'ro')"
   ]
  },
  {
   "cell_type": "code",
   "execution_count": null,
   "metadata": {
    "collapsed": true
   },
   "outputs": [],
   "source": []
  },
  {
   "cell_type": "code",
   "execution_count": null,
   "metadata": {
    "collapsed": true
   },
   "outputs": [],
   "source": []
  },
  {
   "cell_type": "code",
   "execution_count": null,
   "metadata": {
    "collapsed": true
   },
   "outputs": [],
   "source": []
  }
 ],
 "metadata": {
  "kernelspec": {
   "display_name": "Python 3",
   "language": "python",
   "name": "python3"
  },
  "language_info": {
   "codemirror_mode": {
    "name": "ipython",
    "version": 3
   },
   "file_extension": ".py",
   "mimetype": "text/x-python",
   "name": "python",
   "nbconvert_exporter": "python",
   "pygments_lexer": "ipython3",
   "version": "3.6.0"
  }
 },
 "nbformat": 4,
 "nbformat_minor": 2
}
