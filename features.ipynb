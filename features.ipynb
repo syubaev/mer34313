{
 "cells": [
  {
   "cell_type": "code",
   "execution_count": 1,
   "metadata": {
    "collapsed": false
   },
   "outputs": [],
   "source": [
    "import os\n",
    "import pickle\n",
    "import multiprocessing\n",
    "import itertools\n",
    "\n",
    "import numpy as np\n",
    "import pandas as pd\n",
    "import matplotlib.pyplot as plt\n",
    "import seaborn as sns\n",
    "from sklearn import preprocessing\n",
    "import xgboost as xgb\n",
    "\n",
    "\n",
    "from sklearn.preprocessing import StandardScaler, LabelEncoder\n",
    "from sklearn.metrics import r2_score\n",
    "from sklearn.decomposition import PCA, FastICA\n",
    "\n",
    "from sklearn.linear_model import SGDRegressor\n",
    "from sklearn.pipeline import Pipeline\n",
    "from sklearn.model_selection import GridSearchCV, StratifiedKFold, KFold, cross_val_predict\n",
    "\n",
    "color = sns.color_palette()\n",
    "\n",
    "%matplotlib inline\n",
    "\n",
    "pd.options.mode.chained_assignment = None  # default='warn'\n",
    "pd.options.display.max_columns = 100\n",
    "\n",
    "from subprocess import check_output\n",
    "\n",
    "%load_ext autotime"
   ]
  },
  {
   "cell_type": "code",
   "execution_count": 2,
   "metadata": {
    "collapsed": false
   },
   "outputs": [
    {
     "name": "stdout",
     "output_type": "stream",
     "text": [
      "Train shape :  (4209, 378)\n",
      "Test shape :  (4209, 377)\n",
      "time: 630 ms\n"
     ]
    }
   ],
   "source": [
    "train = pd.read_csv(\"../data/train.csv\")\n",
    "test = pd.read_csv(\"../data/test.csv\")\n",
    "print(\"Train shape : \", train.shape)\n",
    "print(\"Test shape : \", test.shape)"
   ]
  },
  {
   "cell_type": "code",
   "execution_count": 3,
   "metadata": {
    "collapsed": false
   },
   "outputs": [
    {
     "name": "stdout",
     "output_type": "stream",
     "text": [
      "time: 17.2 ms\n"
     ]
    }
   ],
   "source": [
    "feat_all = train.columns[2:]\n",
    "feat_categ = train.dtypes.index[train.dtypes == 'object']\n",
    "feat_numb = list(set(feat_all) - set(feat_categ))"
   ]
  },
  {
   "cell_type": "markdown",
   "metadata": {},
   "source": [
    "Переменные, которые сильнее всего разделяют средний y"
   ]
  },
  {
   "cell_type": "code",
   "execution_count": 4,
   "metadata": {
    "collapsed": false
   },
   "outputs": [
    {
     "name": "stdout",
     "output_type": "stream",
     "text": [
      "time: 1.53 ms\n"
     ]
    }
   ],
   "source": [
    "predictors = ['X339', 'X236', 'X205', 'X204', 'X270', 'X167', 'X277', 'X278', 'X269', 'X29',\n",
    " 'X232', 'X279', 'X263', 'X276', 'X328', 'X272', 'X166', 'X17', 'X382', 'X378',\n",
    " 'X371', 'X108', 'X325', 'X136', 'X54', 'X76', 'X185', 'X162', 'X159', 'X310', 'X252']"
   ]
  },
  {
   "cell_type": "code",
   "execution_count": 5,
   "metadata": {
    "collapsed": false
   },
   "outputs": [
    {
     "name": "stdout",
     "output_type": "stream",
     "text": [
      "time: 14.2 ms\n"
     ]
    }
   ],
   "source": [
    "def check_model(predictors):\n",
    "    classifier = lambda: SGDRegressor(\n",
    "        loss='squared_loss',\n",
    "        penalty='elasticnet',\n",
    "        alpha=0.0005,\n",
    "        l1_ratio=0.15,\n",
    "        fit_intercept=True,\n",
    "        n_iter=5,\n",
    "        shuffle=True,\n",
    "        verbose=0, epsilon=0.1, random_state=42, learning_rate='invscaling',\n",
    "        eta0=0.01, power_t=0.25, warm_start=False, average=False)\n",
    "    \n",
    "\n",
    "    model = Pipeline(steps=[\n",
    "        #('ss', StandardScaler()),\n",
    "        ('en', classifier())\n",
    "    ])\n",
    "\n",
    "    parameters = {\n",
    "        'en__alpha': [0.00001, 0.0001, 0.001, 0.01, 0.02, 0.1, 0.5, 0.6, 0.7, 0.9, 1],\n",
    "        'en__l1_ratio': [0, 0.001, 0.01, 0.1, 0.3, 0.5, 0.75, 0.9, 1]\n",
    "    }\n",
    "    #parameters = {\n",
    "    #    'en__alpha': [0.00001, 0.0001],\n",
    "    #    'en__l1_ratio': [0, 0.0001, 0.001]\n",
    "    #}\n",
    "\n",
    "    folder = KFold(n_splits=5, shuffle=True, random_state=42)\n",
    "    \n",
    "    grid_search = GridSearchCV(\n",
    "        model, \n",
    "        parameters,\n",
    "        scoring='r2',\n",
    "        cv=folder, \n",
    "        n_jobs=-1, \n",
    "        verbose=1)\n",
    "    grid_search = grid_search.fit(train[predictors], \n",
    "                                  train.y)\n",
    "    \n",
    "    return grid_search"
   ]
  },
  {
   "cell_type": "code",
   "execution_count": 6,
   "metadata": {
    "collapsed": false
   },
   "outputs": [
    {
     "name": "stdout",
     "output_type": "stream",
     "text": [
      "time: 7.98 ms\n"
     ]
    }
   ],
   "source": [
    "def pickle_check_model(predictors, model_file, bremove = False):\n",
    "    model_file = './../tmp/' + model_file\n",
    "    if bremove and os.path.isfile(model_file):\n",
    "        print(\"Removing old file\")\n",
    "        os.remove(model_file)\n",
    "    if not os.path.isfile(model_file):\n",
    "        print(\"Make grid search...\")\n",
    "        model = check_model(predictors)\n",
    "\n",
    "        with open(model_file, 'wb') as f:\n",
    "            pickle.dump(model, f)\n",
    "    else:\n",
    "        with open(model_file, 'rb') as f:\n",
    "            print(\"Load from file...\")\n",
    "            model = pickle.load(f)\n",
    "    print(model.best_score_)\n",
    "    print(model.best_params_)\n",
    "    return model"
   ]
  },
  {
   "cell_type": "code",
   "execution_count": 7,
   "metadata": {
    "collapsed": false
   },
   "outputs": [
    {
     "name": "stdout",
     "output_type": "stream",
     "text": [
      "Load from file...\n",
      "0.132319948991\n",
      "{'en__alpha': 1e-05, 'en__l1_ratio': 0}\n",
      "time: 35.2 ms\n"
     ]
    }
   ],
   "source": [
    "t = pickle_check_model(predictors, '1_model.pkl')"
   ]
  },
  {
   "cell_type": "code",
   "execution_count": 8,
   "metadata": {
    "collapsed": false
   },
   "outputs": [
    {
     "name": "stdout",
     "output_type": "stream",
     "text": [
      "time: 1.42 s\n"
     ]
    }
   ],
   "source": [
    "n_comp = 5\n",
    "ica = FastICA(n_components=n_comp, random_state=42)\n",
    "ica2_results_train = ica.fit_transform(train[predictors])\n"
   ]
  },
  {
   "cell_type": "code",
   "execution_count": 9,
   "metadata": {
    "collapsed": false
   },
   "outputs": [
    {
     "name": "stdout",
     "output_type": "stream",
     "text": [
      "time: 14.5 ms\n"
     ]
    }
   ],
   "source": [
    "feat_ica = ['ica_' + str(c) for c in np.arange(n_comp)]\n",
    "df_tmp=pd.DataFrame(ica2_results_train, columns=feat_ica)\n",
    "if np.any(train.columns.isin(feat_ica)):\n",
    "    train = train.drop(feat_ica, axis=1)\n",
    "train = pd.concat((train, df_tmp), axis=1)\n",
    "train.shape\n",
    "train.columns\n",
    "\n",
    "del df_tmp"
   ]
  },
  {
   "cell_type": "code",
   "execution_count": 10,
   "metadata": {
    "collapsed": false
   },
   "outputs": [
    {
     "name": "stdout",
     "output_type": "stream",
     "text": [
      "Load from file...\n",
      "0.132328312484\n",
      "{'en__alpha': 1e-05, 'en__l1_ratio': 0}\n",
      "time: 28.8 ms\n"
     ]
    }
   ],
   "source": [
    "t = pickle_check_model(predictors + feat_ica, '2_model.pkl')"
   ]
  },
  {
   "cell_type": "code",
   "execution_count": 11,
   "metadata": {
    "collapsed": false
   },
   "outputs": [
    {
     "name": "stdout",
     "output_type": "stream",
     "text": [
      "Load from file...\n",
      "-0.00178350274056\n",
      "{'en__alpha': 1e-05, 'en__l1_ratio': 0}\n",
      "time: 12.9 ms\n"
     ]
    }
   ],
   "source": [
    "t = pickle_check_model(feat_ica, '3_model.pkl')"
   ]
  },
  {
   "cell_type": "code",
   "execution_count": 12,
   "metadata": {
    "collapsed": false
   },
   "outputs": [
    {
     "name": "stdout",
     "output_type": "stream",
     "text": [
      "Load from file...\n",
      "0.511579804396\n",
      "{'en__alpha': 1e-05, 'en__l1_ratio': 1}\n",
      "time: 43.5 ms\n"
     ]
    }
   ],
   "source": [
    "t = pickle_check_model(feat_numb, '4_model.pkl')"
   ]
  },
  {
   "cell_type": "code",
   "execution_count": 14,
   "metadata": {
    "collapsed": false
   },
   "outputs": [
    {
     "name": "stderr",
     "output_type": "stream",
     "text": [
      "/home/subaevdi/anaconda3/lib/python3.6/site-packages/matplotlib/font_manager.py:1297: UserWarning: findfont: Font family ['sans-serif'] not found. Falling back to DejaVu Sans\n",
      "  (prop.get_family(), self.defaultFamily[fontext]))\n"
     ]
    },
    {
     "data": {
      "image/png": "[encoded data removed]",
      "text/plain": [
       "<matplotlib.figure.Figure at 0x7fb2cd4679e8>"
      ]
     },
     "metadata": {},
     "output_type": "display_data"
    },
    {
     "name": "stdout",
     "output_type": "stream",
     "text": [
      "time: 487 ms\n"
     ]
    }
   ],
   "source": [
    "a = t.best_estimator_.steps[0][1]\n",
    "df_tmp = pd.DataFrame({'col':feat_numb, 'val':a.coef_})\n",
    "df_tmp['abs_val'] = np.abs(df_tmp.val)\n",
    "df_tmp = df_tmp.sort_values('abs_val', ascending=False).reset_index()\n",
    "plt.plot(df_tmp.abs_val)\n",
    "\n",
    "feat_numb_top150 =list(df_tmp.col[:150])"
   ]
  },
  {
   "cell_type": "code",
   "execution_count": 45,
   "metadata": {
    "collapsed": false
   },
   "outputs": [
    {
     "name": "stdout",
     "output_type": "stream",
     "text": [
      "time: 15 s\n"
     ]
    }
   ],
   "source": [
    "def woker(p):\n",
    "    f1 = p[0]\n",
    "    f2 = p[1]\n",
    "    nf = f1 + '_' + f2\n",
    "    train[nf] = train[f1] * train[f2]\n",
    "    return nf\n",
    "\n",
    "numb_pairs = [(f1,f2) for f1, f2 in itertools.combinations(feat_numb_top150, r=2)][:50000]\n",
    "\n",
    "#with multiprocessing.Pool() as pool: # default is optimal number of processes\n",
    "#    feat_numb_pair = pool.map(woker, numb_pairs)"
   ]
  },
  {
   "cell_type": "code",
   "execution_count": null,
   "metadata": {
    "collapsed": false
   },
   "outputs": [],
   "source": [
    "#t = pickle_check_model(feat_numb_pair, '5_model.pkl')"
   ]
  },
  {
   "cell_type": "code",
   "execution_count": 75,
   "metadata": {
    "collapsed": false
   },
   "outputs": [
    {
     "data": {
      "text/plain": [
       "(4209, 383)"
      ]
     },
     "execution_count": 75,
     "metadata": {},
     "output_type": "execute_result"
    },
    {
     "name": "stdout",
     "output_type": "stream",
     "text": [
      "time: 2.69 ms\n"
     ]
    }
   ],
   "source": [
    "len(l)\n",
    "train.shape"
   ]
  },
  {
   "cell_type": "markdown",
   "metadata": {},
   "source": [
    "1. Генерим пары по 200 штук\n",
    "2. Добавляем в train\n",
    "3. Запускаем модель из базовыйх + добавленные 100 раз\n",
    "4. Находим лучшую"
   ]
  },
  {
   "cell_type": "code",
   "execution_count": 19,
   "metadata": {
    "collapsed": false
   },
   "outputs": [
    {
     "name": "stdout",
     "output_type": "stream",
     "text": [
      "Model 0\n",
      "Removing old file\n",
      "Make grid search...\n",
      "Fitting 5 folds for each of 99 candidates, totalling 495 fits\n"
     ]
    },
    {
     "name": "stderr",
     "output_type": "stream",
     "text": [
      "[Parallel(n_jobs=-1)]: Done  76 tasks      | elapsed:    4.2s\n",
      "[Parallel(n_jobs=-1)]: Done 376 tasks      | elapsed:   21.3s\n",
      "[Parallel(n_jobs=-1)]: Done 488 out of 495 | elapsed:   27.6s remaining:    0.4s\n",
      "[Parallel(n_jobs=-1)]: Done 495 out of 495 | elapsed:   27.9s finished\n"
     ]
    },
    {
     "name": "stdout",
     "output_type": "stream",
     "text": [
      "0.423600127865\n",
      "{'en__alpha': 1e-05, 'en__l1_ratio': 1}\n",
      "Model 1\n",
      "Removing old file\n",
      "Make grid search...\n",
      "Fitting 5 folds for each of 99 candidates, totalling 495 fits\n"
     ]
    },
    {
     "name": "stderr",
     "output_type": "stream",
     "text": [
      "[Parallel(n_jobs=-1)]: Done  76 tasks      | elapsed:    4.7s\n",
      "[Parallel(n_jobs=-1)]: Done 376 tasks      | elapsed:   21.5s\n",
      "[Parallel(n_jobs=-1)]: Done 488 out of 495 | elapsed:   27.7s remaining:    0.4s\n",
      "[Parallel(n_jobs=-1)]: Done 495 out of 495 | elapsed:   28.1s finished\n"
     ]
    },
    {
     "name": "stdout",
     "output_type": "stream",
     "text": [
      "0.410118332697\n",
      "{'en__alpha': 1e-05, 'en__l1_ratio': 1}\n",
      "Model 2\n",
      "Removing old file\n",
      "Make grid search...\n",
      "Fitting 5 folds for each of 99 candidates, totalling 495 fits\n"
     ]
    },
    {
     "name": "stderr",
     "output_type": "stream",
     "text": [
      "[Parallel(n_jobs=-1)]: Done  76 tasks      | elapsed:    4.5s\n",
      "[Parallel(n_jobs=-1)]: Done 376 tasks      | elapsed:   21.3s\n",
      "[Parallel(n_jobs=-1)]: Done 488 out of 495 | elapsed:   27.7s remaining:    0.4s\n",
      "[Parallel(n_jobs=-1)]: Done 495 out of 495 | elapsed:   27.9s finished\n"
     ]
    },
    {
     "name": "stdout",
     "output_type": "stream",
     "text": [
      "0.433044781765\n",
      "{'en__alpha': 1e-05, 'en__l1_ratio': 1}\n",
      "Model 3\n",
      "Removing old file\n",
      "Make grid search...\n",
      "Fitting 5 folds for each of 99 candidates, totalling 495 fits\n"
     ]
    },
    {
     "name": "stderr",
     "output_type": "stream",
     "text": [
      "[Parallel(n_jobs=-1)]: Done  42 tasks      | elapsed:    3.1s\n",
      "[Parallel(n_jobs=-1)]: Done 192 tasks      | elapsed:   13.6s\n",
      "[Parallel(n_jobs=-1)]: Done 442 tasks      | elapsed:   31.5s\n",
      "[Parallel(n_jobs=-1)]: Done 495 out of 495 | elapsed:   35.2s finished\n"
     ]
    },
    {
     "name": "stdout",
     "output_type": "stream",
     "text": [
      "0.428666702633\n",
      "{'en__alpha': 1e-05, 'en__l1_ratio': 1}\n",
      "Model 4\n",
      "Removing old file\n",
      "Make grid search...\n",
      "Fitting 5 folds for each of 99 candidates, totalling 495 fits\n"
     ]
    },
    {
     "name": "stderr",
     "output_type": "stream",
     "text": [
      "[Parallel(n_jobs=-1)]: Done  76 tasks      | elapsed:    4.5s\n",
      "[Parallel(n_jobs=-1)]: Done 376 tasks      | elapsed:   21.4s\n",
      "[Parallel(n_jobs=-1)]: Done 488 out of 495 | elapsed:   27.8s remaining:    0.4s\n",
      "[Parallel(n_jobs=-1)]: Done 495 out of 495 | elapsed:   28.1s finished\n"
     ]
    },
    {
     "name": "stdout",
     "output_type": "stream",
     "text": [
      "0.415831152617\n",
      "{'en__alpha': 1e-05, 'en__l1_ratio': 1}\n",
      "Model 5\n",
      "Removing old file\n",
      "Make grid search...\n",
      "Fitting 5 folds for each of 99 candidates, totalling 495 fits\n"
     ]
    },
    {
     "name": "stderr",
     "output_type": "stream",
     "text": [
      "[Parallel(n_jobs=-1)]: Done  76 tasks      | elapsed:    4.7s\n",
      "[Parallel(n_jobs=-1)]: Done 376 tasks      | elapsed:   21.8s\n",
      "[Parallel(n_jobs=-1)]: Done 488 out of 495 | elapsed:   27.7s remaining:    0.4s\n",
      "[Parallel(n_jobs=-1)]: Done 495 out of 495 | elapsed:   28.1s finished\n"
     ]
    },
    {
     "name": "stdout",
     "output_type": "stream",
     "text": [
      "0.413192520574\n",
      "{'en__alpha': 1e-05, 'en__l1_ratio': 1}\n",
      "Model 6\n",
      "Removing old file\n",
      "Make grid search...\n",
      "Fitting 5 folds for each of 99 candidates, totalling 495 fits\n"
     ]
    },
    {
     "name": "stderr",
     "output_type": "stream",
     "text": [
      "[Parallel(n_jobs=-1)]: Done  76 tasks      | elapsed:    4.4s\n",
      "[Parallel(n_jobs=-1)]: Done 376 tasks      | elapsed:   21.3s\n",
      "[Parallel(n_jobs=-1)]: Done 488 out of 495 | elapsed:   27.7s remaining:    0.4s\n",
      "[Parallel(n_jobs=-1)]: Done 495 out of 495 | elapsed:   28.0s finished\n"
     ]
    },
    {
     "name": "stdout",
     "output_type": "stream",
     "text": [
      "0.418192728655\n",
      "{'en__alpha': 1e-05, 'en__l1_ratio': 1}\n",
      "Model 7\n",
      "Removing old file\n",
      "Make grid search...\n",
      "Fitting 5 folds for each of 99 candidates, totalling 495 fits\n"
     ]
    },
    {
     "name": "stderr",
     "output_type": "stream",
     "text": [
      "[Parallel(n_jobs=-1)]: Done  76 tasks      | elapsed:    4.6s\n",
      "[Parallel(n_jobs=-1)]: Done 376 tasks      | elapsed:   21.7s\n",
      "[Parallel(n_jobs=-1)]: Done 488 out of 495 | elapsed:   28.0s remaining:    0.4s\n",
      "[Parallel(n_jobs=-1)]: Done 495 out of 495 | elapsed:   28.3s finished\n"
     ]
    },
    {
     "name": "stdout",
     "output_type": "stream",
     "text": [
      "0.413668671627\n",
      "{'en__alpha': 1e-05, 'en__l1_ratio': 1}\n",
      "Model 8\n",
      "Removing old file\n",
      "Make grid search...\n",
      "Fitting 5 folds for each of 99 candidates, totalling 495 fits\n"
     ]
    },
    {
     "name": "stderr",
     "output_type": "stream",
     "text": [
      "[Parallel(n_jobs=-1)]: Done  76 tasks      | elapsed:    4.6s\n",
      "[Parallel(n_jobs=-1)]: Done 376 tasks      | elapsed:   21.6s\n",
      "[Parallel(n_jobs=-1)]: Done 488 out of 495 | elapsed:   28.0s remaining:    0.4s\n",
      "[Parallel(n_jobs=-1)]: Done 495 out of 495 | elapsed:   28.3s finished\n"
     ]
    },
    {
     "name": "stdout",
     "output_type": "stream",
     "text": [
      "0.403223129311\n",
      "{'en__alpha': 1e-05, 'en__l1_ratio': 1}\n",
      "Model 9\n",
      "Removing old file\n",
      "Make grid search...\n",
      "Fitting 5 folds for each of 99 candidates, totalling 495 fits\n"
     ]
    },
    {
     "name": "stderr",
     "output_type": "stream",
     "text": [
      "[Parallel(n_jobs=-1)]: Done  76 tasks      | elapsed:    4.5s\n",
      "[Parallel(n_jobs=-1)]: Done 376 tasks      | elapsed:   21.1s\n",
      "[Parallel(n_jobs=-1)]: Done 488 out of 495 | elapsed:   27.4s remaining:    0.4s\n",
      "[Parallel(n_jobs=-1)]: Done 495 out of 495 | elapsed:   27.7s finished\n"
     ]
    },
    {
     "name": "stdout",
     "output_type": "stream",
     "text": [
      "0.419763696936\n",
      "{'en__alpha': 1e-05, 'en__l1_ratio': 1}\n",
      "Model 10\n",
      "Removing old file\n",
      "Make grid search...\n",
      "Fitting 5 folds for each of 99 candidates, totalling 495 fits\n"
     ]
    },
    {
     "name": "stderr",
     "output_type": "stream",
     "text": [
      "[Parallel(n_jobs=-1)]: Done  42 tasks      | elapsed:    2.9s\n",
      "[Parallel(n_jobs=-1)]: Done 192 tasks      | elapsed:   13.3s\n",
      "[Parallel(n_jobs=-1)]: Done 442 tasks      | elapsed:   31.1s\n",
      "[Parallel(n_jobs=-1)]: Done 495 out of 495 | elapsed:   34.7s finished\n"
     ]
    },
    {
     "name": "stdout",
     "output_type": "stream",
     "text": [
      "0.436911668028\n",
      "{'en__alpha': 1e-05, 'en__l1_ratio': 1}\n",
      "Model 11\n",
      "Removing old file\n",
      "Make grid search...\n",
      "Fitting 5 folds for each of 99 candidates, totalling 495 fits\n"
     ]
    },
    {
     "name": "stderr",
     "output_type": "stream",
     "text": [
      "[Parallel(n_jobs=-1)]: Done  76 tasks      | elapsed:    4.5s\n",
      "[Parallel(n_jobs=-1)]: Done 376 tasks      | elapsed:   21.5s\n",
      "[Parallel(n_jobs=-1)]: Done 488 out of 495 | elapsed:   27.7s remaining:    0.4s\n",
      "[Parallel(n_jobs=-1)]: Done 495 out of 495 | elapsed:   28.0s finished\n"
     ]
    },
    {
     "name": "stdout",
     "output_type": "stream",
     "text": [
      "0.426011813893\n",
      "{'en__alpha': 1e-05, 'en__l1_ratio': 1}\n",
      "Model 12\n",
      "Removing old file\n",
      "Make grid search...\n",
      "Fitting 5 folds for each of 99 candidates, totalling 495 fits\n"
     ]
    },
    {
     "name": "stderr",
     "output_type": "stream",
     "text": [
      "[Parallel(n_jobs=-1)]: Done  76 tasks      | elapsed:    4.8s\n",
      "[Parallel(n_jobs=-1)]: Done 376 tasks      | elapsed:   21.8s\n",
      "[Parallel(n_jobs=-1)]: Done 488 out of 495 | elapsed:   28.2s remaining:    0.4s\n",
      "[Parallel(n_jobs=-1)]: Done 495 out of 495 | elapsed:   28.5s finished\n"
     ]
    },
    {
     "name": "stdout",
     "output_type": "stream",
     "text": [
      "0.416296003985\n",
      "{'en__alpha': 1e-05, 'en__l1_ratio': 1}\n",
      "Model 13\n",
      "Removing old file\n",
      "Make grid search...\n",
      "Fitting 5 folds for each of 99 candidates, totalling 495 fits\n"
     ]
    },
    {
     "name": "stderr",
     "output_type": "stream",
     "text": [
      "[Parallel(n_jobs=-1)]: Done  76 tasks      | elapsed:    4.5s\n",
      "[Parallel(n_jobs=-1)]: Done 376 tasks      | elapsed:   21.5s\n",
      "[Parallel(n_jobs=-1)]: Done 488 out of 495 | elapsed:   27.6s remaining:    0.4s\n",
      "[Parallel(n_jobs=-1)]: Done 495 out of 495 | elapsed:   27.9s finished\n"
     ]
    },
    {
     "name": "stdout",
     "output_type": "stream",
     "text": [
      "0.409361835787\n",
      "{'en__alpha': 1e-05, 'en__l1_ratio': 1}\n",
      "Model 14\n",
      "Removing old file\n",
      "Make grid search...\n",
      "Fitting 5 folds for each of 99 candidates, totalling 495 fits\n"
     ]
    },
    {
     "name": "stderr",
     "output_type": "stream",
     "text": [
      "[Parallel(n_jobs=-1)]: Done  76 tasks      | elapsed:    4.7s\n",
      "[Parallel(n_jobs=-1)]: Done 376 tasks      | elapsed:   21.4s\n",
      "[Parallel(n_jobs=-1)]: Done 488 out of 495 | elapsed:   27.8s remaining:    0.4s\n",
      "[Parallel(n_jobs=-1)]: Done 495 out of 495 | elapsed:   28.0s finished\n"
     ]
    },
    {
     "name": "stdout",
     "output_type": "stream",
     "text": [
      "0.422914307292\n",
      "{'en__alpha': 0.001, 'en__l1_ratio': 1}\n",
      "Model 15\n",
      "Removing old file\n",
      "Make grid search...\n",
      "Fitting 5 folds for each of 99 candidates, totalling 495 fits\n"
     ]
    },
    {
     "name": "stderr",
     "output_type": "stream",
     "text": [
      "[Parallel(n_jobs=-1)]: Done  76 tasks      | elapsed:    4.6s\n",
      "[Parallel(n_jobs=-1)]: Done 376 tasks      | elapsed:   21.9s\n",
      "[Parallel(n_jobs=-1)]: Done 488 out of 495 | elapsed:   28.2s remaining:    0.4s\n",
      "[Parallel(n_jobs=-1)]: Done 495 out of 495 | elapsed:   28.4s finished\n"
     ]
    },
    {
     "name": "stdout",
     "output_type": "stream",
     "text": [
      "0.418964078472\n",
      "{'en__alpha': 1e-05, 'en__l1_ratio': 1}\n",
      "Model 16\n",
      "Removing old file\n",
      "Make grid search...\n",
      "Fitting 5 folds for each of 99 candidates, totalling 495 fits\n"
     ]
    },
    {
     "name": "stderr",
     "output_type": "stream",
     "text": [
      "[Parallel(n_jobs=-1)]: Done  76 tasks      | elapsed:    4.5s\n",
      "[Parallel(n_jobs=-1)]: Done 376 tasks      | elapsed:   21.4s\n",
      "[Parallel(n_jobs=-1)]: Done 488 out of 495 | elapsed:   27.8s remaining:    0.4s\n",
      "[Parallel(n_jobs=-1)]: Done 495 out of 495 | elapsed:   28.0s finished\n"
     ]
    },
    {
     "name": "stdout",
     "output_type": "stream",
     "text": [
      "0.415399361914\n",
      "{'en__alpha': 1e-05, 'en__l1_ratio': 1}\n",
      "Model 17\n",
      "Removing old file\n",
      "Make grid search...\n",
      "Fitting 5 folds for each of 99 candidates, totalling 495 fits\n"
     ]
    },
    {
     "name": "stderr",
     "output_type": "stream",
     "text": [
      "[Parallel(n_jobs=-1)]: Done  76 tasks      | elapsed:    4.6s\n",
      "[Parallel(n_jobs=-1)]: Done 376 tasks      | elapsed:   21.6s\n",
      "[Parallel(n_jobs=-1)]: Done 488 out of 495 | elapsed:   27.8s remaining:    0.4s\n",
      "[Parallel(n_jobs=-1)]: Done 495 out of 495 | elapsed:   28.1s finished\n"
     ]
    },
    {
     "name": "stdout",
     "output_type": "stream",
     "text": [
      "0.422724237578\n",
      "{'en__alpha': 1e-05, 'en__l1_ratio': 1}\n",
      "Model 18\n",
      "Removing old file\n",
      "Make grid search...\n",
      "Fitting 5 folds for each of 99 candidates, totalling 495 fits\n"
     ]
    },
    {
     "name": "stderr",
     "output_type": "stream",
     "text": [
      "[Parallel(n_jobs=-1)]: Done  76 tasks      | elapsed:    4.4s\n",
      "[Parallel(n_jobs=-1)]: Done 376 tasks      | elapsed:   21.3s\n",
      "[Parallel(n_jobs=-1)]: Done 488 out of 495 | elapsed:   27.7s remaining:    0.4s\n",
      "[Parallel(n_jobs=-1)]: Done 495 out of 495 | elapsed:   27.9s finished\n"
     ]
    },
    {
     "name": "stdout",
     "output_type": "stream",
     "text": [
      "0.425149170046\n",
      "{'en__alpha': 1e-05, 'en__l1_ratio': 1}\n",
      "Model 19\n",
      "Removing old file\n",
      "Make grid search...\n",
      "Fitting 5 folds for each of 99 candidates, totalling 495 fits\n"
     ]
    },
    {
     "name": "stderr",
     "output_type": "stream",
     "text": [
      "[Parallel(n_jobs=-1)]: Done  76 tasks      | elapsed:    4.4s\n",
      "[Parallel(n_jobs=-1)]: Done 376 tasks      | elapsed:   21.2s\n",
      "[Parallel(n_jobs=-1)]: Done 488 out of 495 | elapsed:   27.5s remaining:    0.4s\n",
      "[Parallel(n_jobs=-1)]: Done 495 out of 495 | elapsed:   27.9s finished\n"
     ]
    },
    {
     "name": "stdout",
     "output_type": "stream",
     "text": [
      "0.423440297989\n",
      "{'en__alpha': 1e-05, 'en__l1_ratio': 1}\n",
      "Model 20\n",
      "Removing old file\n",
      "Make grid search...\n",
      "Fitting 5 folds for each of 99 candidates, totalling 495 fits\n"
     ]
    },
    {
     "name": "stderr",
     "output_type": "stream",
     "text": [
      "[Parallel(n_jobs=-1)]: Done  42 tasks      | elapsed:    3.0s\n",
      "[Parallel(n_jobs=-1)]: Done 192 tasks      | elapsed:   13.5s\n",
      "[Parallel(n_jobs=-1)]: Done 442 tasks      | elapsed:   30.9s\n",
      "[Parallel(n_jobs=-1)]: Done 495 out of 495 | elapsed:   34.6s finished\n"
     ]
    },
    {
     "name": "stdout",
     "output_type": "stream",
     "text": [
      "0.411114819863\n",
      "{'en__alpha': 1e-05, 'en__l1_ratio': 1}\n",
      "Model 21\n",
      "Removing old file\n",
      "Make grid search...\n",
      "Fitting 5 folds for each of 99 candidates, totalling 495 fits\n"
     ]
    },
    {
     "name": "stderr",
     "output_type": "stream",
     "text": [
      "[Parallel(n_jobs=-1)]: Done  76 tasks      | elapsed:    4.5s\n",
      "[Parallel(n_jobs=-1)]: Done 376 tasks      | elapsed:   21.5s\n",
      "[Parallel(n_jobs=-1)]: Done 488 out of 495 | elapsed:   27.9s remaining:    0.4s\n",
      "[Parallel(n_jobs=-1)]: Done 495 out of 495 | elapsed:   28.2s finished\n"
     ]
    },
    {
     "name": "stdout",
     "output_type": "stream",
     "text": [
      "0.429495004766\n",
      "{'en__alpha': 1e-05, 'en__l1_ratio': 1}\n",
      "Model 22\n",
      "Removing old file\n",
      "Make grid search...\n",
      "Fitting 5 folds for each of 99 candidates, totalling 495 fits\n"
     ]
    },
    {
     "name": "stderr",
     "output_type": "stream",
     "text": [
      "[Parallel(n_jobs=-1)]: Done  76 tasks      | elapsed:    4.6s\n",
      "[Parallel(n_jobs=-1)]: Done 376 tasks      | elapsed:   21.5s\n",
      "[Parallel(n_jobs=-1)]: Done 488 out of 495 | elapsed:   27.7s remaining:    0.4s\n",
      "[Parallel(n_jobs=-1)]: Done 495 out of 495 | elapsed:   27.9s finished\n"
     ]
    },
    {
     "name": "stdout",
     "output_type": "stream",
     "text": [
      "0.41684761065\n",
      "{'en__alpha': 1e-05, 'en__l1_ratio': 1}\n",
      "Model 23\n",
      "Removing old file\n",
      "Make grid search...\n",
      "Fitting 5 folds for each of 99 candidates, totalling 495 fits\n"
     ]
    },
    {
     "name": "stderr",
     "output_type": "stream",
     "text": [
      "[Parallel(n_jobs=-1)]: Done  76 tasks      | elapsed:    4.7s\n",
      "[Parallel(n_jobs=-1)]: Done 376 tasks      | elapsed:   21.7s\n",
      "[Parallel(n_jobs=-1)]: Done 488 out of 495 | elapsed:   27.8s remaining:    0.4s\n",
      "[Parallel(n_jobs=-1)]: Done 495 out of 495 | elapsed:   28.2s finished\n"
     ]
    },
    {
     "name": "stdout",
     "output_type": "stream",
     "text": [
      "0.442851104984\n",
      "{'en__alpha': 0.01, 'en__l1_ratio': 1}\n",
      "Model 24\n",
      "Removing old file\n",
      "Make grid search...\n",
      "Fitting 5 folds for each of 99 candidates, totalling 495 fits\n"
     ]
    },
    {
     "name": "stderr",
     "output_type": "stream",
     "text": [
      "[Parallel(n_jobs=-1)]: Done  76 tasks      | elapsed:    4.7s\n",
      "[Parallel(n_jobs=-1)]: Done 376 tasks      | elapsed:   21.6s\n",
      "[Parallel(n_jobs=-1)]: Done 488 out of 495 | elapsed:   27.9s remaining:    0.4s\n",
      "[Parallel(n_jobs=-1)]: Done 495 out of 495 | elapsed:   28.2s finished\n"
     ]
    },
    {
     "name": "stdout",
     "output_type": "stream",
     "text": [
      "0.423920832654\n",
      "{'en__alpha': 1e-05, 'en__l1_ratio': 1}\n",
      "Model 25\n",
      "Removing old file\n",
      "Make grid search...\n",
      "Fitting 5 folds for each of 99 candidates, totalling 495 fits\n"
     ]
    },
    {
     "name": "stderr",
     "output_type": "stream",
     "text": [
      "[Parallel(n_jobs=-1)]: Done  42 tasks      | elapsed:    3.1s\n",
      "[Parallel(n_jobs=-1)]: Done 192 tasks      | elapsed:   13.7s\n",
      "[Parallel(n_jobs=-1)]: Done 442 tasks      | elapsed:   31.3s\n",
      "[Parallel(n_jobs=-1)]: Done 495 out of 495 | elapsed:   35.0s finished\n"
     ]
    },
    {
     "name": "stdout",
     "output_type": "stream",
     "text": [
      "0.402255423225\n",
      "{'en__alpha': 1e-05, 'en__l1_ratio': 1}\n",
      "Model 26\n",
      "Removing old file\n",
      "Make grid search...\n",
      "Fitting 5 folds for each of 99 candidates, totalling 495 fits\n"
     ]
    },
    {
     "name": "stderr",
     "output_type": "stream",
     "text": [
      "[Parallel(n_jobs=-1)]: Done  42 tasks      | elapsed:    3.0s\n",
      "[Parallel(n_jobs=-1)]: Done 192 tasks      | elapsed:   13.5s\n",
      "[Parallel(n_jobs=-1)]: Done 442 tasks      | elapsed:   31.0s\n",
      "[Parallel(n_jobs=-1)]: Done 495 out of 495 | elapsed:   34.6s finished\n"
     ]
    },
    {
     "name": "stdout",
     "output_type": "stream",
     "text": [
      "0.41006647591\n",
      "{'en__alpha': 1e-05, 'en__l1_ratio': 1}\n",
      "Model 27\n",
      "Removing old file\n",
      "Make grid search...\n",
      "Fitting 5 folds for each of 99 candidates, totalling 495 fits\n"
     ]
    },
    {
     "name": "stderr",
     "output_type": "stream",
     "text": [
      "[Parallel(n_jobs=-1)]: Done  76 tasks      | elapsed:    4.4s\n",
      "[Parallel(n_jobs=-1)]: Done 376 tasks      | elapsed:   21.5s\n",
      "[Parallel(n_jobs=-1)]: Done 488 out of 495 | elapsed:   27.9s remaining:    0.4s\n",
      "[Parallel(n_jobs=-1)]: Done 495 out of 495 | elapsed:   28.2s finished\n"
     ]
    },
    {
     "name": "stdout",
     "output_type": "stream",
     "text": [
      "0.42305255254\n",
      "{'en__alpha': 1e-05, 'en__l1_ratio': 1}\n",
      "Model 28\n",
      "Removing old file\n",
      "Make grid search...\n",
      "Fitting 5 folds for each of 99 candidates, totalling 495 fits\n"
     ]
    },
    {
     "name": "stderr",
     "output_type": "stream",
     "text": [
      "[Parallel(n_jobs=-1)]: Done  76 tasks      | elapsed:    4.6s\n",
      "[Parallel(n_jobs=-1)]: Done 376 tasks      | elapsed:   21.6s\n",
      "[Parallel(n_jobs=-1)]: Done 488 out of 495 | elapsed:   27.9s remaining:    0.4s\n",
      "[Parallel(n_jobs=-1)]: Done 495 out of 495 | elapsed:   28.2s finished\n"
     ]
    },
    {
     "name": "stdout",
     "output_type": "stream",
     "text": [
      "0.427379160081\n",
      "{'en__alpha': 1e-05, 'en__l1_ratio': 1}\n",
      "Model 29\n",
      "Removing old file\n",
      "Make grid search...\n",
      "Fitting 5 folds for each of 99 candidates, totalling 495 fits\n"
     ]
    },
    {
     "name": "stderr",
     "output_type": "stream",
     "text": [
      "[Parallel(n_jobs=-1)]: Done  76 tasks      | elapsed:    4.5s\n",
      "[Parallel(n_jobs=-1)]: Done 376 tasks      | elapsed:   21.5s\n",
      "[Parallel(n_jobs=-1)]: Done 488 out of 495 | elapsed:   27.8s remaining:    0.4s\n",
      "[Parallel(n_jobs=-1)]: Done 495 out of 495 | elapsed:   28.0s finished\n"
     ]
    },
    {
     "name": "stdout",
     "output_type": "stream",
     "text": [
      "0.405028727826\n",
      "{'en__alpha': 1e-05, 'en__l1_ratio': 1}\n",
      "Model 30\n",
      "Removing old file\n",
      "Make grid search...\n",
      "Fitting 5 folds for each of 99 candidates, totalling 495 fits\n"
     ]
    },
    {
     "name": "stderr",
     "output_type": "stream",
     "text": [
      "[Parallel(n_jobs=-1)]: Done  76 tasks      | elapsed:    4.4s\n",
      "[Parallel(n_jobs=-1)]: Done 376 tasks      | elapsed:   21.5s\n",
      "[Parallel(n_jobs=-1)]: Done 488 out of 495 | elapsed:   27.7s remaining:    0.4s\n",
      "[Parallel(n_jobs=-1)]: Done 495 out of 495 | elapsed:   28.0s finished\n"
     ]
    },
    {
     "name": "stdout",
     "output_type": "stream",
     "text": [
      "0.429574607786\n",
      "{'en__alpha': 1e-05, 'en__l1_ratio': 1}\n",
      "Model 31\n",
      "Removing old file\n",
      "Make grid search...\n",
      "Fitting 5 folds for each of 99 candidates, totalling 495 fits\n"
     ]
    },
    {
     "name": "stderr",
     "output_type": "stream",
     "text": [
      "[Parallel(n_jobs=-1)]: Done  76 tasks      | elapsed:    4.6s\n",
      "[Parallel(n_jobs=-1)]: Done 376 tasks      | elapsed:   21.3s\n",
      "[Parallel(n_jobs=-1)]: Done 488 out of 495 | elapsed:   27.5s remaining:    0.4s\n",
      "[Parallel(n_jobs=-1)]: Done 495 out of 495 | elapsed:   27.7s finished\n"
     ]
    },
    {
     "name": "stdout",
     "output_type": "stream",
     "text": [
      "0.410626543225\n",
      "{'en__alpha': 1e-05, 'en__l1_ratio': 1}\n",
      "Model 32\n",
      "Removing old file\n",
      "Make grid search...\n",
      "Fitting 5 folds for each of 99 candidates, totalling 495 fits\n"
     ]
    },
    {
     "name": "stderr",
     "output_type": "stream",
     "text": [
      "[Parallel(n_jobs=-1)]: Done  42 tasks      | elapsed:    3.0s\n",
      "[Parallel(n_jobs=-1)]: Done 192 tasks      | elapsed:   13.5s\n",
      "[Parallel(n_jobs=-1)]: Done 442 tasks      | elapsed:   31.1s\n",
      "[Parallel(n_jobs=-1)]: Done 495 out of 495 | elapsed:   34.6s finished\n"
     ]
    },
    {
     "name": "stdout",
     "output_type": "stream",
     "text": [
      "0.428968053323\n",
      "{'en__alpha': 1e-05, 'en__l1_ratio': 1}\n",
      "Model 33\n",
      "Removing old file\n",
      "Make grid search...\n",
      "Fitting 5 folds for each of 99 candidates, totalling 495 fits\n"
     ]
    },
    {
     "name": "stderr",
     "output_type": "stream",
     "text": [
      "[Parallel(n_jobs=-1)]: Done  42 tasks      | elapsed:    3.0s\n",
      "[Parallel(n_jobs=-1)]: Done 192 tasks      | elapsed:   13.6s\n",
      "[Parallel(n_jobs=-1)]: Done 442 tasks      | elapsed:   31.3s\n",
      "[Parallel(n_jobs=-1)]: Done 495 out of 495 | elapsed:   35.0s finished\n"
     ]
    },
    {
     "name": "stdout",
     "output_type": "stream",
     "text": [
      "0.411791448025\n",
      "{'en__alpha': 1e-05, 'en__l1_ratio': 1}\n",
      "Model 34\n",
      "Removing old file\n",
      "Make grid search...\n",
      "Fitting 5 folds for each of 99 candidates, totalling 495 fits\n"
     ]
    },
    {
     "name": "stderr",
     "output_type": "stream",
     "text": [
      "[Parallel(n_jobs=-1)]: Done  76 tasks      | elapsed:    4.6s\n",
      "[Parallel(n_jobs=-1)]: Done 376 tasks      | elapsed:   21.3s\n",
      "[Parallel(n_jobs=-1)]: Done 488 out of 495 | elapsed:   27.9s remaining:    0.4s\n",
      "[Parallel(n_jobs=-1)]: Done 495 out of 495 | elapsed:   28.1s finished\n"
     ]
    },
    {
     "name": "stdout",
     "output_type": "stream",
     "text": [
      "0.416612900894\n",
      "{'en__alpha': 0.01, 'en__l1_ratio': 1}\n",
      "Model 35\n",
      "Removing old file\n",
      "Make grid search...\n",
      "Fitting 5 folds for each of 99 candidates, totalling 495 fits\n"
     ]
    },
    {
     "name": "stderr",
     "output_type": "stream",
     "text": [
      "[Parallel(n_jobs=-1)]: Done  76 tasks      | elapsed:    4.5s\n",
      "[Parallel(n_jobs=-1)]: Done 376 tasks      | elapsed:   21.3s\n",
      "[Parallel(n_jobs=-1)]: Done 488 out of 495 | elapsed:   27.3s remaining:    0.4s\n",
      "[Parallel(n_jobs=-1)]: Done 495 out of 495 | elapsed:   27.6s finished\n"
     ]
    },
    {
     "name": "stdout",
     "output_type": "stream",
     "text": [
      "0.416648148933\n",
      "{'en__alpha': 1e-05, 'en__l1_ratio': 1}\n",
      "Model 36\n",
      "Removing old file\n",
      "Make grid search...\n",
      "Fitting 5 folds for each of 99 candidates, totalling 495 fits\n"
     ]
    },
    {
     "name": "stderr",
     "output_type": "stream",
     "text": [
      "[Parallel(n_jobs=-1)]: Done  42 tasks      | elapsed:    2.9s\n",
      "[Parallel(n_jobs=-1)]: Done 192 tasks      | elapsed:   13.3s\n",
      "[Parallel(n_jobs=-1)]: Done 442 tasks      | elapsed:   30.7s\n",
      "[Parallel(n_jobs=-1)]: Done 495 out of 495 | elapsed:   34.3s finished\n"
     ]
    },
    {
     "name": "stdout",
     "output_type": "stream",
     "text": [
      "0.4367892715\n",
      "{'en__alpha': 1e-05, 'en__l1_ratio': 1}\n",
      "Model 37\n",
      "Removing old file\n",
      "Make grid search...\n",
      "Fitting 5 folds for each of 99 candidates, totalling 495 fits\n"
     ]
    },
    {
     "name": "stderr",
     "output_type": "stream",
     "text": [
      "[Parallel(n_jobs=-1)]: Done  76 tasks      | elapsed:    4.5s\n",
      "[Parallel(n_jobs=-1)]: Done 376 tasks      | elapsed:   21.4s\n",
      "[Parallel(n_jobs=-1)]: Done 488 out of 495 | elapsed:   27.6s remaining:    0.4s\n",
      "[Parallel(n_jobs=-1)]: Done 495 out of 495 | elapsed:   28.0s finished\n"
     ]
    },
    {
     "name": "stdout",
     "output_type": "stream",
     "text": [
      "0.417647301838\n",
      "{'en__alpha': 1e-05, 'en__l1_ratio': 1}\n",
      "Model 38\n",
      "Removing old file\n",
      "Make grid search...\n",
      "Fitting 5 folds for each of 99 candidates, totalling 495 fits\n"
     ]
    },
    {
     "name": "stderr",
     "output_type": "stream",
     "text": [
      "[Parallel(n_jobs=-1)]: Done  76 tasks      | elapsed:    4.5s\n",
      "[Parallel(n_jobs=-1)]: Done 376 tasks      | elapsed:   21.3s\n",
      "[Parallel(n_jobs=-1)]: Done 488 out of 495 | elapsed:   27.7s remaining:    0.4s\n",
      "[Parallel(n_jobs=-1)]: Done 495 out of 495 | elapsed:   27.9s finished\n"
     ]
    },
    {
     "name": "stdout",
     "output_type": "stream",
     "text": [
      "0.430570649372\n",
      "{'en__alpha': 1e-05, 'en__l1_ratio': 1}\n",
      "Model 39\n",
      "Removing old file\n",
      "Make grid search...\n",
      "Fitting 5 folds for each of 99 candidates, totalling 495 fits\n"
     ]
    },
    {
     "name": "stderr",
     "output_type": "stream",
     "text": [
      "[Parallel(n_jobs=-1)]: Done  76 tasks      | elapsed:    4.6s\n",
      "[Parallel(n_jobs=-1)]: Done 376 tasks      | elapsed:   21.5s\n",
      "[Parallel(n_jobs=-1)]: Done 488 out of 495 | elapsed:   27.6s remaining:    0.4s\n",
      "[Parallel(n_jobs=-1)]: Done 495 out of 495 | elapsed:   28.0s finished\n"
     ]
    },
    {
     "name": "stdout",
     "output_type": "stream",
     "text": [
      "0.430130525\n",
      "{'en__alpha': 1e-05, 'en__l1_ratio': 1}\n",
      "Model 40\n",
      "Removing old file\n",
      "Make grid search...\n",
      "Fitting 5 folds for each of 99 candidates, totalling 495 fits\n"
     ]
    },
    {
     "name": "stderr",
     "output_type": "stream",
     "text": [
      "[Parallel(n_jobs=-1)]: Done  42 tasks      | elapsed:    3.0s\n",
      "[Parallel(n_jobs=-1)]: Done 192 tasks      | elapsed:   13.5s\n",
      "[Parallel(n_jobs=-1)]: Done 442 tasks      | elapsed:   31.2s\n",
      "[Parallel(n_jobs=-1)]: Done 495 out of 495 | elapsed:   34.8s finished\n"
     ]
    },
    {
     "name": "stdout",
     "output_type": "stream",
     "text": [
      "0.43637309067\n",
      "{'en__alpha': 1e-05, 'en__l1_ratio': 1}\n",
      "Model 41\n",
      "Removing old file\n",
      "Make grid search...\n",
      "Fitting 5 folds for each of 99 candidates, totalling 495 fits\n"
     ]
    },
    {
     "name": "stderr",
     "output_type": "stream",
     "text": [
      "[Parallel(n_jobs=-1)]: Done  76 tasks      | elapsed:    4.6s\n",
      "[Parallel(n_jobs=-1)]: Done 376 tasks      | elapsed:   21.5s\n",
      "[Parallel(n_jobs=-1)]: Done 488 out of 495 | elapsed:   27.8s remaining:    0.4s\n",
      "[Parallel(n_jobs=-1)]: Done 495 out of 495 | elapsed:   28.0s finished\n"
     ]
    },
    {
     "name": "stdout",
     "output_type": "stream",
     "text": [
      "0.413796927821\n",
      "{'en__alpha': 1e-05, 'en__l1_ratio': 1}\n",
      "Model 42\n",
      "Removing old file\n",
      "Make grid search...\n",
      "Fitting 5 folds for each of 99 candidates, totalling 495 fits\n"
     ]
    },
    {
     "name": "stderr",
     "output_type": "stream",
     "text": [
      "[Parallel(n_jobs=-1)]: Done  42 tasks      | elapsed:    3.0s\n",
      "[Parallel(n_jobs=-1)]: Done 192 tasks      | elapsed:   13.7s\n",
      "[Parallel(n_jobs=-1)]: Done 442 tasks      | elapsed:   31.1s\n",
      "[Parallel(n_jobs=-1)]: Done 495 out of 495 | elapsed:   34.7s finished\n"
     ]
    },
    {
     "name": "stdout",
     "output_type": "stream",
     "text": [
      "0.424072954884\n",
      "{'en__alpha': 1e-05, 'en__l1_ratio': 1}\n",
      "Model 43\n",
      "Removing old file\n",
      "Make grid search...\n",
      "Fitting 5 folds for each of 99 candidates, totalling 495 fits\n"
     ]
    },
    {
     "name": "stderr",
     "output_type": "stream",
     "text": [
      "[Parallel(n_jobs=-1)]: Done  76 tasks      | elapsed:    4.6s\n",
      "[Parallel(n_jobs=-1)]: Done 376 tasks      | elapsed:   21.6s\n",
      "[Parallel(n_jobs=-1)]: Done 488 out of 495 | elapsed:   27.8s remaining:    0.4s\n",
      "[Parallel(n_jobs=-1)]: Done 495 out of 495 | elapsed:   28.1s finished\n"
     ]
    },
    {
     "name": "stdout",
     "output_type": "stream",
     "text": [
      "0.412842708793\n",
      "{'en__alpha': 1e-05, 'en__l1_ratio': 1}\n",
      "Model 44\n",
      "Removing old file\n",
      "Make grid search...\n",
      "Fitting 5 folds for each of 99 candidates, totalling 495 fits\n"
     ]
    },
    {
     "name": "stderr",
     "output_type": "stream",
     "text": [
      "[Parallel(n_jobs=-1)]: Done  42 tasks      | elapsed:    3.0s\n",
      "[Parallel(n_jobs=-1)]: Done 192 tasks      | elapsed:   13.5s\n",
      "[Parallel(n_jobs=-1)]: Done 442 tasks      | elapsed:   30.9s\n",
      "[Parallel(n_jobs=-1)]: Done 495 out of 495 | elapsed:   34.7s finished\n"
     ]
    },
    {
     "name": "stdout",
     "output_type": "stream",
     "text": [
      "0.405499524117\n",
      "{'en__alpha': 1e-05, 'en__l1_ratio': 1}\n",
      "Model 45\n",
      "Removing old file\n",
      "Make grid search...\n",
      "Fitting 5 folds for each of 99 candidates, totalling 495 fits\n"
     ]
    },
    {
     "name": "stderr",
     "output_type": "stream",
     "text": [
      "[Parallel(n_jobs=-1)]: Done  42 tasks      | elapsed:    3.0s\n",
      "[Parallel(n_jobs=-1)]: Done 192 tasks      | elapsed:   13.6s\n",
      "[Parallel(n_jobs=-1)]: Done 442 tasks      | elapsed:   31.2s\n",
      "[Parallel(n_jobs=-1)]: Done 495 out of 495 | elapsed:   34.8s finished\n"
     ]
    },
    {
     "name": "stdout",
     "output_type": "stream",
     "text": [
      "0.399921881832\n",
      "{'en__alpha': 1e-05, 'en__l1_ratio': 1}\n",
      "Model 46\n",
      "Removing old file\n",
      "Make grid search...\n",
      "Fitting 5 folds for each of 99 candidates, totalling 495 fits\n"
     ]
    },
    {
     "name": "stderr",
     "output_type": "stream",
     "text": [
      "[Parallel(n_jobs=-1)]: Done  76 tasks      | elapsed:    4.5s\n",
      "[Parallel(n_jobs=-1)]: Done 376 tasks      | elapsed:   21.5s\n",
      "[Parallel(n_jobs=-1)]: Done 488 out of 495 | elapsed:   28.1s remaining:    0.4s\n",
      "[Parallel(n_jobs=-1)]: Done 495 out of 495 | elapsed:   28.3s finished\n"
     ]
    },
    {
     "name": "stdout",
     "output_type": "stream",
     "text": [
      "0.428881265044\n",
      "{'en__alpha': 1e-05, 'en__l1_ratio': 1}\n",
      "Model 47\n",
      "Removing old file\n",
      "Make grid search...\n",
      "Fitting 5 folds for each of 99 candidates, totalling 495 fits\n"
     ]
    },
    {
     "name": "stderr",
     "output_type": "stream",
     "text": [
      "[Parallel(n_jobs=-1)]: Done  42 tasks      | elapsed:    2.9s\n",
      "[Parallel(n_jobs=-1)]: Done 192 tasks      | elapsed:   13.3s\n",
      "[Parallel(n_jobs=-1)]: Done 442 tasks      | elapsed:   31.0s\n",
      "[Parallel(n_jobs=-1)]: Done 495 out of 495 | elapsed:   34.6s finished\n"
     ]
    },
    {
     "name": "stdout",
     "output_type": "stream",
     "text": [
      "0.420619087797\n",
      "{'en__alpha': 1e-05, 'en__l1_ratio': 1}\n",
      "Model 48\n",
      "Removing old file\n",
      "Make grid search...\n",
      "Fitting 5 folds for each of 99 candidates, totalling 495 fits\n"
     ]
    },
    {
     "name": "stderr",
     "output_type": "stream",
     "text": [
      "[Parallel(n_jobs=-1)]: Done  76 tasks      | elapsed:    4.5s\n",
      "[Parallel(n_jobs=-1)]: Done 376 tasks      | elapsed:   21.4s\n",
      "[Parallel(n_jobs=-1)]: Done 488 out of 495 | elapsed:   27.7s remaining:    0.4s\n",
      "[Parallel(n_jobs=-1)]: Done 495 out of 495 | elapsed:   28.0s finished\n"
     ]
    },
    {
     "name": "stdout",
     "output_type": "stream",
     "text": [
      "0.422998262574\n",
      "{'en__alpha': 1e-05, 'en__l1_ratio': 1}\n",
      "Model 49\n",
      "Removing old file\n",
      "Make grid search...\n",
      "Fitting 5 folds for each of 99 candidates, totalling 495 fits\n"
     ]
    },
    {
     "name": "stderr",
     "output_type": "stream",
     "text": [
      "[Parallel(n_jobs=-1)]: Done  76 tasks      | elapsed:    4.6s\n",
      "[Parallel(n_jobs=-1)]: Done 376 tasks      | elapsed:   21.2s\n",
      "[Parallel(n_jobs=-1)]: Done 488 out of 495 | elapsed:   27.4s remaining:    0.4s\n",
      "[Parallel(n_jobs=-1)]: Done 495 out of 495 | elapsed:   27.6s finished\n"
     ]
    },
    {
     "name": "stdout",
     "output_type": "stream",
     "text": [
      "0.410802909108\n",
      "{'en__alpha': 1e-05, 'en__l1_ratio': 1}\n",
      "############# Done\n",
      "time: 25min 27s\n"
     ]
    }
   ],
   "source": [
    "def woker(p):\n",
    "    f1 = p[0]\n",
    "    f2 = p[1]\n",
    "    nf = f1 + '_' + f2\n",
    "    train[nf] = train[f1] * train[f2]\n",
    "    return nf\n",
    "\n",
    "# Генерим признаки\n",
    "pairs = [(f1,f2) for f1, f2 in itertools.combinations(feat_numb_top150, r=2)]\n",
    "\n",
    "model_score_list = list()\n",
    "model_pairs_list = list()\n",
    "np.random.seed(42)\n",
    "\n",
    "numb_of_model = 50\n",
    "\n",
    "for i in np.arange(numb_of_model):\n",
    "    print(\"Model\", i)\n",
    "    t = np.random.choice(len(pairs), 300)\n",
    "    pairs_sample = np.array(pairs)[t]\n",
    "    pairs_col = [woker(p) for p in pairs_sample]\n",
    "    m = pickle_check_model(feat_numb_top150 + pairs_col, '6_model.pkl', bremove=True)\n",
    "    model_score_list.append(m.best_score_)\n",
    "    model_pairs_list.append(pairs_col)\n",
    "print(\"############# Done\")"
   ]
  },
  {
   "cell_type": "code",
   "execution_count": 20,
   "metadata": {
    "collapsed": false
   },
   "outputs": [
    {
     "name": "stdout",
     "output_type": "stream",
     "text": [
      "time: 5.68 ms\n"
     ]
    }
   ],
   "source": [
    "if not os.path.isfile('./../tmp/model_score_list.pkl'):\n",
    "    with open('./../tmp/model_score_list.pkl', 'wb') as f:\n",
    "        pickle.dump(model_score_list, f)\n",
    "    with open('./../tmp/model_pairs_list.pkl', 'wb') as f:\n",
    "        pickle.dump(model_pairs_list, f)"
   ]
  },
  {
   "cell_type": "code",
   "execution_count": 30,
   "metadata": {
    "collapsed": false
   },
   "outputs": [
    {
     "data": {
      "text/plain": [
       "Int64Index([23, 10, 36, 40, 2, 38, 39, 30, 21, 32], dtype='int64')"
      ]
     },
     "execution_count": 30,
     "metadata": {},
     "output_type": "execute_result"
    },
    {
     "name": "stderr",
     "output_type": "stream",
     "text": [
      "/home/subaevdi/anaconda3/lib/python3.6/site-packages/matplotlib/font_manager.py:1297: UserWarning: findfont: Font family ['sans-serif'] not found. Falling back to DejaVu Sans\n",
      "  (prop.get_family(), self.defaultFamily[fontext]))\n"
     ]
    },
    {
     "data": {
      "image/png": "[encoded data removed]",
      "text/plain": [
       "<matplotlib.figure.Figure at 0x7fb2c3bc9cc0>"
      ]
     },
     "metadata": {},
     "output_type": "display_data"
    },
    {
     "name": "stdout",
     "output_type": "stream",
     "text": [
      "time: 193 ms\n"
     ]
    }
   ],
   "source": [
    "df_tmp = pd.DataFrame({'scr':model_score_list})\n",
    "plt.plot(df_tmp.sort_values('scr', ascending=False).values)\n",
    "df_tmp.sort_values('scr', ascending=False).head(10).index"
   ]
  },
  {
   "cell_type": "code",
   "execution_count": 32,
   "metadata": {
    "collapsed": false
   },
   "outputs": [
    {
     "name": "stdout",
     "output_type": "stream",
     "text": [
      "Removing old file\n",
      "Make grid search...\n",
      "Fitting 5 folds for each of 99 candidates, totalling 495 fits\n"
     ]
    },
    {
     "name": "stderr",
     "output_type": "stream",
     "text": [
      "[Parallel(n_jobs=-1)]: Done  76 tasks      | elapsed:    4.3s\n",
      "[Parallel(n_jobs=-1)]: Done 376 tasks      | elapsed:   21.1s\n",
      "[Parallel(n_jobs=-1)]: Done 488 out of 495 | elapsed:   27.3s remaining:    0.4s\n"
     ]
    },
    {
     "name": "stdout",
     "output_type": "stream",
     "text": [
      "0.442851104984\n",
      "{'en__alpha': 0.01, 'en__l1_ratio': 1}\n",
      "time: 28 s\n"
     ]
    },
    {
     "name": "stderr",
     "output_type": "stream",
     "text": [
      "[Parallel(n_jobs=-1)]: Done 495 out of 495 | elapsed:   27.7s finished\n"
     ]
    }
   ],
   "source": [
    "m = pickle_check_model(feat_numb_top150 + model_pairs_list[23], '6_model.pkl', bremove=True)"
   ]
  },
  {
   "cell_type": "code",
   "execution_count": 47,
   "metadata": {
    "collapsed": false
   },
   "outputs": [
    {
     "name": "stdout",
     "output_type": "stream",
     "text": [
      "time: 38.1 ms\n"
     ]
    }
   ],
   "source": [
    "pairs_in_model = list()\n",
    "for i in [23, 10, 36, 40, 2, 38, 39, 30, 21, 32]:\n",
    "    a = m.best_estimator_.steps[0][1].coef_\n",
    "    df_tmp = pd.DataFrame({'col':feat_numb_top150 + model_pairs_list[i], 'val':a})\n",
    "    df_tmp['abs_val'] = np.abs(df_tmp.val)\n",
    "    df_tmp = df_tmp.sort_values('abs_val', ascending=False).reset_index()\n",
    "    pairs_in_model.append([x for x in df_tmp.col[:50] if '_' in x])\n",
    "    #plt.plot(df_tmp.abs_val)\n",
    "    #plt.title(str(i))\n",
    "    #plt.show()\n",
    "    "
   ]
  },
  {
   "cell_type": "code",
   "execution_count": 67,
   "metadata": {
    "collapsed": false
   },
   "outputs": [
    {
     "name": "stdout",
     "output_type": "stream",
     "text": [
      "time: 1.56 ms\n"
     ]
    }
   ],
   "source": [
    "a = sum(pairs_in_model, [])\n",
    "pairs_in_top = list(np.unique(a))"
   ]
  },
  {
   "cell_type": "code",
   "execution_count": 68,
   "metadata": {
    "collapsed": false
   },
   "outputs": [
    {
     "name": "stdout",
     "output_type": "stream",
     "text": [
      "Make grid search...\n",
      "Fitting 5 folds for each of 99 candidates, totalling 495 fits\n"
     ]
    },
    {
     "name": "stderr",
     "output_type": "stream",
     "text": [
      "[Parallel(n_jobs=-1)]: Done  76 tasks      | elapsed:    2.7s\n",
      "[Parallel(n_jobs=-1)]: Done 376 tasks      | elapsed:   15.7s\n",
      "[Parallel(n_jobs=-1)]: Done 488 out of 495 | elapsed:   20.4s remaining:    0.3s\n",
      "[Parallel(n_jobs=-1)]: Done 495 out of 495 | elapsed:   20.6s finished\n"
     ]
    },
    {
     "name": "stdout",
     "output_type": "stream",
     "text": [
      "0.444327039368\n",
      "{'en__alpha': 1e-05, 'en__l1_ratio': 1}\n",
      "time: 20.9 s\n"
     ]
    }
   ],
   "source": [
    "m = pickle_check_model(feat_numb_top150 + pairs_in_top, '7_model.pkl')"
   ]
  },
  {
   "cell_type": "code",
   "execution_count": 69,
   "metadata": {
    "collapsed": false
   },
   "outputs": [
    {
     "name": "stdout",
     "output_type": "stream",
     "text": [
      "Make grid search...\n",
      "Fitting 5 folds for each of 99 candidates, totalling 495 fits\n"
     ]
    },
    {
     "name": "stderr",
     "output_type": "stream",
     "text": [
      "[Parallel(n_jobs=-1)]: Done  76 tasks      | elapsed:    4.7s\n",
      "[Parallel(n_jobs=-1)]: Done 376 tasks      | elapsed:   23.6s\n",
      "[Parallel(n_jobs=-1)]: Done 488 out of 495 | elapsed:   30.6s remaining:    0.4s\n"
     ]
    },
    {
     "name": "stdout",
     "output_type": "stream",
     "text": [
      "0.515710463166\n",
      "{'en__alpha': 1e-05, 'en__l1_ratio': 1}\n",
      "time: 31.1 s\n"
     ]
    },
    {
     "name": "stderr",
     "output_type": "stream",
     "text": [
      "[Parallel(n_jobs=-1)]: Done 495 out of 495 | elapsed:   30.9s finished\n"
     ]
    }
   ],
   "source": [
    "m = pickle_check_model(feat_numb + pairs_in_top, '8_model.pkl')"
   ]
  },
  {
   "cell_type": "code",
   "execution_count": 71,
   "metadata": {
    "collapsed": false
   },
   "outputs": [
    {
     "name": "stdout",
     "output_type": "stream",
     "text": [
      "time: 5.55 ms\n"
     ]
    }
   ],
   "source": [
    "a = m.best_estimator_.steps[0][1].coef_\n",
    "df_tmp = pd.DataFrame({'col':feat_numb + pairs_in_top, 'val':a})\n",
    "df_tmp['abs_val'] = np.abs(df_tmp.val)\n",
    "df_tmp = df_tmp.sort_values('abs_val', ascending=False).reset_index()"
   ]
  },
  {
   "cell_type": "markdown",
   "metadata": {},
   "source": [
    "## Двух этапный SGD\n",
    "1. Обучем SGD на feat_numb\n",
    "2. Вычислим ошибку $$y_{err} = y - y_{hat}$$\n",
    "3. Обучим $y_{pairs} = SGD(feat\\_pairs, y_{err})$\n",
    "4. Конченый прогноз\n",
    "$$y_{end} = y_{hat} + y_{pairs} $$\n",
    "\n",
    "$$y_{hat} =w_0 + w*X_{feat\\_numb}, min(Error(y, y_{hat})) $$\n",
    "$$y_{pairs} =z_0 + z*X_{feat\\_pairs} , min(Error( y - y_{hat}, y_{pairs} ))$$\n",
    "\n",
    "$$ y_{hat} + y_{pairs} = w_0 + w*X_{feat\\_numb} + z_0 + z*X_{feat\\_pairs} $$\n"
   ]
  },
  {
   "cell_type": "code",
   "execution_count": 77,
   "metadata": {
    "collapsed": false
   },
   "outputs": [
    {
     "name": "stdout",
     "output_type": "stream",
     "text": [
      "time: 664 ms\n"
     ]
    }
   ],
   "source": [
    "kf = KFold(n_splits=10, shuffle=True, random_state=42)\n",
    "clf = SGDRegressor(\n",
    "        loss='squared_loss',\n",
    "        penalty='elasticnet',\n",
    "        alpha=1e-05,\n",
    "        l1_ratio=1,\n",
    "        fit_intercept=True,\n",
    "        n_iter=5,\n",
    "        shuffle=True,\n",
    "        verbose=0, epsilon=0.1, random_state=42, learning_rate='invscaling',\n",
    "        eta0=0.01, power_t=0.25, warm_start=False, average=False)\n",
    "y_hat = cross_val_predict(clf, train[feat_numb], y=train.y, cv=kf)\n",
    "r2_score(train.y, y_hat)\n",
    "\n",
    "y_err = train.y - y_hat "
   ]
  },
  {
   "cell_type": "code",
   "execution_count": 112,
   "metadata": {
    "collapsed": false
   },
   "outputs": [
    {
     "name": "stdout",
     "output_type": "stream",
     "text": [
      "time: 24.7 ms\n"
     ]
    }
   ],
   "source": [
    "#y_pairs = cross_val_predict(clf, train[pairs_in_top], y=y_err, cv=kf)\n",
    "for col in feat_categ:\n",
    "    train[col] = LabelEncoder().fit_transform(train[col])"
   ]
  },
  {
   "cell_type": "code",
   "execution_count": 117,
   "metadata": {
    "collapsed": false,
    "scrolled": true
   },
   "outputs": [
    {
     "data": {
      "text/plain": [
       "0.018730420552245608"
      ]
     },
     "execution_count": 117,
     "metadata": {},
     "output_type": "execute_result"
    },
    {
     "name": "stdout",
     "output_type": "stream",
     "text": [
      "time: 87 ms\n"
     ]
    }
   ],
   "source": [
    "from sklearn.preprocessing import OneHotEncoder, LabelEncoder\n",
    "\n",
    "X = OneHotEncoder().fit_transform(train[feat_categ])\n",
    "y_categ = cross_val_predict(clf, X, y=y_err, cv=kf)\n"
   ]
  },
  {
   "cell_type": "code",
   "execution_count": 120,
   "metadata": {
    "collapsed": false
   },
   "outputs": [
    {
     "data": {
      "text/plain": [
       "0.52710024574362313"
      ]
     },
     "execution_count": 120,
     "metadata": {},
     "output_type": "execute_result"
    },
    {
     "name": "stdout",
     "output_type": "stream",
     "text": [
      "time: 3.41 ms\n"
     ]
    }
   ],
   "source": [
    "r2_score(train.y, y_categ + y_hat)"
   ]
  },
  {
   "cell_type": "code",
   "execution_count": 121,
   "metadata": {
    "collapsed": false
   },
   "outputs": [
    {
     "name": "stdout",
     "output_type": "stream",
     "text": [
      "time: 15 ms\n"
     ]
    }
   ],
   "source": [
    "def check_model2(X, y):\n",
    "    classifier = lambda: SGDRegressor(\n",
    "        loss='squared_loss',\n",
    "        penalty='elasticnet',\n",
    "        alpha=0.0005,\n",
    "        l1_ratio=0.15,\n",
    "        fit_intercept=True,\n",
    "        n_iter=5,\n",
    "        shuffle=True,\n",
    "        verbose=0, epsilon=0.1, random_state=42, learning_rate='invscaling',\n",
    "        eta0=0.01, power_t=0.25, warm_start=False, average=False)\n",
    "    \n",
    "\n",
    "    model = Pipeline(steps=[\n",
    "        #('ss', StandardScaler()),\n",
    "        ('en', classifier())\n",
    "    ])\n",
    "\n",
    "    parameters = {\n",
    "        'en__alpha': [0.00001, 0.0001, 0.001, 0.01, 0.02, 0.1, 0.5, 0.6, 0.7, 0.9, 1],\n",
    "        'en__l1_ratio': [0, 0.001, 0.01, 0.1, 0.3, 0.5, 0.75, 0.9, 1]\n",
    "    }\n",
    "    #parameters = {\n",
    "    #    'en__alpha': [0.00001, 0.0001],\n",
    "    #    'en__l1_ratio': [0, 0.0001, 0.001]\n",
    "    #}\n",
    "\n",
    "    folder = KFold(n_splits=5, shuffle=True, random_state=42)\n",
    "    \n",
    "    grid_search = GridSearchCV(\n",
    "        model, \n",
    "        parameters,\n",
    "        scoring='r2',\n",
    "        cv=folder, \n",
    "        n_jobs=-1, \n",
    "        verbose=1)\n",
    "    grid_search = grid_search.fit(X, y)\n",
    "    \n",
    "    return grid_search"
   ]
  },
  {
   "cell_type": "code",
   "execution_count": 122,
   "metadata": {
    "collapsed": false
   },
   "outputs": [
    {
     "name": "stdout",
     "output_type": "stream",
     "text": [
      "Fitting 5 folds for each of 99 candidates, totalling 495 fits\n",
      "time: 1.45 s\n"
     ]
    },
    {
     "name": "stderr",
     "output_type": "stream",
     "text": [
      "[Parallel(n_jobs=-1)]: Done 495 out of 495 | elapsed:    1.3s finished\n"
     ]
    }
   ],
   "source": [
    "m = check_model2(X, y_err)"
   ]
  },
  {
   "cell_type": "code",
   "execution_count": 124,
   "metadata": {
    "collapsed": false
   },
   "outputs": [
    {
     "data": {
      "text/plain": [
       "0.0085707226351540936"
      ]
     },
     "execution_count": 124,
     "metadata": {},
     "output_type": "execute_result"
    },
    {
     "name": "stdout",
     "output_type": "stream",
     "text": [
      "time: 2.26 ms\n"
     ]
    }
   ],
   "source": [
    "m.best_score_"
   ]
  },
  {
   "cell_type": "code",
   "execution_count": null,
   "metadata": {
    "collapsed": true
   },
   "outputs": [],
   "source": []
  }
 ],
 "metadata": {
  "kernelspec": {
   "display_name": "Python 3",
   "language": "python",
   "name": "python3"
  },
  "language_info": {
   "codemirror_mode": {
    "name": "ipython",
    "version": 3
   },
   "file_extension": ".py",
   "mimetype": "text/x-python",
   "name": "python",
   "nbconvert_exporter": "python",
   "pygments_lexer": "ipython3",
   "version": "3.6.0"
  }
 },
 "nbformat": 4,
 "nbformat_minor": 2
}
